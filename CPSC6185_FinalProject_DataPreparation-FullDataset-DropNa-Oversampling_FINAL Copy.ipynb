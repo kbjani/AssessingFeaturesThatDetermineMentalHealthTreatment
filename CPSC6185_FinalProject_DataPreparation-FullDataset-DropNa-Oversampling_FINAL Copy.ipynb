{
 "cells": [
  {
   "cell_type": "code",
   "execution_count": 102,
   "id": "15e797e8",
   "metadata": {},
   "outputs": [],
   "source": [
    "# Loading the dataset\n",
    "\n",
    "import pandas as pd\n",
    "import numpy as np\n",
    "from sklearn.utils import resample\n",
    "\n",
    "df = pd.read_csv(\"survey.csv\").dropna()\n"
   ]
  },
  {
   "cell_type": "code",
   "execution_count": 103,
   "id": "087654ad",
   "metadata": {},
   "outputs": [
    {
     "name": "stdout",
     "output_type": "stream",
     "text": [
      "(86, 27)\n"
     ]
    }
   ],
   "source": [
    "# Previewing the data dimensions\n",
    "print(df.shape)"
   ]
  },
  {
   "cell_type": "code",
   "execution_count": 104,
   "id": "58e212b7",
   "metadata": {},
   "outputs": [
    {
     "name": "stdout",
     "output_type": "stream",
     "text": [
      "(132, 27)\n"
     ]
    }
   ],
   "source": [
    "#oversampling\n",
    "df_minority = df[df['treatment'] == 'No']\n",
    "df_majority = df[df['treatment'] == 'Yes']\n",
    "\n",
    "df_minority_upsampled = resample(\n",
    "    df_minority,\n",
    "    replace = True,\n",
    "    n_samples = len(df_majority),\n",
    "    random_state = 42)\n",
    "\n",
    "df_balanced = pd.concat([df_majority, df_minority_upsampled])\n",
    "\n",
    "df_balanced = df_balanced.sample(frac=1, random_state=42)\n",
    "\n",
    "print(df_balanced.shape)"
   ]
  },
  {
   "cell_type": "code",
   "execution_count": 105,
   "id": "159c8842",
   "metadata": {},
   "outputs": [
    {
     "name": "stdout",
     "output_type": "stream",
     "text": [
      "Index(['Timestamp', 'Age', 'Gender', 'Country', 'state', 'self_employed',\n",
      "       'family_history', 'treatment', 'work_interfere', 'no_employees',\n",
      "       'remote_work', 'tech_company', 'benefits', 'care_options',\n",
      "       'wellness_program', 'seek_help', 'anonymity', 'leave',\n",
      "       'mental_health_consequence', 'phys_health_consequence', 'coworkers',\n",
      "       'supervisor', 'mental_health_interview', 'phys_health_interview',\n",
      "       'mental_vs_physical', 'obs_consequence', 'comments'],\n",
      "      dtype='object')\n"
     ]
    }
   ],
   "source": [
    "# Previewing the data columns\n",
    "print(df_balanced.columns)"
   ]
  },
  {
   "cell_type": "code",
   "execution_count": 106,
   "id": "7fea9367",
   "metadata": {},
   "outputs": [
    {
     "name": "stdout",
     "output_type": "stream",
     "text": [
      "<class 'pandas.core.frame.DataFrame'>\n",
      "Int64Index: 86 entries, 24 to 1249\n",
      "Data columns (total 27 columns):\n",
      " #   Column                     Non-Null Count  Dtype \n",
      "---  ------                     --------------  ----- \n",
      " 0   Timestamp                  86 non-null     object\n",
      " 1   Age                        86 non-null     int64 \n",
      " 2   Gender                     86 non-null     object\n",
      " 3   Country                    86 non-null     object\n",
      " 4   state                      86 non-null     object\n",
      " 5   self_employed              86 non-null     object\n",
      " 6   family_history             86 non-null     object\n",
      " 7   treatment                  86 non-null     object\n",
      " 8   work_interfere             86 non-null     object\n",
      " 9   no_employees               86 non-null     object\n",
      " 10  remote_work                86 non-null     object\n",
      " 11  tech_company               86 non-null     object\n",
      " 12  benefits                   86 non-null     object\n",
      " 13  care_options               86 non-null     object\n",
      " 14  wellness_program           86 non-null     object\n",
      " 15  seek_help                  86 non-null     object\n",
      " 16  anonymity                  86 non-null     object\n",
      " 17  leave                      86 non-null     object\n",
      " 18  mental_health_consequence  86 non-null     object\n",
      " 19  phys_health_consequence    86 non-null     object\n",
      " 20  coworkers                  86 non-null     object\n",
      " 21  supervisor                 86 non-null     object\n",
      " 22  mental_health_interview    86 non-null     object\n",
      " 23  phys_health_interview      86 non-null     object\n",
      " 24  mental_vs_physical         86 non-null     object\n",
      " 25  obs_consequence            86 non-null     object\n",
      " 26  comments                   86 non-null     object\n",
      "dtypes: int64(1), object(26)\n",
      "memory usage: 18.8+ KB\n",
      "None\n"
     ]
    }
   ],
   "source": [
    "# Previewing the data quick summary\n",
    "print(df.info())"
   ]
  },
  {
   "cell_type": "code",
   "execution_count": 107,
   "id": "11d7caeb",
   "metadata": {},
   "outputs": [
    {
     "name": "stdout",
     "output_type": "stream",
     "text": [
      "                Timestamp  Age  Gender        Country state self_employed  \\\n",
      "1078  2014-08-29 14:59:43   37  female  United States    NJ            No   \n",
      "849   2014-08-28 16:57:46   40       M  United States    IL            No   \n",
      "373   2014-08-27 15:22:20   32       F  United States    WA            No   \n",
      "627   2014-08-28 02:17:42   34    male  United States    CA           Yes   \n",
      "568   2014-08-27 19:45:36   31    male  United States    CA            No   \n",
      "\n",
      "     family_history treatment work_interfere    no_employees  ...  \\\n",
      "1078            Yes       Yes      Sometimes          26-100  ...   \n",
      "849              No        No         Rarely  More than 1000  ...   \n",
      "373              No       Yes      Sometimes          26-100  ...   \n",
      "627             Yes       Yes      Sometimes            6-25  ...   \n",
      "568             Yes        No      Sometimes  More than 1000  ...   \n",
      "\n",
      "              leave mental_health_consequence phys_health_consequence  \\\n",
      "1078     Don't know                       Yes                   Maybe   \n",
      "849      Don't know                        No                      No   \n",
      "373   Somewhat easy                     Maybe                      No   \n",
      "627   Somewhat easy                        No                      No   \n",
      "568   Somewhat easy                     Maybe                      No   \n",
      "\n",
      "         coworkers    supervisor mental_health_interview  \\\n",
      "1078            No            No                      No   \n",
      "849   Some of them  Some of them                      No   \n",
      "373   Some of them           Yes                      No   \n",
      "627   Some of them  Some of them                      No   \n",
      "568             No  Some of them                      No   \n",
      "\n",
      "     phys_health_interview mental_vs_physical obs_consequence  \\\n",
      "1078                 Maybe         Don't know              No   \n",
      "849                  Maybe         Don't know              No   \n",
      "373                  Maybe                Yes              No   \n",
      "627                     No                 No              No   \n",
      "568                    Yes                 No              No   \n",
      "\n",
      "                                               comments  \n",
      "1078  If a man in tech is afraid of speaking up abou...  \n",
      "849   While not personally affected I do have immedi...  \n",
      "373   My employer does what they can providing a wel...  \n",
      "627   thanks for what you're doing. FYI these questi...  \n",
      "568   Mental health issue I have dealt with: acute d...  \n",
      "\n",
      "[5 rows x 27 columns]\n"
     ]
    }
   ],
   "source": [
    "# Previewing the data - viewing first 5 records\n",
    "print(df_balanced.head())"
   ]
  },
  {
   "cell_type": "code",
   "execution_count": 108,
   "id": "a61ef420",
   "metadata": {},
   "outputs": [
    {
     "name": "stdout",
     "output_type": "stream",
     "text": [
      "<class 'pandas.core.frame.DataFrame'>\n",
      "Int64Index: 132 entries, 1078 to 1024\n",
      "Data columns (total 27 columns):\n",
      " #   Column                     Non-Null Count  Dtype \n",
      "---  ------                     --------------  ----- \n",
      " 0   Timestamp                  132 non-null    object\n",
      " 1   Age                        132 non-null    int64 \n",
      " 2   Gender                     132 non-null    object\n",
      " 3   Country                    132 non-null    object\n",
      " 4   state                      132 non-null    object\n",
      " 5   self_employed              132 non-null    object\n",
      " 6   family_history             132 non-null    object\n",
      " 7   treatment                  132 non-null    object\n",
      " 8   work_interfere             132 non-null    object\n",
      " 9   no_employees               132 non-null    object\n",
      " 10  remote_work                132 non-null    object\n",
      " 11  tech_company               132 non-null    object\n",
      " 12  benefits                   132 non-null    object\n",
      " 13  care_options               132 non-null    object\n",
      " 14  wellness_program           132 non-null    object\n",
      " 15  seek_help                  132 non-null    object\n",
      " 16  anonymity                  132 non-null    object\n",
      " 17  leave                      132 non-null    object\n",
      " 18  mental_health_consequence  132 non-null    object\n",
      " 19  phys_health_consequence    132 non-null    object\n",
      " 20  coworkers                  132 non-null    object\n",
      " 21  supervisor                 132 non-null    object\n",
      " 22  mental_health_interview    132 non-null    object\n",
      " 23  phys_health_interview      132 non-null    object\n",
      " 24  mental_vs_physical         132 non-null    object\n",
      " 25  obs_consequence            132 non-null    object\n",
      " 26  comments                   132 non-null    object\n",
      "dtypes: int64(1), object(26)\n",
      "memory usage: 28.9+ KB\n",
      "None\n",
      "Timestamp                    0\n",
      "Age                          0\n",
      "Gender                       0\n",
      "Country                      0\n",
      "state                        0\n",
      "self_employed                0\n",
      "family_history               0\n",
      "treatment                    0\n",
      "work_interfere               0\n",
      "no_employees                 0\n",
      "remote_work                  0\n",
      "tech_company                 0\n",
      "benefits                     0\n",
      "care_options                 0\n",
      "wellness_program             0\n",
      "seek_help                    0\n",
      "anonymity                    0\n",
      "leave                        0\n",
      "mental_health_consequence    0\n",
      "phys_health_consequence      0\n",
      "coworkers                    0\n",
      "supervisor                   0\n",
      "mental_health_interview      0\n",
      "phys_health_interview        0\n",
      "mental_vs_physical           0\n",
      "obs_consequence              0\n",
      "comments                     0\n",
      "dtype: int64\n"
     ]
    }
   ],
   "source": [
    "# Preview the selected dataframe and check null values\n",
    "print(df_balanced.info())\n",
    "print(df_balanced.isnull().sum())"
   ]
  },
  {
   "cell_type": "code",
   "execution_count": 109,
   "id": "cfabb755",
   "metadata": {},
   "outputs": [],
   "source": [
    "# Replace null values in state column with \"Unknown\"\n",
    "df_balanced['state'] = df_balanced['state'].fillna('Unknown')"
   ]
  },
  {
   "cell_type": "code",
   "execution_count": 110,
   "id": "66622cab",
   "metadata": {},
   "outputs": [],
   "source": [
    "# Replace null values in self_employed column with \"Unknown\"\n",
    "df_balanced['self_employed'] = df_balanced['self_employed'].fillna('Unknown')"
   ]
  },
  {
   "cell_type": "code",
   "execution_count": 111,
   "id": "7e46eb74",
   "metadata": {},
   "outputs": [],
   "source": [
    "# Replace null values in work_interfere column with \"Unknown\"\n",
    "df_balanced['work_interfere'] = df_balanced['work_interfere'].fillna('Unknown')"
   ]
  },
  {
   "cell_type": "code",
   "execution_count": 112,
   "id": "644f7738",
   "metadata": {},
   "outputs": [],
   "source": [
    "# Replace null values in work_interfere column with \"Unknown\"\n",
    "df_balanced['comments'] = df_balanced['comments'].fillna('')"
   ]
  },
  {
   "cell_type": "code",
   "execution_count": 113,
   "id": "880a5317",
   "metadata": {},
   "outputs": [],
   "source": [
    "# I decided to fill misisng values with Unknown/empty string (for comments) to avoid dropping any records and losing data.\n",
    "# If needed, these records can be dropped/handled when modeling.\n",
    "# Comments has a significant amount of missing values that were filled with empty strings, so this column may need to be dropped in modeling if needed."
   ]
  },
  {
   "cell_type": "code",
   "execution_count": 114,
   "id": "569677ee",
   "metadata": {},
   "outputs": [
    {
     "name": "stdout",
     "output_type": "stream",
     "text": [
      "Timestamp                    0\n",
      "Age                          0\n",
      "Gender                       0\n",
      "Country                      0\n",
      "state                        0\n",
      "self_employed                0\n",
      "family_history               0\n",
      "treatment                    0\n",
      "work_interfere               0\n",
      "no_employees                 0\n",
      "remote_work                  0\n",
      "tech_company                 0\n",
      "benefits                     0\n",
      "care_options                 0\n",
      "wellness_program             0\n",
      "seek_help                    0\n",
      "anonymity                    0\n",
      "leave                        0\n",
      "mental_health_consequence    0\n",
      "phys_health_consequence      0\n",
      "coworkers                    0\n",
      "supervisor                   0\n",
      "mental_health_interview      0\n",
      "phys_health_interview        0\n",
      "mental_vs_physical           0\n",
      "obs_consequence              0\n",
      "comments                     0\n",
      "dtype: int64\n"
     ]
    }
   ],
   "source": [
    "# Checking that there are no null values in any columns\n",
    "print(df_balanced.isnull().sum())"
   ]
  },
  {
   "cell_type": "code",
   "execution_count": 115,
   "id": "d803d050",
   "metadata": {},
   "outputs": [
    {
     "data": {
      "text/plain": [
       "2014-08-28 16:57:46    6\n",
       "2014-08-28 17:47:49    6\n",
       "2014-08-27 14:39:20    6\n",
       "2014-08-27 16:55:04    5\n",
       "2014-08-27 19:45:36    5\n",
       "                      ..\n",
       "2014-08-27 16:27:47    1\n",
       "2014-08-27 16:01:39    1\n",
       "2014-08-29 12:54:31    1\n",
       "2014-08-27 12:23:59    1\n",
       "2014-08-27 13:35:23    1\n",
       "Name: Timestamp, Length: 85, dtype: int64"
      ]
     },
     "execution_count": 115,
     "metadata": {},
     "output_type": "execute_result"
    }
   ],
   "source": [
    "# Standardizing inconsistent values in columns\n",
    "\n",
    "# Timestamp\n",
    "df_balanced['Timestamp'].unique()\n",
    "df_balanced['Timestamp'].value_counts()"
   ]
  },
  {
   "cell_type": "code",
   "execution_count": 116,
   "id": "280414a9",
   "metadata": {},
   "outputs": [
    {
     "data": {
      "text/plain": [
       "array([37, 40, 32, 34, 31, 27, 46, 25, 29, 38, 30, 39, 33, 42, 44, 55, 45,\n",
       "       26, 41, 50, 35, 49, 56, 36, 48, 43, 21, 23,  8, -1], dtype=int64)"
      ]
     },
     "execution_count": 116,
     "metadata": {},
     "output_type": "execute_result"
    }
   ],
   "source": [
    "# Age\n",
    "df_balanced['Age'].unique()"
   ]
  },
  {
   "cell_type": "code",
   "execution_count": 117,
   "id": "d5c6127f",
   "metadata": {},
   "outputs": [],
   "source": [
    "min_age = 18\n",
    "max_age = 120\n",
    "df_balanced['Age'] = df_balanced['Age'].apply(lambda x: x if min_age <= x <= max_age else np.nan)"
   ]
  },
  {
   "cell_type": "code",
   "execution_count": 118,
   "id": "8e1233d2",
   "metadata": {},
   "outputs": [
    {
     "data": {
      "text/plain": [
       "array([37., 40., 32., 34., 31., 27., 46., 25., 29., 38., 30., 39., 33.,\n",
       "       42., 44., 55., 45., 26., 41., 50., 35., 49., 56., 36., 48., 43.,\n",
       "       21., 23., nan])"
      ]
     },
     "execution_count": 118,
     "metadata": {},
     "output_type": "execute_result"
    }
   ],
   "source": [
    "df_balanced['Age'].unique()\n",
    "\n",
    "# Remains numeric, and any invalid values will just be NaN\n",
    "# Skipped in calculations by default or can be filled with a statistic (mean, median, etc.) or can be dropped"
   ]
  },
  {
   "cell_type": "code",
   "execution_count": 119,
   "id": "7ae83a4f",
   "metadata": {
    "scrolled": true
   },
   "outputs": [
    {
     "data": {
      "text/plain": [
       "Male                  63\n",
       "M                     18\n",
       "male                  14\n",
       "female                10\n",
       "Female                10\n",
       "m                      4\n",
       "F                      3\n",
       "Female (cis)           3\n",
       "cis-female/femme       1\n",
       "Female                 1\n",
       "f                      1\n",
       "A little about you     1\n",
       "Cis Male               1\n",
       "woman                  1\n",
       "p                      1\n",
       "Name: Gender, dtype: int64"
      ]
     },
     "execution_count": 119,
     "metadata": {},
     "output_type": "execute_result"
    }
   ],
   "source": [
    "# Gender\n",
    "df_balanced['Gender'].unique()\n",
    "df_balanced['Gender'].value_counts()"
   ]
  },
  {
   "cell_type": "code",
   "execution_count": 120,
   "id": "2172342d",
   "metadata": {},
   "outputs": [],
   "source": [
    "gender_map = {\n",
    "    # Male variants\n",
    "    'male': 'Male', 'm': 'Male', 'man': 'Male', 'cis male': 'Male', 'cis man': 'Male',\n",
    "    'male ': 'Male', 'msle': 'Male', 'mal': 'Male', 'malr': 'Male', 'maile': 'Male',\n",
    "    'make': 'Male', 'mail': 'Male', 'male (cis)': 'Male', 'm ': 'Male', 'guy (-ish) ^_^': 'Male',\n",
    "    'male leaning androgynous': 'Male', 'ostensibly male, unsure what that really means': 'Male',\n",
    "    'male-ish': 'Male',\n",
    "\n",
    "    # Female variants\n",
    "    'female': 'Female', 'f': 'Female', 'woman': 'Female', 'cis female': 'Female',\n",
    "    'femake': 'Female', 'femail': 'Female', 'female ': 'Female', 'female (cis)': 'Female',\n",
    "    'female (trans)': 'Female', 'trans-female': 'Female', 'trans woman': 'Female',\n",
    "    'cis-female/femme': 'Female', 'cis female': 'Female', 'cisfemale': 'Female',\n",
    "\n",
    "    # Everything else\n",
    "    'queer': 'Other', 'non-binary': 'Other', 'enby': 'Other', 'agender': 'Other',\n",
    "    'androgyne': 'Other', 'genderqueer': 'Other', 'fluid': 'Other', 'nah': 'Other',\n",
    "    'all': 'Other', 'a little about you': 'Other', 'queer/she/they': 'Other',\n",
    "    'something kinda male?': 'Other', 'p': 'Other'\n",
    "}"
   ]
  },
  {
   "cell_type": "code",
   "execution_count": 121,
   "id": "bbdbb75c",
   "metadata": {},
   "outputs": [],
   "source": [
    "df_balanced['Gender'] = df_balanced['Gender'].str.strip().str.lower().map(gender_map).fillna('Other')"
   ]
  },
  {
   "cell_type": "code",
   "execution_count": 122,
   "id": "8302e17f",
   "metadata": {},
   "outputs": [
    {
     "data": {
      "text/plain": [
       "array(['Female', 'Male', 'Other'], dtype=object)"
      ]
     },
     "execution_count": 122,
     "metadata": {},
     "output_type": "execute_result"
    }
   ],
   "source": [
    "df_balanced['Gender'].unique()"
   ]
  },
  {
   "cell_type": "code",
   "execution_count": 123,
   "id": "c6f0029c",
   "metadata": {},
   "outputs": [
    {
     "data": {
      "text/plain": [
       "Male      100\n",
       "Female     30\n",
       "Other       2\n",
       "Name: Gender, dtype: int64"
      ]
     },
     "execution_count": 123,
     "metadata": {},
     "output_type": "execute_result"
    }
   ],
   "source": [
    "df_balanced['Gender'].value_counts()"
   ]
  },
  {
   "cell_type": "code",
   "execution_count": 124,
   "id": "92eaa8bd",
   "metadata": {},
   "outputs": [
    {
     "data": {
      "text/plain": [
       "United States    129\n",
       "Israel             2\n",
       "Bahamas, The       1\n",
       "Name: Country, dtype: int64"
      ]
     },
     "execution_count": 124,
     "metadata": {},
     "output_type": "execute_result"
    }
   ],
   "source": [
    "# Country\n",
    "df_balanced['Country'].unique()\n",
    "df_balanced['Country'].value_counts()"
   ]
  },
  {
   "cell_type": "code",
   "execution_count": 125,
   "id": "bd4752d6",
   "metadata": {},
   "outputs": [
    {
     "data": {
      "text/plain": [
       "CA    25\n",
       "WA    21\n",
       "TN    11\n",
       "IL    11\n",
       "TX     8\n",
       "VA     8\n",
       "OH     6\n",
       "OR     5\n",
       "MD     4\n",
       "IN     4\n",
       "VT     3\n",
       "AL     3\n",
       "GA     3\n",
       "PA     3\n",
       "FL     3\n",
       "NY     2\n",
       "MA     2\n",
       "MN     2\n",
       "WY     2\n",
       "UT     1\n",
       "NJ     1\n",
       "NC     1\n",
       "WI     1\n",
       "MI     1\n",
       "LA     1\n",
       "Name: state, dtype: int64"
      ]
     },
     "execution_count": 125,
     "metadata": {},
     "output_type": "execute_result"
    }
   ],
   "source": [
    "# State\n",
    "df_balanced['state'].unique()\n",
    "df_balanced['state'].value_counts()\n",
    "\n",
    "# Note: \"Unknown\" records may be those who left this field empty in the survey, which could indicate they are not in the US"
   ]
  },
  {
   "cell_type": "code",
   "execution_count": 126,
   "id": "68907c2c",
   "metadata": {},
   "outputs": [
    {
     "data": {
      "text/plain": [
       "No     113\n",
       "Yes     19\n",
       "Name: self_employed, dtype: int64"
      ]
     },
     "execution_count": 126,
     "metadata": {},
     "output_type": "execute_result"
    }
   ],
   "source": [
    "# self_employed\n",
    "df_balanced['self_employed'].unique()\n",
    "df_balanced['self_employed'].value_counts()"
   ]
  },
  {
   "cell_type": "code",
   "execution_count": 127,
   "id": "cc8141f9",
   "metadata": {},
   "outputs": [
    {
     "data": {
      "text/plain": [
       "No     69\n",
       "Yes    63\n",
       "Name: family_history, dtype: int64"
      ]
     },
     "execution_count": 127,
     "metadata": {},
     "output_type": "execute_result"
    }
   ],
   "source": [
    "# family_history\n",
    "df_balanced['family_history'].unique()\n",
    "df_balanced['family_history'].value_counts()"
   ]
  },
  {
   "cell_type": "code",
   "execution_count": 128,
   "id": "260df5c8",
   "metadata": {},
   "outputs": [
    {
     "data": {
      "text/plain": [
       "Yes    66\n",
       "No     66\n",
       "Name: treatment, dtype: int64"
      ]
     },
     "execution_count": 128,
     "metadata": {},
     "output_type": "execute_result"
    }
   ],
   "source": [
    "# treatment\n",
    "df_balanced['treatment'].unique()\n",
    "df_balanced['treatment'].value_counts()"
   ]
  },
  {
   "cell_type": "code",
   "execution_count": 129,
   "id": "9c1cc00a",
   "metadata": {},
   "outputs": [
    {
     "data": {
      "text/plain": [
       "Sometimes    73\n",
       "Never        23\n",
       "Rarely       22\n",
       "Often        14\n",
       "Name: work_interfere, dtype: int64"
      ]
     },
     "execution_count": 129,
     "metadata": {},
     "output_type": "execute_result"
    }
   ],
   "source": [
    "# work_interfere\n",
    "df_balanced['work_interfere'].unique()\n",
    "df_balanced['work_interfere'].value_counts()\n",
    "\n",
    "# Ordinal Categorical Variable"
   ]
  },
  {
   "cell_type": "code",
   "execution_count": 130,
   "id": "cdbafa9d",
   "metadata": {},
   "outputs": [
    {
     "data": {
      "text/plain": [
       "More than 1000    40\n",
       "26-100            29\n",
       "1-5               26\n",
       "6-25              17\n",
       "100-500           17\n",
       "500-1000           3\n",
       "Name: no_employees, dtype: int64"
      ]
     },
     "execution_count": 130,
     "metadata": {},
     "output_type": "execute_result"
    }
   ],
   "source": [
    "# no_employees\n",
    "df_balanced['no_employees'].unique()\n",
    "df_balanced['no_employees'].value_counts()\n",
    "\n",
    "# Ordinal Categorical Variable"
   ]
  },
  {
   "cell_type": "code",
   "execution_count": 131,
   "id": "308dfbbd",
   "metadata": {},
   "outputs": [
    {
     "data": {
      "text/plain": [
       "No     79\n",
       "Yes    53\n",
       "Name: remote_work, dtype: int64"
      ]
     },
     "execution_count": 131,
     "metadata": {},
     "output_type": "execute_result"
    }
   ],
   "source": [
    "# remote_work\n",
    "df_balanced['remote_work'].unique()\n",
    "df_balanced['remote_work'].value_counts()"
   ]
  },
  {
   "cell_type": "code",
   "execution_count": 132,
   "id": "f49d6337",
   "metadata": {},
   "outputs": [
    {
     "data": {
      "text/plain": [
       "Yes    115\n",
       "No      17\n",
       "Name: tech_company, dtype: int64"
      ]
     },
     "execution_count": 132,
     "metadata": {},
     "output_type": "execute_result"
    }
   ],
   "source": [
    "# tech_company\n",
    "df_balanced['tech_company'].unique()\n",
    "df_balanced['tech_company'].value_counts()"
   ]
  },
  {
   "cell_type": "code",
   "execution_count": 133,
   "id": "659eb475",
   "metadata": {},
   "outputs": [
    {
     "data": {
      "text/plain": [
       "Yes           67\n",
       "Don't know    37\n",
       "No            28\n",
       "Name: benefits, dtype: int64"
      ]
     },
     "execution_count": 133,
     "metadata": {},
     "output_type": "execute_result"
    }
   ],
   "source": [
    "# benefits\n",
    "df_balanced['benefits'].unique()\n",
    "df_balanced['benefits'].value_counts()"
   ]
  },
  {
   "cell_type": "code",
   "execution_count": 134,
   "id": "1b6dbc10",
   "metadata": {},
   "outputs": [
    {
     "data": {
      "text/plain": [
       "Yes         63\n",
       "Not sure    35\n",
       "No          34\n",
       "Name: care_options, dtype: int64"
      ]
     },
     "execution_count": 134,
     "metadata": {},
     "output_type": "execute_result"
    }
   ],
   "source": [
    "# care_options\n",
    "df_balanced['care_options'].unique()\n",
    "df_balanced['care_options'].value_counts()"
   ]
  },
  {
   "cell_type": "code",
   "execution_count": 135,
   "id": "a2e198af",
   "metadata": {},
   "outputs": [
    {
     "data": {
      "text/plain": [
       "No            68\n",
       "Yes           41\n",
       "Don't know    23\n",
       "Name: wellness_program, dtype: int64"
      ]
     },
     "execution_count": 135,
     "metadata": {},
     "output_type": "execute_result"
    }
   ],
   "source": [
    "# wellness_program\n",
    "df_balanced['wellness_program'].unique()\n",
    "df_balanced['wellness_program'].value_counts()"
   ]
  },
  {
   "cell_type": "code",
   "execution_count": 136,
   "id": "9e987898",
   "metadata": {},
   "outputs": [
    {
     "data": {
      "text/plain": [
       "Yes           52\n",
       "No            48\n",
       "Don't know    32\n",
       "Name: seek_help, dtype: int64"
      ]
     },
     "execution_count": 136,
     "metadata": {},
     "output_type": "execute_result"
    }
   ],
   "source": [
    "# seek_help\n",
    "df_balanced['seek_help'].unique()\n",
    "df_balanced['seek_help'].value_counts()"
   ]
  },
  {
   "cell_type": "code",
   "execution_count": 137,
   "id": "7d2181da",
   "metadata": {},
   "outputs": [
    {
     "data": {
      "text/plain": [
       "Don't know    75\n",
       "Yes           51\n",
       "No             6\n",
       "Name: anonymity, dtype: int64"
      ]
     },
     "execution_count": 137,
     "metadata": {},
     "output_type": "execute_result"
    }
   ],
   "source": [
    "# anonymity\n",
    "df_balanced['anonymity'].unique()\n",
    "df_balanced['anonymity'].value_counts()"
   ]
  },
  {
   "cell_type": "code",
   "execution_count": 138,
   "id": "9b91b683",
   "metadata": {},
   "outputs": [
    {
     "data": {
      "text/plain": [
       "Don't know            48\n",
       "Very easy             33\n",
       "Somewhat easy         26\n",
       "Very difficult        15\n",
       "Somewhat difficult    10\n",
       "Name: leave, dtype: int64"
      ]
     },
     "execution_count": 138,
     "metadata": {},
     "output_type": "execute_result"
    }
   ],
   "source": [
    "# leave\n",
    "df_balanced['leave'].unique()\n",
    "df_balanced['leave'].value_counts()\n",
    "\n",
    "# Ordinal Categorical Variable"
   ]
  },
  {
   "cell_type": "code",
   "execution_count": 139,
   "id": "72c4e2c1",
   "metadata": {},
   "outputs": [
    {
     "data": {
      "text/plain": [
       "No       56\n",
       "Maybe    46\n",
       "Yes      30\n",
       "Name: mental_health_consequence, dtype: int64"
      ]
     },
     "execution_count": 139,
     "metadata": {},
     "output_type": "execute_result"
    }
   ],
   "source": [
    "# mental_health_consequence\n",
    "df_balanced['mental_health_consequence'].unique()\n",
    "df_balanced['mental_health_consequence'].value_counts()"
   ]
  },
  {
   "cell_type": "code",
   "execution_count": 140,
   "id": "5fa858cd",
   "metadata": {},
   "outputs": [
    {
     "data": {
      "text/plain": [
       "No       96\n",
       "Maybe    25\n",
       "Yes      11\n",
       "Name: phys_health_consequence, dtype: int64"
      ]
     },
     "execution_count": 140,
     "metadata": {},
     "output_type": "execute_result"
    }
   ],
   "source": [
    "# phys_health_consequence\n",
    "df_balanced['phys_health_consequence'].unique()\n",
    "df_balanced['phys_health_consequence'].value_counts()"
   ]
  },
  {
   "cell_type": "code",
   "execution_count": 141,
   "id": "bc6927cb",
   "metadata": {},
   "outputs": [
    {
     "data": {
      "text/plain": [
       "Some of them    77\n",
       "No              30\n",
       "Yes             25\n",
       "Name: coworkers, dtype: int64"
      ]
     },
     "execution_count": 141,
     "metadata": {},
     "output_type": "execute_result"
    }
   ],
   "source": [
    "# coworkers\n",
    "df_balanced['coworkers'].unique()\n",
    "df_balanced['coworkers'].value_counts()"
   ]
  },
  {
   "cell_type": "code",
   "execution_count": 142,
   "id": "b4fdaf5d",
   "metadata": {},
   "outputs": [
    {
     "data": {
      "text/plain": [
       "Yes             61\n",
       "Some of them    42\n",
       "No              29\n",
       "Name: supervisor, dtype: int64"
      ]
     },
     "execution_count": 142,
     "metadata": {},
     "output_type": "execute_result"
    }
   ],
   "source": [
    "# supervisor\n",
    "df_balanced['supervisor'].unique()\n",
    "df_balanced['supervisor'].value_counts()"
   ]
  },
  {
   "cell_type": "code",
   "execution_count": 143,
   "id": "2dfe2171",
   "metadata": {},
   "outputs": [
    {
     "data": {
      "text/plain": [
       "No       112\n",
       "Maybe     14\n",
       "Yes        6\n",
       "Name: mental_health_interview, dtype: int64"
      ]
     },
     "execution_count": 143,
     "metadata": {},
     "output_type": "execute_result"
    }
   ],
   "source": [
    "# mental_health_interview\n",
    "df_balanced['mental_health_interview'].unique()\n",
    "df_balanced['mental_health_interview'].value_counts()"
   ]
  },
  {
   "cell_type": "code",
   "execution_count": 144,
   "id": "95abb48c",
   "metadata": {},
   "outputs": [
    {
     "data": {
      "text/plain": [
       "Maybe    63\n",
       "No       47\n",
       "Yes      22\n",
       "Name: phys_health_interview, dtype: int64"
      ]
     },
     "execution_count": 144,
     "metadata": {},
     "output_type": "execute_result"
    }
   ],
   "source": [
    "# phys_health_interview\n",
    "df_balanced['phys_health_interview'].unique()\n",
    "df_balanced['phys_health_interview'].value_counts()"
   ]
  },
  {
   "cell_type": "code",
   "execution_count": 145,
   "id": "5b9bf0cc",
   "metadata": {},
   "outputs": [
    {
     "data": {
      "text/plain": [
       "Don't know    52\n",
       "Yes           44\n",
       "No            36\n",
       "Name: mental_vs_physical, dtype: int64"
      ]
     },
     "execution_count": 145,
     "metadata": {},
     "output_type": "execute_result"
    }
   ],
   "source": [
    "# mental_vs_physical\n",
    "df_balanced['mental_vs_physical'].unique()\n",
    "df_balanced['mental_vs_physical'].value_counts()"
   ]
  },
  {
   "cell_type": "code",
   "execution_count": null,
   "id": "40249fa6",
   "metadata": {},
   "outputs": [],
   "source": []
  },
  {
   "cell_type": "code",
   "execution_count": 146,
   "id": "64e5dc8d",
   "metadata": {},
   "outputs": [
    {
     "data": {
      "text/plain": [
       "No     108\n",
       "Yes     24\n",
       "Name: obs_consequence, dtype: int64"
      ]
     },
     "execution_count": 146,
     "metadata": {},
     "output_type": "execute_result"
    }
   ],
   "source": [
    "# obs_consequence\n",
    "df_balanced['obs_consequence'].unique()\n",
    "df_balanced['obs_consequence'].value_counts()"
   ]
  },
  {
   "cell_type": "code",
   "execution_count": 147,
   "id": "9b681b4d",
   "metadata": {},
   "outputs": [
    {
     "data": {
      "text/plain": [
       "While not personally affected I do have immediate family with mental health illness and my employer has been very supportive. Thanks for doing this survey.                                                                                                                    6\n",
       "A lot of these answers aren't really applicable since I'm self employed as a sole proprietor.                                                                                                                                                                                  6\n",
       "Regardless of a stated lack of negative consequences for discussing mental health issues with coworkers/superiors unconscious bias is a very real thing - as long as I don't *need* to inform my co-workers my mental health issues do not need to be public knowledge.        6\n",
       "* Small family business - YMMV.                                                                                                                                                                                                                                                6\n",
       "Mental health issue I have dealt with: acute depression                                                                                                                                                                                                                        5\n",
       "                                                                                                                                                                                                                                                                              ..\n",
       "Stigma is the worst. People first language is a small step but we can't get that right.                                                                                                                                                                                        1\n",
       "I currently have the best managers I've ever worked with. I don't have any issues but one of my coworkers recently did and it was handled extremely well.                                                                                                                      1\n",
       "I've never heard of a workplace that would actually allow you to call off for mental health reasons. So many places require a doctor's note for calling off sick. It's all set up to make you feel worse if you can't just suck it up. Thanks for working to change this!!!    1\n",
       "I've seen negative consequences towards mental health conditions in previous workplaces.Working remote is empowering in this way.                                                                                                                                              1\n",
       "I have only discussed my mental illness with close family members. I feel completely uncomfortable discussing with anyone at my place of employment as I am concerned it would have negative consequences.                                                                     1\n",
       "Name: comments, Length: 81, dtype: int64"
      ]
     },
     "execution_count": 147,
     "metadata": {},
     "output_type": "execute_result"
    }
   ],
   "source": [
    "# comments\n",
    "df_balanced['comments'].unique()\n",
    "df_balanced['comments'].value_counts()"
   ]
  },
  {
   "cell_type": "code",
   "execution_count": 148,
   "id": "6a65ec82",
   "metadata": {},
   "outputs": [
    {
     "name": "stdout",
     "output_type": "stream",
     "text": [
      "Timestamp                     object\n",
      "Age                          float64\n",
      "Gender                        object\n",
      "Country                       object\n",
      "state                         object\n",
      "self_employed                 object\n",
      "family_history                object\n",
      "treatment                     object\n",
      "work_interfere                object\n",
      "no_employees                  object\n",
      "remote_work                   object\n",
      "tech_company                  object\n",
      "benefits                      object\n",
      "care_options                  object\n",
      "wellness_program              object\n",
      "seek_help                     object\n",
      "anonymity                     object\n",
      "leave                         object\n",
      "mental_health_consequence     object\n",
      "phys_health_consequence       object\n",
      "coworkers                     object\n",
      "supervisor                    object\n",
      "mental_health_interview       object\n",
      "phys_health_interview         object\n",
      "mental_vs_physical            object\n",
      "obs_consequence               object\n",
      "comments                      object\n",
      "dtype: object\n"
     ]
    }
   ],
   "source": [
    "print(df_balanced.dtypes)"
   ]
  },
  {
   "cell_type": "code",
   "execution_count": 149,
   "id": "860358e2",
   "metadata": {},
   "outputs": [],
   "source": [
    "# Object type variables need to be encoded because decision tree models require numerical values to make splits based on thresholds.\n",
    "# Timestamp and comments were not encoded\n",
    "# Timestamp can be dropped or encoded into separate numeric features if needed\n",
    "# Comments can be dropped or encoded into binary incidating if the person did leave a comment or not.\n",
    "\n",
    "# Create a binary column indicating if a comment was provided\n",
    "df_balanced['comments_binary'] = df_balanced['comments'].apply(lambda x: 1 if pd.notnull(x) and x.strip() != '' else 0)\n",
    "\n",
    "# Drop the 'comments' column as it is now represented by 'comment_provided'\n",
    "df_balanced.drop(columns=['comments'], inplace=True)\n",
    "\n",
    "# Map ordinal categorical variables to numeric values\n",
    "work_interfere_map = {\n",
    "    'Never': 0,\n",
    "    'Rarely': 1,\n",
    "    'Sometimes': 2,\n",
    "    'Often': 3,\n",
    "    'Unknown': -1\n",
    "}\n",
    "\n",
    "df_balanced['work_interfere'] = df_balanced['work_interfere'].map(work_interfere_map)\n",
    "\n",
    "no_employees_map = {\n",
    "    '1-5': 1,\n",
    "    '6-25': 2,\n",
    "    '26-100': 3,\n",
    "    '100-500': 4,\n",
    "    '500-1000': 5,\n",
    "    'More than 1000': 6\n",
    "}\n",
    "\n",
    "df_balanced['no_employees'] = df_balanced['no_employees'].map(no_employees_map)\n",
    "\n",
    "leave_map = {\n",
    "    'Very easy': 0,\n",
    "    'Somewhat easy': 1,\n",
    "    'Somewhat difficult': 2,\n",
    "    'Very difficult': 3,\n",
    "    'Don\\'t know': -1\n",
    "}\n",
    "\n",
    "df_balanced['leave'] = df_balanced['leave'].map(leave_map)\n",
    "\n",
    "\n",
    "# For nominal categorical variables, one-hot encoding.\n",
    "nominal_features = ['Gender', 'Country', 'state', 'self_employed', 'family_history', 'remote_work',\n",
    "                    'tech_company', 'benefits', 'care_options', 'wellness_program', 'seek_help', 'anonymity',\n",
    "                    'mental_health_consequence', 'phys_health_consequence', 'coworkers', 'supervisor', \n",
    "                    'mental_health_interview', 'phys_health_interview', 'mental_vs_physical', 'obs_consequence']\n",
    "\n",
    "df_encoded_nominal = pd.get_dummies(df_balanced[nominal_features], drop_first=False)\n",
    "df_balanced = pd.concat([df_balanced, df_encoded_nominal], axis=1)\n",
    "df_balanced.drop(columns=nominal_features, inplace=True)"
   ]
  },
  {
   "cell_type": "code",
   "execution_count": 150,
   "id": "c5110be1",
   "metadata": {},
   "outputs": [
    {
     "name": "stdout",
     "output_type": "stream",
     "text": [
      "Index(['Timestamp', 'Age', 'treatment', 'work_interfere', 'no_employees',\n",
      "       'leave', 'comments_binary', 'Gender_Female', 'Gender_Male',\n",
      "       'Gender_Other', 'Country_Bahamas, The', 'Country_Israel',\n",
      "       'Country_United States', 'state_AL', 'state_CA', 'state_FL', 'state_GA',\n",
      "       'state_IL', 'state_IN', 'state_LA', 'state_MA', 'state_MD', 'state_MI',\n",
      "       'state_MN', 'state_NC', 'state_NJ', 'state_NY', 'state_OH', 'state_OR',\n",
      "       'state_PA', 'state_TN', 'state_TX', 'state_UT', 'state_VA', 'state_VT',\n",
      "       'state_WA', 'state_WI', 'state_WY', 'self_employed_No',\n",
      "       'self_employed_Yes', 'family_history_No', 'family_history_Yes',\n",
      "       'remote_work_No', 'remote_work_Yes', 'tech_company_No',\n",
      "       'tech_company_Yes', 'benefits_Don't know', 'benefits_No',\n",
      "       'benefits_Yes', 'care_options_No', 'care_options_Not sure',\n",
      "       'care_options_Yes', 'wellness_program_Don't know',\n",
      "       'wellness_program_No', 'wellness_program_Yes', 'seek_help_Don't know',\n",
      "       'seek_help_No', 'seek_help_Yes', 'anonymity_Don't know', 'anonymity_No',\n",
      "       'anonymity_Yes', 'mental_health_consequence_Maybe',\n",
      "       'mental_health_consequence_No', 'mental_health_consequence_Yes',\n",
      "       'phys_health_consequence_Maybe', 'phys_health_consequence_No',\n",
      "       'phys_health_consequence_Yes', 'coworkers_No', 'coworkers_Some of them',\n",
      "       'coworkers_Yes', 'supervisor_No', 'supervisor_Some of them',\n",
      "       'supervisor_Yes', 'mental_health_interview_Maybe',\n",
      "       'mental_health_interview_No', 'mental_health_interview_Yes',\n",
      "       'phys_health_interview_Maybe', 'phys_health_interview_No',\n",
      "       'phys_health_interview_Yes', 'mental_vs_physical_Don't know',\n",
      "       'mental_vs_physical_No', 'mental_vs_physical_Yes', 'obs_consequence_No',\n",
      "       'obs_consequence_Yes'],\n",
      "      dtype='object')\n"
     ]
    }
   ],
   "source": [
    "# Check column names in the DataFrame\n",
    "print(df_balanced.columns)\n"
   ]
  },
  {
   "cell_type": "code",
   "execution_count": 151,
   "id": "63f8cbed",
   "metadata": {
    "scrolled": true
   },
   "outputs": [
    {
     "data": {
      "text/html": [
       "<div>\n",
       "<style scoped>\n",
       "    .dataframe tbody tr th:only-of-type {\n",
       "        vertical-align: middle;\n",
       "    }\n",
       "\n",
       "    .dataframe tbody tr th {\n",
       "        vertical-align: top;\n",
       "    }\n",
       "\n",
       "    .dataframe thead th {\n",
       "        text-align: right;\n",
       "    }\n",
       "</style>\n",
       "<table border=\"1\" class=\"dataframe\">\n",
       "  <thead>\n",
       "    <tr style=\"text-align: right;\">\n",
       "      <th></th>\n",
       "      <th>Timestamp</th>\n",
       "      <th>Age</th>\n",
       "      <th>treatment</th>\n",
       "      <th>work_interfere</th>\n",
       "      <th>no_employees</th>\n",
       "      <th>leave</th>\n",
       "      <th>comments_binary</th>\n",
       "      <th>Gender_Female</th>\n",
       "      <th>Gender_Male</th>\n",
       "      <th>Gender_Other</th>\n",
       "      <th>...</th>\n",
       "      <th>mental_health_interview_No</th>\n",
       "      <th>mental_health_interview_Yes</th>\n",
       "      <th>phys_health_interview_Maybe</th>\n",
       "      <th>phys_health_interview_No</th>\n",
       "      <th>phys_health_interview_Yes</th>\n",
       "      <th>mental_vs_physical_Don't know</th>\n",
       "      <th>mental_vs_physical_No</th>\n",
       "      <th>mental_vs_physical_Yes</th>\n",
       "      <th>obs_consequence_No</th>\n",
       "      <th>obs_consequence_Yes</th>\n",
       "    </tr>\n",
       "  </thead>\n",
       "  <tbody>\n",
       "    <tr>\n",
       "      <th>1078</th>\n",
       "      <td>2014-08-29 14:59:43</td>\n",
       "      <td>37.0</td>\n",
       "      <td>Yes</td>\n",
       "      <td>2</td>\n",
       "      <td>3</td>\n",
       "      <td>-1</td>\n",
       "      <td>1</td>\n",
       "      <td>1</td>\n",
       "      <td>0</td>\n",
       "      <td>0</td>\n",
       "      <td>...</td>\n",
       "      <td>1</td>\n",
       "      <td>0</td>\n",
       "      <td>1</td>\n",
       "      <td>0</td>\n",
       "      <td>0</td>\n",
       "      <td>1</td>\n",
       "      <td>0</td>\n",
       "      <td>0</td>\n",
       "      <td>1</td>\n",
       "      <td>0</td>\n",
       "    </tr>\n",
       "    <tr>\n",
       "      <th>849</th>\n",
       "      <td>2014-08-28 16:57:46</td>\n",
       "      <td>40.0</td>\n",
       "      <td>No</td>\n",
       "      <td>1</td>\n",
       "      <td>6</td>\n",
       "      <td>-1</td>\n",
       "      <td>1</td>\n",
       "      <td>0</td>\n",
       "      <td>1</td>\n",
       "      <td>0</td>\n",
       "      <td>...</td>\n",
       "      <td>1</td>\n",
       "      <td>0</td>\n",
       "      <td>1</td>\n",
       "      <td>0</td>\n",
       "      <td>0</td>\n",
       "      <td>1</td>\n",
       "      <td>0</td>\n",
       "      <td>0</td>\n",
       "      <td>1</td>\n",
       "      <td>0</td>\n",
       "    </tr>\n",
       "    <tr>\n",
       "      <th>373</th>\n",
       "      <td>2014-08-27 15:22:20</td>\n",
       "      <td>32.0</td>\n",
       "      <td>Yes</td>\n",
       "      <td>2</td>\n",
       "      <td>3</td>\n",
       "      <td>1</td>\n",
       "      <td>1</td>\n",
       "      <td>1</td>\n",
       "      <td>0</td>\n",
       "      <td>0</td>\n",
       "      <td>...</td>\n",
       "      <td>1</td>\n",
       "      <td>0</td>\n",
       "      <td>1</td>\n",
       "      <td>0</td>\n",
       "      <td>0</td>\n",
       "      <td>0</td>\n",
       "      <td>0</td>\n",
       "      <td>1</td>\n",
       "      <td>1</td>\n",
       "      <td>0</td>\n",
       "    </tr>\n",
       "    <tr>\n",
       "      <th>627</th>\n",
       "      <td>2014-08-28 02:17:42</td>\n",
       "      <td>34.0</td>\n",
       "      <td>Yes</td>\n",
       "      <td>2</td>\n",
       "      <td>2</td>\n",
       "      <td>1</td>\n",
       "      <td>1</td>\n",
       "      <td>0</td>\n",
       "      <td>1</td>\n",
       "      <td>0</td>\n",
       "      <td>...</td>\n",
       "      <td>1</td>\n",
       "      <td>0</td>\n",
       "      <td>0</td>\n",
       "      <td>1</td>\n",
       "      <td>0</td>\n",
       "      <td>0</td>\n",
       "      <td>1</td>\n",
       "      <td>0</td>\n",
       "      <td>1</td>\n",
       "      <td>0</td>\n",
       "    </tr>\n",
       "    <tr>\n",
       "      <th>568</th>\n",
       "      <td>2014-08-27 19:45:36</td>\n",
       "      <td>31.0</td>\n",
       "      <td>No</td>\n",
       "      <td>2</td>\n",
       "      <td>6</td>\n",
       "      <td>1</td>\n",
       "      <td>1</td>\n",
       "      <td>0</td>\n",
       "      <td>1</td>\n",
       "      <td>0</td>\n",
       "      <td>...</td>\n",
       "      <td>1</td>\n",
       "      <td>0</td>\n",
       "      <td>0</td>\n",
       "      <td>0</td>\n",
       "      <td>1</td>\n",
       "      <td>0</td>\n",
       "      <td>1</td>\n",
       "      <td>0</td>\n",
       "      <td>1</td>\n",
       "      <td>0</td>\n",
       "    </tr>\n",
       "  </tbody>\n",
       "</table>\n",
       "<p>5 rows × 84 columns</p>\n",
       "</div>"
      ],
      "text/plain": [
       "                Timestamp   Age treatment  work_interfere  no_employees  \\\n",
       "1078  2014-08-29 14:59:43  37.0       Yes               2             3   \n",
       "849   2014-08-28 16:57:46  40.0        No               1             6   \n",
       "373   2014-08-27 15:22:20  32.0       Yes               2             3   \n",
       "627   2014-08-28 02:17:42  34.0       Yes               2             2   \n",
       "568   2014-08-27 19:45:36  31.0        No               2             6   \n",
       "\n",
       "      leave  comments_binary  Gender_Female  Gender_Male  Gender_Other  ...  \\\n",
       "1078     -1                1              1            0             0  ...   \n",
       "849      -1                1              0            1             0  ...   \n",
       "373       1                1              1            0             0  ...   \n",
       "627       1                1              0            1             0  ...   \n",
       "568       1                1              0            1             0  ...   \n",
       "\n",
       "      mental_health_interview_No  mental_health_interview_Yes  \\\n",
       "1078                           1                            0   \n",
       "849                            1                            0   \n",
       "373                            1                            0   \n",
       "627                            1                            0   \n",
       "568                            1                            0   \n",
       "\n",
       "      phys_health_interview_Maybe  phys_health_interview_No  \\\n",
       "1078                            1                         0   \n",
       "849                             1                         0   \n",
       "373                             1                         0   \n",
       "627                             0                         1   \n",
       "568                             0                         0   \n",
       "\n",
       "      phys_health_interview_Yes  mental_vs_physical_Don't know  \\\n",
       "1078                          0                              1   \n",
       "849                           0                              1   \n",
       "373                           0                              0   \n",
       "627                           0                              0   \n",
       "568                           1                              0   \n",
       "\n",
       "      mental_vs_physical_No  mental_vs_physical_Yes  obs_consequence_No  \\\n",
       "1078                      0                       0                   1   \n",
       "849                       0                       0                   1   \n",
       "373                       0                       1                   1   \n",
       "627                       1                       0                   1   \n",
       "568                       1                       0                   1   \n",
       "\n",
       "      obs_consequence_Yes  \n",
       "1078                    0  \n",
       "849                     0  \n",
       "373                     0  \n",
       "627                     0  \n",
       "568                     0  \n",
       "\n",
       "[5 rows x 84 columns]"
      ]
     },
     "execution_count": 151,
     "metadata": {},
     "output_type": "execute_result"
    }
   ],
   "source": [
    "df_balanced.head()"
   ]
  },
  {
   "cell_type": "code",
   "execution_count": 152,
   "id": "38223d28",
   "metadata": {
    "scrolled": true
   },
   "outputs": [
    {
     "name": "stdout",
     "output_type": "stream",
     "text": [
      "<class 'pandas.core.frame.DataFrame'>\n",
      "Int64Index: 132 entries, 1078 to 1024\n",
      "Data columns (total 84 columns):\n",
      " #   Column                           Non-Null Count  Dtype  \n",
      "---  ------                           --------------  -----  \n",
      " 0   Timestamp                        132 non-null    object \n",
      " 1   Age                              130 non-null    float64\n",
      " 2   treatment                        132 non-null    object \n",
      " 3   work_interfere                   132 non-null    int64  \n",
      " 4   no_employees                     132 non-null    int64  \n",
      " 5   leave                            132 non-null    int64  \n",
      " 6   comments_binary                  132 non-null    int64  \n",
      " 7   Gender_Female                    132 non-null    uint8  \n",
      " 8   Gender_Male                      132 non-null    uint8  \n",
      " 9   Gender_Other                     132 non-null    uint8  \n",
      " 10  Country_Bahamas, The             132 non-null    uint8  \n",
      " 11  Country_Israel                   132 non-null    uint8  \n",
      " 12  Country_United States            132 non-null    uint8  \n",
      " 13  state_AL                         132 non-null    uint8  \n",
      " 14  state_CA                         132 non-null    uint8  \n",
      " 15  state_FL                         132 non-null    uint8  \n",
      " 16  state_GA                         132 non-null    uint8  \n",
      " 17  state_IL                         132 non-null    uint8  \n",
      " 18  state_IN                         132 non-null    uint8  \n",
      " 19  state_LA                         132 non-null    uint8  \n",
      " 20  state_MA                         132 non-null    uint8  \n",
      " 21  state_MD                         132 non-null    uint8  \n",
      " 22  state_MI                         132 non-null    uint8  \n",
      " 23  state_MN                         132 non-null    uint8  \n",
      " 24  state_NC                         132 non-null    uint8  \n",
      " 25  state_NJ                         132 non-null    uint8  \n",
      " 26  state_NY                         132 non-null    uint8  \n",
      " 27  state_OH                         132 non-null    uint8  \n",
      " 28  state_OR                         132 non-null    uint8  \n",
      " 29  state_PA                         132 non-null    uint8  \n",
      " 30  state_TN                         132 non-null    uint8  \n",
      " 31  state_TX                         132 non-null    uint8  \n",
      " 32  state_UT                         132 non-null    uint8  \n",
      " 33  state_VA                         132 non-null    uint8  \n",
      " 34  state_VT                         132 non-null    uint8  \n",
      " 35  state_WA                         132 non-null    uint8  \n",
      " 36  state_WI                         132 non-null    uint8  \n",
      " 37  state_WY                         132 non-null    uint8  \n",
      " 38  self_employed_No                 132 non-null    uint8  \n",
      " 39  self_employed_Yes                132 non-null    uint8  \n",
      " 40  family_history_No                132 non-null    uint8  \n",
      " 41  family_history_Yes               132 non-null    uint8  \n",
      " 42  remote_work_No                   132 non-null    uint8  \n",
      " 43  remote_work_Yes                  132 non-null    uint8  \n",
      " 44  tech_company_No                  132 non-null    uint8  \n",
      " 45  tech_company_Yes                 132 non-null    uint8  \n",
      " 46  benefits_Don't know              132 non-null    uint8  \n",
      " 47  benefits_No                      132 non-null    uint8  \n",
      " 48  benefits_Yes                     132 non-null    uint8  \n",
      " 49  care_options_No                  132 non-null    uint8  \n",
      " 50  care_options_Not sure            132 non-null    uint8  \n",
      " 51  care_options_Yes                 132 non-null    uint8  \n",
      " 52  wellness_program_Don't know      132 non-null    uint8  \n",
      " 53  wellness_program_No              132 non-null    uint8  \n",
      " 54  wellness_program_Yes             132 non-null    uint8  \n",
      " 55  seek_help_Don't know             132 non-null    uint8  \n",
      " 56  seek_help_No                     132 non-null    uint8  \n",
      " 57  seek_help_Yes                    132 non-null    uint8  \n",
      " 58  anonymity_Don't know             132 non-null    uint8  \n",
      " 59  anonymity_No                     132 non-null    uint8  \n",
      " 60  anonymity_Yes                    132 non-null    uint8  \n",
      " 61  mental_health_consequence_Maybe  132 non-null    uint8  \n",
      " 62  mental_health_consequence_No     132 non-null    uint8  \n",
      " 63  mental_health_consequence_Yes    132 non-null    uint8  \n",
      " 64  phys_health_consequence_Maybe    132 non-null    uint8  \n",
      " 65  phys_health_consequence_No       132 non-null    uint8  \n",
      " 66  phys_health_consequence_Yes      132 non-null    uint8  \n",
      " 67  coworkers_No                     132 non-null    uint8  \n",
      " 68  coworkers_Some of them           132 non-null    uint8  \n",
      " 69  coworkers_Yes                    132 non-null    uint8  \n",
      " 70  supervisor_No                    132 non-null    uint8  \n",
      " 71  supervisor_Some of them          132 non-null    uint8  \n",
      " 72  supervisor_Yes                   132 non-null    uint8  \n",
      " 73  mental_health_interview_Maybe    132 non-null    uint8  \n",
      " 74  mental_health_interview_No       132 non-null    uint8  \n",
      " 75  mental_health_interview_Yes      132 non-null    uint8  \n",
      " 76  phys_health_interview_Maybe      132 non-null    uint8  \n",
      " 77  phys_health_interview_No         132 non-null    uint8  \n",
      " 78  phys_health_interview_Yes        132 non-null    uint8  \n",
      " 79  mental_vs_physical_Don't know    132 non-null    uint8  \n",
      " 80  mental_vs_physical_No            132 non-null    uint8  \n",
      " 81  mental_vs_physical_Yes           132 non-null    uint8  \n",
      " 82  obs_consequence_No               132 non-null    uint8  \n",
      " 83  obs_consequence_Yes              132 non-null    uint8  \n",
      "dtypes: float64(1), int64(4), object(2), uint8(77)\n",
      "memory usage: 18.2+ KB\n"
     ]
    }
   ],
   "source": [
    "df_balanced.info()"
   ]
  },
  {
   "cell_type": "code",
   "execution_count": 153,
   "id": "a8f57fc6",
   "metadata": {},
   "outputs": [],
   "source": [
    "df_balanced['treatment'] = df_balanced['treatment'].map({'Yes': 1, 'No': 0})"
   ]
  },
  {
   "cell_type": "code",
   "execution_count": 154,
   "id": "abb76a6d",
   "metadata": {},
   "outputs": [],
   "source": [
    "df_balanced = df_balanced.drop(columns = ['Timestamp'])"
   ]
  },
  {
   "cell_type": "code",
   "execution_count": 155,
   "id": "afc104ec",
   "metadata": {},
   "outputs": [],
   "source": [
    "# Saving full cleaned, encoded dataset to csv file that can be used for modeling\n",
    "df_balanced.to_csv(\"full_cleaned_tech_survey_oversampling.csv\", index=False)"
   ]
  }
 ],
 "metadata": {
  "kernelspec": {
   "display_name": "Python 3 (ipykernel)",
   "language": "python",
   "name": "python3"
  },
  "language_info": {
   "codemirror_mode": {
    "name": "ipython",
    "version": 3
   },
   "file_extension": ".py",
   "mimetype": "text/x-python",
   "name": "python",
   "nbconvert_exporter": "python",
   "pygments_lexer": "ipython3",
   "version": "3.11.4"
  }
 },
 "nbformat": 4,
 "nbformat_minor": 5
}
