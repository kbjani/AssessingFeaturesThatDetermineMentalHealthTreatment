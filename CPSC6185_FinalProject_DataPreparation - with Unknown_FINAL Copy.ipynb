{
 "cells": [
  {
   "cell_type": "code",
   "execution_count": 1,
   "id": "15e797e8",
   "metadata": {},
   "outputs": [],
   "source": [
    "# Loading the dataset\n",
    "\n",
    "import pandas as pd\n",
    "import numpy as np\n",
    "\n",
    "df = pd.read_csv(\"survey.csv\")"
   ]
  },
  {
   "cell_type": "code",
   "execution_count": 2,
   "id": "087654ad",
   "metadata": {},
   "outputs": [
    {
     "name": "stdout",
     "output_type": "stream",
     "text": [
      "(1259, 27)\n"
     ]
    }
   ],
   "source": [
    "# Previewing the data dimensions\n",
    "print(df.shape)"
   ]
  },
  {
   "cell_type": "code",
   "execution_count": 3,
   "id": "159c8842",
   "metadata": {},
   "outputs": [
    {
     "name": "stdout",
     "output_type": "stream",
     "text": [
      "Index(['Timestamp', 'Age', 'Gender', 'Country', 'state', 'self_employed',\n",
      "       'family_history', 'treatment', 'work_interfere', 'no_employees',\n",
      "       'remote_work', 'tech_company', 'benefits', 'care_options',\n",
      "       'wellness_program', 'seek_help', 'anonymity', 'leave',\n",
      "       'mental_health_consequence', 'phys_health_consequence', 'coworkers',\n",
      "       'supervisor', 'mental_health_interview', 'phys_health_interview',\n",
      "       'mental_vs_physical', 'obs_consequence', 'comments'],\n",
      "      dtype='object')\n"
     ]
    }
   ],
   "source": [
    "# Previewing the data columns\n",
    "print(df.columns)"
   ]
  },
  {
   "cell_type": "code",
   "execution_count": 4,
   "id": "7fea9367",
   "metadata": {},
   "outputs": [
    {
     "name": "stdout",
     "output_type": "stream",
     "text": [
      "<class 'pandas.core.frame.DataFrame'>\n",
      "RangeIndex: 1259 entries, 0 to 1258\n",
      "Data columns (total 27 columns):\n",
      " #   Column                     Non-Null Count  Dtype \n",
      "---  ------                     --------------  ----- \n",
      " 0   Timestamp                  1259 non-null   object\n",
      " 1   Age                        1259 non-null   int64 \n",
      " 2   Gender                     1259 non-null   object\n",
      " 3   Country                    1259 non-null   object\n",
      " 4   state                      744 non-null    object\n",
      " 5   self_employed              1241 non-null   object\n",
      " 6   family_history             1259 non-null   object\n",
      " 7   treatment                  1259 non-null   object\n",
      " 8   work_interfere             995 non-null    object\n",
      " 9   no_employees               1259 non-null   object\n",
      " 10  remote_work                1259 non-null   object\n",
      " 11  tech_company               1259 non-null   object\n",
      " 12  benefits                   1259 non-null   object\n",
      " 13  care_options               1259 non-null   object\n",
      " 14  wellness_program           1259 non-null   object\n",
      " 15  seek_help                  1259 non-null   object\n",
      " 16  anonymity                  1259 non-null   object\n",
      " 17  leave                      1259 non-null   object\n",
      " 18  mental_health_consequence  1259 non-null   object\n",
      " 19  phys_health_consequence    1259 non-null   object\n",
      " 20  coworkers                  1259 non-null   object\n",
      " 21  supervisor                 1259 non-null   object\n",
      " 22  mental_health_interview    1259 non-null   object\n",
      " 23  phys_health_interview      1259 non-null   object\n",
      " 24  mental_vs_physical         1259 non-null   object\n",
      " 25  obs_consequence            1259 non-null   object\n",
      " 26  comments                   164 non-null    object\n",
      "dtypes: int64(1), object(26)\n",
      "memory usage: 265.7+ KB\n",
      "None\n"
     ]
    }
   ],
   "source": [
    "# Previewing the data quick summary\n",
    "print(df.info())"
   ]
  },
  {
   "cell_type": "code",
   "execution_count": 5,
   "id": "11d7caeb",
   "metadata": {},
   "outputs": [
    {
     "name": "stdout",
     "output_type": "stream",
     "text": [
      "             Timestamp  Age  Gender         Country state self_employed  \\\n",
      "0  2014-08-27 11:29:31   37  Female   United States    IL           NaN   \n",
      "1  2014-08-27 11:29:37   44       M   United States    IN           NaN   \n",
      "2  2014-08-27 11:29:44   32    Male          Canada   NaN           NaN   \n",
      "3  2014-08-27 11:29:46   31    Male  United Kingdom   NaN           NaN   \n",
      "4  2014-08-27 11:30:22   31    Male   United States    TX           NaN   \n",
      "\n",
      "  family_history treatment work_interfere    no_employees  ...  \\\n",
      "0             No       Yes          Often            6-25  ...   \n",
      "1             No        No         Rarely  More than 1000  ...   \n",
      "2             No        No         Rarely            6-25  ...   \n",
      "3            Yes       Yes          Often          26-100  ...   \n",
      "4             No        No          Never         100-500  ...   \n",
      "\n",
      "                leave mental_health_consequence phys_health_consequence  \\\n",
      "0       Somewhat easy                        No                      No   \n",
      "1          Don't know                     Maybe                      No   \n",
      "2  Somewhat difficult                        No                      No   \n",
      "3  Somewhat difficult                       Yes                     Yes   \n",
      "4          Don't know                        No                      No   \n",
      "\n",
      "      coworkers supervisor mental_health_interview phys_health_interview  \\\n",
      "0  Some of them        Yes                      No                 Maybe   \n",
      "1            No         No                      No                    No   \n",
      "2           Yes        Yes                     Yes                   Yes   \n",
      "3  Some of them         No                   Maybe                 Maybe   \n",
      "4  Some of them        Yes                     Yes                   Yes   \n",
      "\n",
      "  mental_vs_physical obs_consequence comments  \n",
      "0                Yes              No      NaN  \n",
      "1         Don't know              No      NaN  \n",
      "2                 No              No      NaN  \n",
      "3                 No             Yes      NaN  \n",
      "4         Don't know              No      NaN  \n",
      "\n",
      "[5 rows x 27 columns]\n"
     ]
    }
   ],
   "source": [
    "# Previewing the data - viewing first 5 records\n",
    "print(df.head())"
   ]
  },
  {
   "cell_type": "code",
   "execution_count": 6,
   "id": "01ed6ca2",
   "metadata": {},
   "outputs": [
    {
     "name": "stdout",
     "output_type": "stream",
     "text": [
      "   Age  Gender self_employed family_history remote_work tech_company  \\\n",
      "0   37  Female           NaN             No          No          Yes   \n",
      "1   44       M           NaN             No          No           No   \n",
      "2   32    Male           NaN             No          No          Yes   \n",
      "3   31    Male           NaN            Yes          No          Yes   \n",
      "4   31    Male           NaN             No         Yes          Yes   \n",
      "\n",
      "     benefits care_options   seek_help obs_consequence treatment  \n",
      "0         Yes     Not sure         Yes              No       Yes  \n",
      "1  Don't know           No  Don't know              No        No  \n",
      "2          No           No          No              No        No  \n",
      "3          No          Yes          No             Yes       Yes  \n",
      "4         Yes           No  Don't know              No        No  \n"
     ]
    }
   ],
   "source": [
    "# Selecting features of interest and creating new dataframe with only those columns\n",
    "# 11 features selected (1 target feature: treatment)\n",
    "\n",
    "selected_features = [\n",
    "    'Age', 'Gender', 'self_employed', 'family_history', 'remote_work',\n",
    "    'tech_company', 'benefits', 'care_options', 'seek_help', 'obs_consequence', 'treatment'\n",
    "]\n",
    "\n",
    "df_selected = df[selected_features]\n",
    "\n",
    "print(df_selected.head())"
   ]
  },
  {
   "cell_type": "code",
   "execution_count": 7,
   "id": "a61ef420",
   "metadata": {},
   "outputs": [
    {
     "name": "stdout",
     "output_type": "stream",
     "text": [
      "<class 'pandas.core.frame.DataFrame'>\n",
      "RangeIndex: 1259 entries, 0 to 1258\n",
      "Data columns (total 11 columns):\n",
      " #   Column           Non-Null Count  Dtype \n",
      "---  ------           --------------  ----- \n",
      " 0   Age              1259 non-null   int64 \n",
      " 1   Gender           1259 non-null   object\n",
      " 2   self_employed    1241 non-null   object\n",
      " 3   family_history   1259 non-null   object\n",
      " 4   remote_work      1259 non-null   object\n",
      " 5   tech_company     1259 non-null   object\n",
      " 6   benefits         1259 non-null   object\n",
      " 7   care_options     1259 non-null   object\n",
      " 8   seek_help        1259 non-null   object\n",
      " 9   obs_consequence  1259 non-null   object\n",
      " 10  treatment        1259 non-null   object\n",
      "dtypes: int64(1), object(10)\n",
      "memory usage: 108.3+ KB\n",
      "None\n",
      "Age                 0\n",
      "Gender              0\n",
      "self_employed      18\n",
      "family_history      0\n",
      "remote_work         0\n",
      "tech_company        0\n",
      "benefits            0\n",
      "care_options        0\n",
      "seek_help           0\n",
      "obs_consequence     0\n",
      "treatment           0\n",
      "dtype: int64\n"
     ]
    }
   ],
   "source": [
    "# Preview the selected dataframe and check null values\n",
    "print(df_selected.info())\n",
    "print(df_selected.isnull().sum())"
   ]
  },
  {
   "cell_type": "code",
   "execution_count": 8,
   "id": "66622cab",
   "metadata": {},
   "outputs": [
    {
     "name": "stderr",
     "output_type": "stream",
     "text": [
      "C:\\Users\\korie\\AppData\\Local\\Temp\\ipykernel_11424\\3013208014.py:2: SettingWithCopyWarning: \n",
      "A value is trying to be set on a copy of a slice from a DataFrame.\n",
      "Try using .loc[row_indexer,col_indexer] = value instead\n",
      "\n",
      "See the caveats in the documentation: https://pandas.pydata.org/pandas-docs/stable/user_guide/indexing.html#returning-a-view-versus-a-copy\n",
      "  df_selected['self_employed'] = df_selected['self_employed'].fillna(\"Unknown\")\n"
     ]
    }
   ],
   "source": [
    "# Replace null values in self_employed column with \"Unknown\"\n",
    "df_selected['self_employed'] = df_selected['self_employed'].fillna(\"Unknown\")"
   ]
  },
  {
   "cell_type": "code",
   "execution_count": 9,
   "id": "569677ee",
   "metadata": {},
   "outputs": [
    {
     "name": "stdout",
     "output_type": "stream",
     "text": [
      "Age                0\n",
      "Gender             0\n",
      "self_employed      0\n",
      "family_history     0\n",
      "remote_work        0\n",
      "tech_company       0\n",
      "benefits           0\n",
      "care_options       0\n",
      "seek_help          0\n",
      "obs_consequence    0\n",
      "treatment          0\n",
      "dtype: int64\n"
     ]
    }
   ],
   "source": [
    "# Checking that there are no null values in any columns\n",
    "print(df_selected.isnull().sum())"
   ]
  },
  {
   "cell_type": "code",
   "execution_count": 10,
   "id": "d803d050",
   "metadata": {},
   "outputs": [
    {
     "data": {
      "text/plain": [
       "array([         37,          44,          32,          31,          33,\n",
       "                35,          39,          42,          23,          29,\n",
       "                36,          27,          46,          41,          34,\n",
       "                30,          40,          38,          50,          24,\n",
       "                18,          28,          26,          22,          19,\n",
       "                25,          45,          21,         -29,          43,\n",
       "                56,          60,          54,         329,          55,\n",
       "       99999999999,          48,          20,          57,          58,\n",
       "                47,          62,          51,          65,          49,\n",
       "             -1726,           5,          53,          61,           8,\n",
       "                11,          -1,          72], dtype=int64)"
      ]
     },
     "execution_count": 10,
     "metadata": {},
     "output_type": "execute_result"
    }
   ],
   "source": [
    "# Standardizing inconsistent values in columns\n",
    "\n",
    "# Age\n",
    "df_selected['Age'].unique()"
   ]
  },
  {
   "cell_type": "code",
   "execution_count": 11,
   "id": "d5c6127f",
   "metadata": {},
   "outputs": [
    {
     "name": "stderr",
     "output_type": "stream",
     "text": [
      "C:\\Users\\korie\\AppData\\Local\\Temp\\ipykernel_11424\\2154282880.py:3: SettingWithCopyWarning: \n",
      "A value is trying to be set on a copy of a slice from a DataFrame.\n",
      "Try using .loc[row_indexer,col_indexer] = value instead\n",
      "\n",
      "See the caveats in the documentation: https://pandas.pydata.org/pandas-docs/stable/user_guide/indexing.html#returning-a-view-versus-a-copy\n",
      "  df_selected['Age'] = df_selected['Age'].apply(lambda x: x if min_age <= x <= max_age else np.nan)\n"
     ]
    }
   ],
   "source": [
    "min_age = 0\n",
    "max_age = 120\n",
    "df_selected['Age'] = df_selected['Age'].apply(lambda x: x if min_age <= x <= max_age else np.nan)"
   ]
  },
  {
   "cell_type": "code",
   "execution_count": 12,
   "id": "8e1233d2",
   "metadata": {},
   "outputs": [
    {
     "data": {
      "text/plain": [
       "array([37., 44., 32., 31., 33., 35., 39., 42., 23., 29., 36., 27., 46.,\n",
       "       41., 34., 30., 40., 38., 50., 24., 18., 28., 26., 22., 19., 25.,\n",
       "       45., 21., nan, 43., 56., 60., 54., 55., 48., 20., 57., 58., 47.,\n",
       "       62., 51., 65., 49.,  5., 53., 61.,  8., 11., 72.])"
      ]
     },
     "execution_count": 12,
     "metadata": {},
     "output_type": "execute_result"
    }
   ],
   "source": [
    "df_selected['Age'].unique()\n",
    "\n",
    "# Remains numeric, and any invalid values will just be NaN\n",
    "# Skipped in calculations by default or can be filled with a statistic (mean, median, etc.) or can be dropped"
   ]
  },
  {
   "cell_type": "code",
   "execution_count": 13,
   "id": "7ae83a4f",
   "metadata": {
    "scrolled": true
   },
   "outputs": [
    {
     "data": {
      "text/plain": [
       "Male                                              615\n",
       "male                                              206\n",
       "Female                                            121\n",
       "M                                                 116\n",
       "female                                             62\n",
       "F                                                  38\n",
       "m                                                  34\n",
       "f                                                  15\n",
       "Make                                                4\n",
       "Male                                                3\n",
       "Woman                                               3\n",
       "Cis Male                                            2\n",
       "Man                                                 2\n",
       "Female (trans)                                      2\n",
       "Female                                              2\n",
       "Trans woman                                         1\n",
       "msle                                                1\n",
       "male leaning androgynous                            1\n",
       "Neuter                                              1\n",
       "cis male                                            1\n",
       "queer                                               1\n",
       "Female (cis)                                        1\n",
       "Mail                                                1\n",
       "cis-female/femme                                    1\n",
       "A little about you                                  1\n",
       "Malr                                                1\n",
       "p                                                   1\n",
       "femail                                              1\n",
       "Cis Man                                             1\n",
       "Guy (-ish) ^_^                                      1\n",
       "Enby                                                1\n",
       "Agender                                             1\n",
       "Androgyne                                           1\n",
       "Male-ish                                            1\n",
       "maile                                               1\n",
       "Trans-female                                        1\n",
       "Cis Female                                          1\n",
       "something kinda male?                               1\n",
       "Mal                                                 1\n",
       "Male (CIS)                                          1\n",
       "queer/she/they                                      1\n",
       "non-binary                                          1\n",
       "Femake                                              1\n",
       "woman                                               1\n",
       "Nah                                                 1\n",
       "All                                                 1\n",
       "fluid                                               1\n",
       "Genderqueer                                         1\n",
       "ostensibly male, unsure what that really means      1\n",
       "Name: Gender, dtype: int64"
      ]
     },
     "execution_count": 13,
     "metadata": {},
     "output_type": "execute_result"
    }
   ],
   "source": [
    "# Gender\n",
    "df_selected['Gender'].unique()\n",
    "df_selected['Gender'].value_counts()"
   ]
  },
  {
   "cell_type": "code",
   "execution_count": 14,
   "id": "2172342d",
   "metadata": {},
   "outputs": [],
   "source": [
    "gender_map = {\n",
    "    # Male variants\n",
    "    'male': 'Male', 'm': 'Male', 'man': 'Male', 'cis male': 'Male', 'cis man': 'Male',\n",
    "    'male ': 'Male', 'msle': 'Male', 'mal': 'Male', 'malr': 'Male', 'maile': 'Male',\n",
    "    'make': 'Male', 'mail': 'Male', 'male (cis)': 'Male', 'm ': 'Male', 'guy (-ish) ^_^': 'Male',\n",
    "    'male leaning androgynous': 'Male', 'ostensibly male, unsure what that really means': 'Male',\n",
    "    'male-ish': 'Male',\n",
    "\n",
    "    # Female variants\n",
    "    'female': 'Female', 'f': 'Female', 'woman': 'Female', 'cis female': 'Female',\n",
    "    'femake': 'Female', 'femail': 'Female', 'female ': 'Female', 'female (cis)': 'Female',\n",
    "    'female (trans)': 'Female', 'trans-female': 'Female', 'trans woman': 'Female',\n",
    "    'cis-female/femme': 'Female', 'cis female': 'Female', 'cisfemale': 'Female',\n",
    "\n",
    "    # Everything else\n",
    "    'queer': 'Other', 'non-binary': 'Other', 'enby': 'Other', 'agender': 'Other',\n",
    "    'androgyne': 'Other', 'genderqueer': 'Other', 'fluid': 'Other', 'nah': 'Other',\n",
    "    'all': 'Other', 'a little about you': 'Other', 'queer/she/they': 'Other',\n",
    "    'something kinda male?': 'Other', 'p': 'Other'\n",
    "}"
   ]
  },
  {
   "cell_type": "code",
   "execution_count": 15,
   "id": "bbdbb75c",
   "metadata": {},
   "outputs": [
    {
     "name": "stderr",
     "output_type": "stream",
     "text": [
      "C:\\Users\\korie\\AppData\\Local\\Temp\\ipykernel_11424\\3712702507.py:1: SettingWithCopyWarning: \n",
      "A value is trying to be set on a copy of a slice from a DataFrame.\n",
      "Try using .loc[row_indexer,col_indexer] = value instead\n",
      "\n",
      "See the caveats in the documentation: https://pandas.pydata.org/pandas-docs/stable/user_guide/indexing.html#returning-a-view-versus-a-copy\n",
      "  df_selected['Gender'] = df_selected['Gender'].str.strip().str.lower().map(gender_map).fillna('Other')\n"
     ]
    }
   ],
   "source": [
    "df_selected['Gender'] = df_selected['Gender'].str.strip().str.lower().map(gender_map).fillna('Other')"
   ]
  },
  {
   "cell_type": "code",
   "execution_count": 16,
   "id": "8302e17f",
   "metadata": {},
   "outputs": [
    {
     "data": {
      "text/plain": [
       "array(['Female', 'Male', 'Other'], dtype=object)"
      ]
     },
     "execution_count": 16,
     "metadata": {},
     "output_type": "execute_result"
    }
   ],
   "source": [
    "df_selected['Gender'].unique()"
   ]
  },
  {
   "cell_type": "code",
   "execution_count": 17,
   "id": "c6f0029c",
   "metadata": {},
   "outputs": [
    {
     "data": {
      "text/plain": [
       "Male      994\n",
       "Female    251\n",
       "Other      14\n",
       "Name: Gender, dtype: int64"
      ]
     },
     "execution_count": 17,
     "metadata": {},
     "output_type": "execute_result"
    }
   ],
   "source": [
    "df_selected['Gender'].value_counts()"
   ]
  },
  {
   "cell_type": "code",
   "execution_count": 18,
   "id": "68907c2c",
   "metadata": {},
   "outputs": [
    {
     "data": {
      "text/plain": [
       "No         1095\n",
       "Yes         146\n",
       "Unknown      18\n",
       "Name: self_employed, dtype: int64"
      ]
     },
     "execution_count": 18,
     "metadata": {},
     "output_type": "execute_result"
    }
   ],
   "source": [
    "# self_employed\n",
    "df_selected['self_employed'].unique()\n",
    "df_selected['self_employed'].value_counts()"
   ]
  },
  {
   "cell_type": "code",
   "execution_count": 19,
   "id": "cc8141f9",
   "metadata": {},
   "outputs": [
    {
     "data": {
      "text/plain": [
       "No     767\n",
       "Yes    492\n",
       "Name: family_history, dtype: int64"
      ]
     },
     "execution_count": 19,
     "metadata": {},
     "output_type": "execute_result"
    }
   ],
   "source": [
    "# family_history\n",
    "df_selected['family_history'].unique()\n",
    "df_selected['family_history'].value_counts()"
   ]
  },
  {
   "cell_type": "code",
   "execution_count": 20,
   "id": "308dfbbd",
   "metadata": {},
   "outputs": [
    {
     "data": {
      "text/plain": [
       "No     883\n",
       "Yes    376\n",
       "Name: remote_work, dtype: int64"
      ]
     },
     "execution_count": 20,
     "metadata": {},
     "output_type": "execute_result"
    }
   ],
   "source": [
    "# remote_work\n",
    "df_selected['remote_work'].unique()\n",
    "df_selected['remote_work'].value_counts()"
   ]
  },
  {
   "cell_type": "code",
   "execution_count": 21,
   "id": "f49d6337",
   "metadata": {},
   "outputs": [
    {
     "data": {
      "text/plain": [
       "Yes    1031\n",
       "No      228\n",
       "Name: tech_company, dtype: int64"
      ]
     },
     "execution_count": 21,
     "metadata": {},
     "output_type": "execute_result"
    }
   ],
   "source": [
    "# tech_company\n",
    "df_selected['tech_company'].unique()\n",
    "df_selected['tech_company'].value_counts()"
   ]
  },
  {
   "cell_type": "code",
   "execution_count": 22,
   "id": "659eb475",
   "metadata": {},
   "outputs": [
    {
     "data": {
      "text/plain": [
       "Yes           477\n",
       "Don't know    408\n",
       "No            374\n",
       "Name: benefits, dtype: int64"
      ]
     },
     "execution_count": 22,
     "metadata": {},
     "output_type": "execute_result"
    }
   ],
   "source": [
    "# benefits\n",
    "df_selected['benefits'].unique()\n",
    "df_selected['benefits'].value_counts()"
   ]
  },
  {
   "cell_type": "code",
   "execution_count": 23,
   "id": "1b6dbc10",
   "metadata": {},
   "outputs": [
    {
     "data": {
      "text/plain": [
       "No          501\n",
       "Yes         444\n",
       "Not sure    314\n",
       "Name: care_options, dtype: int64"
      ]
     },
     "execution_count": 23,
     "metadata": {},
     "output_type": "execute_result"
    }
   ],
   "source": [
    "# care_options\n",
    "df_selected['care_options'].unique()\n",
    "df_selected['care_options'].value_counts()"
   ]
  },
  {
   "cell_type": "code",
   "execution_count": 24,
   "id": "9e987898",
   "metadata": {},
   "outputs": [
    {
     "data": {
      "text/plain": [
       "No            646\n",
       "Don't know    363\n",
       "Yes           250\n",
       "Name: seek_help, dtype: int64"
      ]
     },
     "execution_count": 24,
     "metadata": {},
     "output_type": "execute_result"
    }
   ],
   "source": [
    "# seek_help\n",
    "df_selected['seek_help'].unique()\n",
    "df_selected['seek_help'].value_counts()"
   ]
  },
  {
   "cell_type": "code",
   "execution_count": 25,
   "id": "64e5dc8d",
   "metadata": {},
   "outputs": [
    {
     "data": {
      "text/plain": [
       "No     1075\n",
       "Yes     184\n",
       "Name: obs_consequence, dtype: int64"
      ]
     },
     "execution_count": 25,
     "metadata": {},
     "output_type": "execute_result"
    }
   ],
   "source": [
    "# obs_consequence\n",
    "df_selected['obs_consequence'].unique()\n",
    "df_selected['obs_consequence'].value_counts()"
   ]
  },
  {
   "cell_type": "code",
   "execution_count": 26,
   "id": "9b681b4d",
   "metadata": {},
   "outputs": [
    {
     "data": {
      "text/plain": [
       "Yes    637\n",
       "No     622\n",
       "Name: treatment, dtype: int64"
      ]
     },
     "execution_count": 26,
     "metadata": {},
     "output_type": "execute_result"
    }
   ],
   "source": [
    "# treatment\n",
    "df_selected['treatment'].unique()\n",
    "df_selected['treatment'].value_counts()"
   ]
  },
  {
   "cell_type": "code",
   "execution_count": 27,
   "id": "6a65ec82",
   "metadata": {
    "scrolled": true
   },
   "outputs": [
    {
     "name": "stdout",
     "output_type": "stream",
     "text": [
      "Age                float64\n",
      "Gender              object\n",
      "self_employed       object\n",
      "family_history      object\n",
      "remote_work         object\n",
      "tech_company        object\n",
      "benefits            object\n",
      "care_options        object\n",
      "seek_help           object\n",
      "obs_consequence     object\n",
      "treatment           object\n",
      "dtype: object\n"
     ]
    }
   ],
   "source": [
    "print(df_selected.dtypes)"
   ]
  },
  {
   "cell_type": "code",
   "execution_count": 28,
   "id": "4c0dcfbf",
   "metadata": {},
   "outputs": [],
   "source": [
    "df_selected.to_csv(\"cleaned_tech_survey_with_unknown_not_encoded.csv\", index=False)"
   ]
  },
  {
   "cell_type": "code",
   "execution_count": 29,
   "id": "860358e2",
   "metadata": {},
   "outputs": [],
   "source": [
    "# Object type variables need to be encoded because decision tree models require numerical values to make splits based on thresholds.\n",
    "# For nominal categorical variables, one-hot encoding.\n",
    "\n",
    "# List of columns to apply one-hot encoding to\n",
    "categorical_columns = ['Gender', 'self_employed', 'family_history', 'remote_work', \n",
    "                       'tech_company', 'benefits', 'care_options', 'seek_help', \n",
    "                       'obs_consequence']\n",
    "\n",
    "# Apply one-hot encoding using pandas\n",
    "df_encoded = pd.get_dummies(df_selected, columns=categorical_columns, drop_first=False)\n",
    "\n",
    "# Decision Trees don’t suffer from multicollinearity\n",
    "# Decision trees split the data based on feature values, so having redundant features doesn’t cause the same issues as in models like linear regression.\n",
    "# For decision trees, you can choose whether to drop the first category or not."
   ]
  },
  {
   "cell_type": "code",
   "execution_count": 30,
   "id": "63f8cbed",
   "metadata": {},
   "outputs": [
    {
     "data": {
      "text/html": [
       "<div>\n",
       "<style scoped>\n",
       "    .dataframe tbody tr th:only-of-type {\n",
       "        vertical-align: middle;\n",
       "    }\n",
       "\n",
       "    .dataframe tbody tr th {\n",
       "        vertical-align: top;\n",
       "    }\n",
       "\n",
       "    .dataframe thead th {\n",
       "        text-align: right;\n",
       "    }\n",
       "</style>\n",
       "<table border=\"1\" class=\"dataframe\">\n",
       "  <thead>\n",
       "    <tr style=\"text-align: right;\">\n",
       "      <th></th>\n",
       "      <th>Age</th>\n",
       "      <th>treatment</th>\n",
       "      <th>Gender_Female</th>\n",
       "      <th>Gender_Male</th>\n",
       "      <th>Gender_Other</th>\n",
       "      <th>self_employed_No</th>\n",
       "      <th>self_employed_Unknown</th>\n",
       "      <th>self_employed_Yes</th>\n",
       "      <th>family_history_No</th>\n",
       "      <th>family_history_Yes</th>\n",
       "      <th>...</th>\n",
       "      <th>benefits_No</th>\n",
       "      <th>benefits_Yes</th>\n",
       "      <th>care_options_No</th>\n",
       "      <th>care_options_Not sure</th>\n",
       "      <th>care_options_Yes</th>\n",
       "      <th>seek_help_Don't know</th>\n",
       "      <th>seek_help_No</th>\n",
       "      <th>seek_help_Yes</th>\n",
       "      <th>obs_consequence_No</th>\n",
       "      <th>obs_consequence_Yes</th>\n",
       "    </tr>\n",
       "  </thead>\n",
       "  <tbody>\n",
       "    <tr>\n",
       "      <th>0</th>\n",
       "      <td>37.0</td>\n",
       "      <td>Yes</td>\n",
       "      <td>1</td>\n",
       "      <td>0</td>\n",
       "      <td>0</td>\n",
       "      <td>0</td>\n",
       "      <td>1</td>\n",
       "      <td>0</td>\n",
       "      <td>1</td>\n",
       "      <td>0</td>\n",
       "      <td>...</td>\n",
       "      <td>0</td>\n",
       "      <td>1</td>\n",
       "      <td>0</td>\n",
       "      <td>1</td>\n",
       "      <td>0</td>\n",
       "      <td>0</td>\n",
       "      <td>0</td>\n",
       "      <td>1</td>\n",
       "      <td>1</td>\n",
       "      <td>0</td>\n",
       "    </tr>\n",
       "    <tr>\n",
       "      <th>1</th>\n",
       "      <td>44.0</td>\n",
       "      <td>No</td>\n",
       "      <td>0</td>\n",
       "      <td>1</td>\n",
       "      <td>0</td>\n",
       "      <td>0</td>\n",
       "      <td>1</td>\n",
       "      <td>0</td>\n",
       "      <td>1</td>\n",
       "      <td>0</td>\n",
       "      <td>...</td>\n",
       "      <td>0</td>\n",
       "      <td>0</td>\n",
       "      <td>1</td>\n",
       "      <td>0</td>\n",
       "      <td>0</td>\n",
       "      <td>1</td>\n",
       "      <td>0</td>\n",
       "      <td>0</td>\n",
       "      <td>1</td>\n",
       "      <td>0</td>\n",
       "    </tr>\n",
       "    <tr>\n",
       "      <th>2</th>\n",
       "      <td>32.0</td>\n",
       "      <td>No</td>\n",
       "      <td>0</td>\n",
       "      <td>1</td>\n",
       "      <td>0</td>\n",
       "      <td>0</td>\n",
       "      <td>1</td>\n",
       "      <td>0</td>\n",
       "      <td>1</td>\n",
       "      <td>0</td>\n",
       "      <td>...</td>\n",
       "      <td>1</td>\n",
       "      <td>0</td>\n",
       "      <td>1</td>\n",
       "      <td>0</td>\n",
       "      <td>0</td>\n",
       "      <td>0</td>\n",
       "      <td>1</td>\n",
       "      <td>0</td>\n",
       "      <td>1</td>\n",
       "      <td>0</td>\n",
       "    </tr>\n",
       "    <tr>\n",
       "      <th>3</th>\n",
       "      <td>31.0</td>\n",
       "      <td>Yes</td>\n",
       "      <td>0</td>\n",
       "      <td>1</td>\n",
       "      <td>0</td>\n",
       "      <td>0</td>\n",
       "      <td>1</td>\n",
       "      <td>0</td>\n",
       "      <td>0</td>\n",
       "      <td>1</td>\n",
       "      <td>...</td>\n",
       "      <td>1</td>\n",
       "      <td>0</td>\n",
       "      <td>0</td>\n",
       "      <td>0</td>\n",
       "      <td>1</td>\n",
       "      <td>0</td>\n",
       "      <td>1</td>\n",
       "      <td>0</td>\n",
       "      <td>0</td>\n",
       "      <td>1</td>\n",
       "    </tr>\n",
       "    <tr>\n",
       "      <th>4</th>\n",
       "      <td>31.0</td>\n",
       "      <td>No</td>\n",
       "      <td>0</td>\n",
       "      <td>1</td>\n",
       "      <td>0</td>\n",
       "      <td>0</td>\n",
       "      <td>1</td>\n",
       "      <td>0</td>\n",
       "      <td>1</td>\n",
       "      <td>0</td>\n",
       "      <td>...</td>\n",
       "      <td>0</td>\n",
       "      <td>1</td>\n",
       "      <td>1</td>\n",
       "      <td>0</td>\n",
       "      <td>0</td>\n",
       "      <td>1</td>\n",
       "      <td>0</td>\n",
       "      <td>0</td>\n",
       "      <td>1</td>\n",
       "      <td>0</td>\n",
       "    </tr>\n",
       "  </tbody>\n",
       "</table>\n",
       "<p>5 rows × 25 columns</p>\n",
       "</div>"
      ],
      "text/plain": [
       "    Age treatment  Gender_Female  Gender_Male  Gender_Other  self_employed_No  \\\n",
       "0  37.0       Yes              1            0             0                 0   \n",
       "1  44.0        No              0            1             0                 0   \n",
       "2  32.0        No              0            1             0                 0   \n",
       "3  31.0       Yes              0            1             0                 0   \n",
       "4  31.0        No              0            1             0                 0   \n",
       "\n",
       "   self_employed_Unknown  self_employed_Yes  family_history_No  \\\n",
       "0                      1                  0                  1   \n",
       "1                      1                  0                  1   \n",
       "2                      1                  0                  1   \n",
       "3                      1                  0                  0   \n",
       "4                      1                  0                  1   \n",
       "\n",
       "   family_history_Yes  ...  benefits_No  benefits_Yes  care_options_No  \\\n",
       "0                   0  ...            0             1                0   \n",
       "1                   0  ...            0             0                1   \n",
       "2                   0  ...            1             0                1   \n",
       "3                   1  ...            1             0                0   \n",
       "4                   0  ...            0             1                1   \n",
       "\n",
       "   care_options_Not sure  care_options_Yes  seek_help_Don't know  \\\n",
       "0                      1                 0                     0   \n",
       "1                      0                 0                     1   \n",
       "2                      0                 0                     0   \n",
       "3                      0                 1                     0   \n",
       "4                      0                 0                     1   \n",
       "\n",
       "   seek_help_No  seek_help_Yes  obs_consequence_No  obs_consequence_Yes  \n",
       "0             0              1                   1                    0  \n",
       "1             0              0                   1                    0  \n",
       "2             1              0                   1                    0  \n",
       "3             1              0                   0                    1  \n",
       "4             0              0                   1                    0  \n",
       "\n",
       "[5 rows x 25 columns]"
      ]
     },
     "execution_count": 30,
     "metadata": {},
     "output_type": "execute_result"
    }
   ],
   "source": [
    "df_encoded.head()"
   ]
  },
  {
   "cell_type": "code",
   "execution_count": 31,
   "id": "7a106510",
   "metadata": {},
   "outputs": [],
   "source": [
    "df_encoded['treatment'] = df_encoded['treatment'].map({'Yes': 1, 'No': 0})"
   ]
  },
  {
   "cell_type": "code",
   "execution_count": 32,
   "id": "afc104ec",
   "metadata": {},
   "outputs": [],
   "source": [
    "# Saving cleaned, encoded dataset to csv file that can be used for modeling\n",
    "df_encoded.to_csv(\"cleaned_tech_survey_with_unknown.csv\", index=False)"
   ]
  },
  {
   "cell_type": "code",
   "execution_count": 33,
   "id": "68dacd51",
   "metadata": {},
   "outputs": [],
   "source": [
    "# Scaled version of that encoded dataset, for K-Means clustering\n",
    "\n",
    "from sklearn.preprocessing import StandardScaler\n",
    "\n",
    "df_encoded = pd.read_csv(\"cleaned_tech_survey_with_unknown.csv\")\n",
    "\n",
    "# Scale all the features using StandardScaler\n",
    "scaler = StandardScaler()\n",
    "df_encoded_scaled = pd.DataFrame(scaler.fit_transform(df_encoded), columns=df_encoded.columns)\n",
    "\n",
    "# Saving the scaled dataset for K-Means clustering\n",
    "df_encoded_scaled.to_csv(\"cleaned_tech_survey_scaled_with_unknown.csv\", index=False)"
   ]
  },
  {
   "cell_type": "code",
   "execution_count": 34,
   "id": "3d41e21f",
   "metadata": {},
   "outputs": [
    {
     "data": {
      "text/html": [
       "<div>\n",
       "<style scoped>\n",
       "    .dataframe tbody tr th:only-of-type {\n",
       "        vertical-align: middle;\n",
       "    }\n",
       "\n",
       "    .dataframe tbody tr th {\n",
       "        vertical-align: top;\n",
       "    }\n",
       "\n",
       "    .dataframe thead th {\n",
       "        text-align: right;\n",
       "    }\n",
       "</style>\n",
       "<table border=\"1\" class=\"dataframe\">\n",
       "  <thead>\n",
       "    <tr style=\"text-align: right;\">\n",
       "      <th></th>\n",
       "      <th>Age</th>\n",
       "      <th>treatment</th>\n",
       "      <th>Gender_Female</th>\n",
       "      <th>Gender_Male</th>\n",
       "      <th>Gender_Other</th>\n",
       "      <th>self_employed_No</th>\n",
       "      <th>self_employed_Unknown</th>\n",
       "      <th>self_employed_Yes</th>\n",
       "      <th>family_history_No</th>\n",
       "      <th>family_history_Yes</th>\n",
       "      <th>...</th>\n",
       "      <th>benefits_No</th>\n",
       "      <th>benefits_Yes</th>\n",
       "      <th>care_options_No</th>\n",
       "      <th>care_options_Not sure</th>\n",
       "      <th>care_options_Yes</th>\n",
       "      <th>seek_help_Don't know</th>\n",
       "      <th>seek_help_No</th>\n",
       "      <th>seek_help_Yes</th>\n",
       "      <th>obs_consequence_No</th>\n",
       "      <th>obs_consequence_Yes</th>\n",
       "    </tr>\n",
       "  </thead>\n",
       "  <tbody>\n",
       "    <tr>\n",
       "      <th>0</th>\n",
       "      <td>0.675640</td>\n",
       "      <td>0.988156</td>\n",
       "      <td>2.003980</td>\n",
       "      <td>-1.936735</td>\n",
       "      <td>-0.106042</td>\n",
       "      <td>-2.583956</td>\n",
       "      <td>8.303279</td>\n",
       "      <td>-0.362184</td>\n",
       "      <td>0.800912</td>\n",
       "      <td>-0.800912</td>\n",
       "      <td>...</td>\n",
       "      <td>-0.650076</td>\n",
       "      <td>1.280396</td>\n",
       "      <td>-0.812988</td>\n",
       "      <td>1.734807</td>\n",
       "      <td>-0.738096</td>\n",
       "      <td>-0.636501</td>\n",
       "      <td>-1.026564</td>\n",
       "      <td>2.008980</td>\n",
       "      <td>0.413718</td>\n",
       "      <td>-0.413718</td>\n",
       "    </tr>\n",
       "    <tr>\n",
       "      <th>1</th>\n",
       "      <td>1.625171</td>\n",
       "      <td>-1.011986</td>\n",
       "      <td>-0.499007</td>\n",
       "      <td>0.516333</td>\n",
       "      <td>-0.106042</td>\n",
       "      <td>-2.583956</td>\n",
       "      <td>8.303279</td>\n",
       "      <td>-0.362184</td>\n",
       "      <td>0.800912</td>\n",
       "      <td>-0.800912</td>\n",
       "      <td>...</td>\n",
       "      <td>-0.650076</td>\n",
       "      <td>-0.781009</td>\n",
       "      <td>1.230030</td>\n",
       "      <td>-0.576433</td>\n",
       "      <td>-0.738096</td>\n",
       "      <td>1.571089</td>\n",
       "      <td>-1.026564</td>\n",
       "      <td>-0.497765</td>\n",
       "      <td>0.413718</td>\n",
       "      <td>-0.413718</td>\n",
       "    </tr>\n",
       "    <tr>\n",
       "      <th>2</th>\n",
       "      <td>-0.002596</td>\n",
       "      <td>-1.011986</td>\n",
       "      <td>-0.499007</td>\n",
       "      <td>0.516333</td>\n",
       "      <td>-0.106042</td>\n",
       "      <td>-2.583956</td>\n",
       "      <td>8.303279</td>\n",
       "      <td>-0.362184</td>\n",
       "      <td>0.800912</td>\n",
       "      <td>-0.800912</td>\n",
       "      <td>...</td>\n",
       "      <td>1.538282</td>\n",
       "      <td>-0.781009</td>\n",
       "      <td>1.230030</td>\n",
       "      <td>-0.576433</td>\n",
       "      <td>-0.738096</td>\n",
       "      <td>-0.636501</td>\n",
       "      <td>0.974123</td>\n",
       "      <td>-0.497765</td>\n",
       "      <td>0.413718</td>\n",
       "      <td>-0.413718</td>\n",
       "    </tr>\n",
       "    <tr>\n",
       "      <th>3</th>\n",
       "      <td>-0.138243</td>\n",
       "      <td>0.988156</td>\n",
       "      <td>-0.499007</td>\n",
       "      <td>0.516333</td>\n",
       "      <td>-0.106042</td>\n",
       "      <td>-2.583956</td>\n",
       "      <td>8.303279</td>\n",
       "      <td>-0.362184</td>\n",
       "      <td>-1.248576</td>\n",
       "      <td>1.248576</td>\n",
       "      <td>...</td>\n",
       "      <td>1.538282</td>\n",
       "      <td>-0.781009</td>\n",
       "      <td>-0.812988</td>\n",
       "      <td>-0.576433</td>\n",
       "      <td>1.354838</td>\n",
       "      <td>-0.636501</td>\n",
       "      <td>0.974123</td>\n",
       "      <td>-0.497765</td>\n",
       "      <td>-2.417104</td>\n",
       "      <td>2.417104</td>\n",
       "    </tr>\n",
       "    <tr>\n",
       "      <th>4</th>\n",
       "      <td>-0.138243</td>\n",
       "      <td>-1.011986</td>\n",
       "      <td>-0.499007</td>\n",
       "      <td>0.516333</td>\n",
       "      <td>-0.106042</td>\n",
       "      <td>-2.583956</td>\n",
       "      <td>8.303279</td>\n",
       "      <td>-0.362184</td>\n",
       "      <td>0.800912</td>\n",
       "      <td>-0.800912</td>\n",
       "      <td>...</td>\n",
       "      <td>-0.650076</td>\n",
       "      <td>1.280396</td>\n",
       "      <td>1.230030</td>\n",
       "      <td>-0.576433</td>\n",
       "      <td>-0.738096</td>\n",
       "      <td>1.571089</td>\n",
       "      <td>-1.026564</td>\n",
       "      <td>-0.497765</td>\n",
       "      <td>0.413718</td>\n",
       "      <td>-0.413718</td>\n",
       "    </tr>\n",
       "  </tbody>\n",
       "</table>\n",
       "<p>5 rows × 25 columns</p>\n",
       "</div>"
      ],
      "text/plain": [
       "        Age  treatment  Gender_Female  Gender_Male  Gender_Other  \\\n",
       "0  0.675640   0.988156       2.003980    -1.936735     -0.106042   \n",
       "1  1.625171  -1.011986      -0.499007     0.516333     -0.106042   \n",
       "2 -0.002596  -1.011986      -0.499007     0.516333     -0.106042   \n",
       "3 -0.138243   0.988156      -0.499007     0.516333     -0.106042   \n",
       "4 -0.138243  -1.011986      -0.499007     0.516333     -0.106042   \n",
       "\n",
       "   self_employed_No  self_employed_Unknown  self_employed_Yes  \\\n",
       "0         -2.583956               8.303279          -0.362184   \n",
       "1         -2.583956               8.303279          -0.362184   \n",
       "2         -2.583956               8.303279          -0.362184   \n",
       "3         -2.583956               8.303279          -0.362184   \n",
       "4         -2.583956               8.303279          -0.362184   \n",
       "\n",
       "   family_history_No  family_history_Yes  ...  benefits_No  benefits_Yes  \\\n",
       "0           0.800912           -0.800912  ...    -0.650076      1.280396   \n",
       "1           0.800912           -0.800912  ...    -0.650076     -0.781009   \n",
       "2           0.800912           -0.800912  ...     1.538282     -0.781009   \n",
       "3          -1.248576            1.248576  ...     1.538282     -0.781009   \n",
       "4           0.800912           -0.800912  ...    -0.650076      1.280396   \n",
       "\n",
       "   care_options_No  care_options_Not sure  care_options_Yes  \\\n",
       "0        -0.812988               1.734807         -0.738096   \n",
       "1         1.230030              -0.576433         -0.738096   \n",
       "2         1.230030              -0.576433         -0.738096   \n",
       "3        -0.812988              -0.576433          1.354838   \n",
       "4         1.230030              -0.576433         -0.738096   \n",
       "\n",
       "   seek_help_Don't know  seek_help_No  seek_help_Yes  obs_consequence_No  \\\n",
       "0             -0.636501     -1.026564       2.008980            0.413718   \n",
       "1              1.571089     -1.026564      -0.497765            0.413718   \n",
       "2             -0.636501      0.974123      -0.497765            0.413718   \n",
       "3             -0.636501      0.974123      -0.497765           -2.417104   \n",
       "4              1.571089     -1.026564      -0.497765            0.413718   \n",
       "\n",
       "   obs_consequence_Yes  \n",
       "0            -0.413718  \n",
       "1            -0.413718  \n",
       "2            -0.413718  \n",
       "3             2.417104  \n",
       "4            -0.413718  \n",
       "\n",
       "[5 rows x 25 columns]"
      ]
     },
     "execution_count": 34,
     "metadata": {},
     "output_type": "execute_result"
    }
   ],
   "source": [
    "# Scaled dataset shows that each numerical value has been transformed using standardization (z-score scaling)\n",
    "# Each feature (column) was scaled so the mean of each feature is 0 and std dev is 1\n",
    "df_encoded_scaled.head()"
   ]
  }
 ],
 "metadata": {
  "kernelspec": {
   "display_name": "Python 3 (ipykernel)",
   "language": "python",
   "name": "python3"
  },
  "language_info": {
   "codemirror_mode": {
    "name": "ipython",
    "version": 3
   },
   "file_extension": ".py",
   "mimetype": "text/x-python",
   "name": "python",
   "nbconvert_exporter": "python",
   "pygments_lexer": "ipython3",
   "version": "3.11.4"
  }
 },
 "nbformat": 4,
 "nbformat_minor": 5
}
