{
 "cells": [
  {
   "cell_type": "code",
   "execution_count": 2,
   "id": "15e797e8",
   "metadata": {},
   "outputs": [],
   "source": [
    "# Loading the dataset\n",
    "\n",
    "import pandas as pd\n",
    "import numpy as np\n",
    "from sklearn.utils import resample\n",
    "\n",
    "df = pd.read_csv(\"survey.csv\").dropna()"
   ]
  },
  {
   "cell_type": "code",
   "execution_count": 3,
   "id": "087654ad",
   "metadata": {
    "scrolled": true
   },
   "outputs": [
    {
     "name": "stdout",
     "output_type": "stream",
     "text": [
      "(86, 27)\n"
     ]
    }
   ],
   "source": [
    "# Previewing the data dimensions\n",
    "print(df.shape)"
   ]
  },
  {
   "cell_type": "code",
   "execution_count": 4,
   "id": "d4ce7201",
   "metadata": {},
   "outputs": [],
   "source": [
    "#oversampling\n",
    "df_minority = df[df['treatment'] == 'No']\n",
    "df_majority = df[df['treatment'] == 'Yes']"
   ]
  },
  {
   "cell_type": "code",
   "execution_count": 5,
   "id": "b724e371",
   "metadata": {},
   "outputs": [],
   "source": [
    "df_minority_upsampled = resample(\n",
    "    df_minority,\n",
    "    replace = True,\n",
    "    n_samples = len(df_majority),\n",
    "    random_state = 42)"
   ]
  },
  {
   "cell_type": "code",
   "execution_count": 6,
   "id": "80989674",
   "metadata": {},
   "outputs": [],
   "source": [
    "df_balanced = pd.concat([df_majority, df_minority_upsampled])"
   ]
  },
  {
   "cell_type": "code",
   "execution_count": 7,
   "id": "813b6c81",
   "metadata": {},
   "outputs": [],
   "source": [
    "df_balanced = df_balanced.sample(frac=1, random_state=42)"
   ]
  },
  {
   "cell_type": "code",
   "execution_count": 8,
   "id": "5fb61fae",
   "metadata": {},
   "outputs": [
    {
     "name": "stdout",
     "output_type": "stream",
     "text": [
      "(132, 27)\n"
     ]
    }
   ],
   "source": [
    "# Previewing the data dimensions\n",
    "print(df_balanced.shape)"
   ]
  },
  {
   "cell_type": "code",
   "execution_count": 9,
   "id": "159c8842",
   "metadata": {},
   "outputs": [
    {
     "name": "stdout",
     "output_type": "stream",
     "text": [
      "Index(['Timestamp', 'Age', 'Gender', 'Country', 'state', 'self_employed',\n",
      "       'family_history', 'treatment', 'work_interfere', 'no_employees',\n",
      "       'remote_work', 'tech_company', 'benefits', 'care_options',\n",
      "       'wellness_program', 'seek_help', 'anonymity', 'leave',\n",
      "       'mental_health_consequence', 'phys_health_consequence', 'coworkers',\n",
      "       'supervisor', 'mental_health_interview', 'phys_health_interview',\n",
      "       'mental_vs_physical', 'obs_consequence', 'comments'],\n",
      "      dtype='object')\n"
     ]
    }
   ],
   "source": [
    "# Previewing the data columns\n",
    "print(df_balanced.columns)"
   ]
  },
  {
   "cell_type": "code",
   "execution_count": 10,
   "id": "7fea9367",
   "metadata": {},
   "outputs": [
    {
     "name": "stdout",
     "output_type": "stream",
     "text": [
      "<class 'pandas.core.frame.DataFrame'>\n",
      "Int64Index: 132 entries, 1078 to 1024\n",
      "Data columns (total 27 columns):\n",
      " #   Column                     Non-Null Count  Dtype \n",
      "---  ------                     --------------  ----- \n",
      " 0   Timestamp                  132 non-null    object\n",
      " 1   Age                        132 non-null    int64 \n",
      " 2   Gender                     132 non-null    object\n",
      " 3   Country                    132 non-null    object\n",
      " 4   state                      132 non-null    object\n",
      " 5   self_employed              132 non-null    object\n",
      " 6   family_history             132 non-null    object\n",
      " 7   treatment                  132 non-null    object\n",
      " 8   work_interfere             132 non-null    object\n",
      " 9   no_employees               132 non-null    object\n",
      " 10  remote_work                132 non-null    object\n",
      " 11  tech_company               132 non-null    object\n",
      " 12  benefits                   132 non-null    object\n",
      " 13  care_options               132 non-null    object\n",
      " 14  wellness_program           132 non-null    object\n",
      " 15  seek_help                  132 non-null    object\n",
      " 16  anonymity                  132 non-null    object\n",
      " 17  leave                      132 non-null    object\n",
      " 18  mental_health_consequence  132 non-null    object\n",
      " 19  phys_health_consequence    132 non-null    object\n",
      " 20  coworkers                  132 non-null    object\n",
      " 21  supervisor                 132 non-null    object\n",
      " 22  mental_health_interview    132 non-null    object\n",
      " 23  phys_health_interview      132 non-null    object\n",
      " 24  mental_vs_physical         132 non-null    object\n",
      " 25  obs_consequence            132 non-null    object\n",
      " 26  comments                   132 non-null    object\n",
      "dtypes: int64(1), object(26)\n",
      "memory usage: 28.9+ KB\n",
      "None\n"
     ]
    }
   ],
   "source": [
    "# Previewing the data quick summary\n",
    "print(df_balanced.info())"
   ]
  },
  {
   "cell_type": "code",
   "execution_count": 11,
   "id": "11d7caeb",
   "metadata": {},
   "outputs": [
    {
     "name": "stdout",
     "output_type": "stream",
     "text": [
      "                Timestamp  Age  Gender        Country state self_employed  \\\n",
      "1078  2014-08-29 14:59:43   37  female  United States    NJ            No   \n",
      "849   2014-08-28 16:57:46   40       M  United States    IL            No   \n",
      "373   2014-08-27 15:22:20   32       F  United States    WA            No   \n",
      "627   2014-08-28 02:17:42   34    male  United States    CA           Yes   \n",
      "568   2014-08-27 19:45:36   31    male  United States    CA            No   \n",
      "\n",
      "     family_history treatment work_interfere    no_employees  ...  \\\n",
      "1078            Yes       Yes      Sometimes          26-100  ...   \n",
      "849              No        No         Rarely  More than 1000  ...   \n",
      "373              No       Yes      Sometimes          26-100  ...   \n",
      "627             Yes       Yes      Sometimes            6-25  ...   \n",
      "568             Yes        No      Sometimes  More than 1000  ...   \n",
      "\n",
      "              leave mental_health_consequence phys_health_consequence  \\\n",
      "1078     Don't know                       Yes                   Maybe   \n",
      "849      Don't know                        No                      No   \n",
      "373   Somewhat easy                     Maybe                      No   \n",
      "627   Somewhat easy                        No                      No   \n",
      "568   Somewhat easy                     Maybe                      No   \n",
      "\n",
      "         coworkers    supervisor mental_health_interview  \\\n",
      "1078            No            No                      No   \n",
      "849   Some of them  Some of them                      No   \n",
      "373   Some of them           Yes                      No   \n",
      "627   Some of them  Some of them                      No   \n",
      "568             No  Some of them                      No   \n",
      "\n",
      "     phys_health_interview mental_vs_physical obs_consequence  \\\n",
      "1078                 Maybe         Don't know              No   \n",
      "849                  Maybe         Don't know              No   \n",
      "373                  Maybe                Yes              No   \n",
      "627                     No                 No              No   \n",
      "568                    Yes                 No              No   \n",
      "\n",
      "                                               comments  \n",
      "1078  If a man in tech is afraid of speaking up abou...  \n",
      "849   While not personally affected I do have immedi...  \n",
      "373   My employer does what they can providing a wel...  \n",
      "627   thanks for what you're doing. FYI these questi...  \n",
      "568   Mental health issue I have dealt with: acute d...  \n",
      "\n",
      "[5 rows x 27 columns]\n"
     ]
    }
   ],
   "source": [
    "# Previewing the data - viewing first 5 records\n",
    "print(df_balanced.head())"
   ]
  },
  {
   "cell_type": "code",
   "execution_count": 12,
   "id": "01ed6ca2",
   "metadata": {},
   "outputs": [
    {
     "name": "stdout",
     "output_type": "stream",
     "text": [
      "      Age  Gender self_employed family_history remote_work tech_company  \\\n",
      "1078   37  female            No            Yes         Yes          Yes   \n",
      "849    40       M            No             No          No          Yes   \n",
      "373    32       F            No             No          No          Yes   \n",
      "627    34    male           Yes            Yes          No          Yes   \n",
      "568    31    male            No            Yes          No          Yes   \n",
      "\n",
      "     benefits care_options   seek_help obs_consequence treatment  \n",
      "1078      Yes          Yes  Don't know              No       Yes  \n",
      "849       Yes          Yes         Yes              No        No  \n",
      "373       Yes          Yes         Yes              No       Yes  \n",
      "627        No          Yes          No              No       Yes  \n",
      "568       Yes     Not sure  Don't know              No        No  \n"
     ]
    }
   ],
   "source": [
    "# Selecting features of interest and creating new dataframe with only those columns\n",
    "# 11 features selected (1 target feature: treatment)\n",
    "\n",
    "selected_features = [\n",
    "    'Age', 'Gender', 'self_employed', 'family_history', 'remote_work',\n",
    "    'tech_company', 'benefits', 'care_options', 'seek_help', 'obs_consequence', 'treatment'\n",
    "]\n",
    "\n",
    "df_selected = df_balanced[selected_features]\n",
    "\n",
    "print(df_selected.head())"
   ]
  },
  {
   "cell_type": "code",
   "execution_count": 13,
   "id": "a61ef420",
   "metadata": {},
   "outputs": [
    {
     "name": "stdout",
     "output_type": "stream",
     "text": [
      "<class 'pandas.core.frame.DataFrame'>\n",
      "Int64Index: 132 entries, 1078 to 1024\n",
      "Data columns (total 11 columns):\n",
      " #   Column           Non-Null Count  Dtype \n",
      "---  ------           --------------  ----- \n",
      " 0   Age              132 non-null    int64 \n",
      " 1   Gender           132 non-null    object\n",
      " 2   self_employed    132 non-null    object\n",
      " 3   family_history   132 non-null    object\n",
      " 4   remote_work      132 non-null    object\n",
      " 5   tech_company     132 non-null    object\n",
      " 6   benefits         132 non-null    object\n",
      " 7   care_options     132 non-null    object\n",
      " 8   seek_help        132 non-null    object\n",
      " 9   obs_consequence  132 non-null    object\n",
      " 10  treatment        132 non-null    object\n",
      "dtypes: int64(1), object(10)\n",
      "memory usage: 12.4+ KB\n",
      "None\n",
      "Age                0\n",
      "Gender             0\n",
      "self_employed      0\n",
      "family_history     0\n",
      "remote_work        0\n",
      "tech_company       0\n",
      "benefits           0\n",
      "care_options       0\n",
      "seek_help          0\n",
      "obs_consequence    0\n",
      "treatment          0\n",
      "dtype: int64\n"
     ]
    }
   ],
   "source": [
    "# Preview the selected dataframe and check null values\n",
    "print(df_selected.info())\n",
    "print(df_selected.isnull().sum())"
   ]
  },
  {
   "cell_type": "code",
   "execution_count": 14,
   "id": "66622cab",
   "metadata": {},
   "outputs": [
    {
     "name": "stderr",
     "output_type": "stream",
     "text": [
      "C:\\Users\\korie\\AppData\\Local\\Temp\\ipykernel_48120\\3013208014.py:2: SettingWithCopyWarning: \n",
      "A value is trying to be set on a copy of a slice from a DataFrame.\n",
      "Try using .loc[row_indexer,col_indexer] = value instead\n",
      "\n",
      "See the caveats in the documentation: https://pandas.pydata.org/pandas-docs/stable/user_guide/indexing.html#returning-a-view-versus-a-copy\n",
      "  df_selected['self_employed'] = df_selected['self_employed'].fillna(\"Unknown\")\n"
     ]
    }
   ],
   "source": [
    "# Replace null values in self_employed column with \"Unknown\"\n",
    "df_selected['self_employed'] = df_selected['self_employed'].fillna(\"Unknown\")"
   ]
  },
  {
   "cell_type": "code",
   "execution_count": 15,
   "id": "569677ee",
   "metadata": {},
   "outputs": [
    {
     "name": "stdout",
     "output_type": "stream",
     "text": [
      "Age                0\n",
      "Gender             0\n",
      "self_employed      0\n",
      "family_history     0\n",
      "remote_work        0\n",
      "tech_company       0\n",
      "benefits           0\n",
      "care_options       0\n",
      "seek_help          0\n",
      "obs_consequence    0\n",
      "treatment          0\n",
      "dtype: int64\n"
     ]
    }
   ],
   "source": [
    "# Checking that there are no null values in any columns\n",
    "print(df_selected.isnull().sum())"
   ]
  },
  {
   "cell_type": "code",
   "execution_count": 16,
   "id": "d803d050",
   "metadata": {},
   "outputs": [
    {
     "data": {
      "text/plain": [
       "array([37, 40, 32, 34, 31, 27, 46, 25, 29, 38, 30, 39, 33, 42, 44, 55, 45,\n",
       "       26, 41, 50, 35, 49, 56, 36, 48, 43, 21, 23,  8, -1], dtype=int64)"
      ]
     },
     "execution_count": 16,
     "metadata": {},
     "output_type": "execute_result"
    }
   ],
   "source": [
    "# Standardizing inconsistent values in columns\n",
    "\n",
    "# Age\n",
    "df_selected['Age'].unique()"
   ]
  },
  {
   "cell_type": "code",
   "execution_count": 17,
   "id": "d5c6127f",
   "metadata": {},
   "outputs": [
    {
     "name": "stderr",
     "output_type": "stream",
     "text": [
      "C:\\Users\\korie\\AppData\\Local\\Temp\\ipykernel_48120\\2154282880.py:3: SettingWithCopyWarning: \n",
      "A value is trying to be set on a copy of a slice from a DataFrame.\n",
      "Try using .loc[row_indexer,col_indexer] = value instead\n",
      "\n",
      "See the caveats in the documentation: https://pandas.pydata.org/pandas-docs/stable/user_guide/indexing.html#returning-a-view-versus-a-copy\n",
      "  df_selected['Age'] = df_selected['Age'].apply(lambda x: x if min_age <= x <= max_age else np.nan)\n"
     ]
    }
   ],
   "source": [
    "min_age = 0\n",
    "max_age = 120\n",
    "df_selected['Age'] = df_selected['Age'].apply(lambda x: x if min_age <= x <= max_age else np.nan)"
   ]
  },
  {
   "cell_type": "code",
   "execution_count": 18,
   "id": "8e1233d2",
   "metadata": {},
   "outputs": [
    {
     "data": {
      "text/plain": [
       "array([37., 40., 32., 34., 31., 27., 46., 25., 29., 38., 30., 39., 33.,\n",
       "       42., 44., 55., 45., 26., 41., 50., 35., 49., 56., 36., 48., 43.,\n",
       "       21., 23.,  8., nan])"
      ]
     },
     "execution_count": 18,
     "metadata": {},
     "output_type": "execute_result"
    }
   ],
   "source": [
    "df_selected['Age'].unique()\n",
    "\n",
    "# Remains numeric, and any invalid values will just be NaN\n",
    "# Skipped in calculations by default or can be filled with a statistic (mean, median, etc.) or can be dropped"
   ]
  },
  {
   "cell_type": "code",
   "execution_count": 19,
   "id": "7ae83a4f",
   "metadata": {
    "scrolled": true
   },
   "outputs": [
    {
     "data": {
      "text/plain": [
       "Male                  63\n",
       "M                     18\n",
       "male                  14\n",
       "female                10\n",
       "Female                10\n",
       "m                      4\n",
       "F                      3\n",
       "Female (cis)           3\n",
       "cis-female/femme       1\n",
       "Female                 1\n",
       "f                      1\n",
       "A little about you     1\n",
       "Cis Male               1\n",
       "woman                  1\n",
       "p                      1\n",
       "Name: Gender, dtype: int64"
      ]
     },
     "execution_count": 19,
     "metadata": {},
     "output_type": "execute_result"
    }
   ],
   "source": [
    "# Gender\n",
    "df_selected['Gender'].unique()\n",
    "df_selected['Gender'].value_counts()"
   ]
  },
  {
   "cell_type": "code",
   "execution_count": 20,
   "id": "2172342d",
   "metadata": {},
   "outputs": [],
   "source": [
    "gender_map = {\n",
    "    # Male variants\n",
    "    'male': 'Male', 'm': 'Male', 'man': 'Male', 'cis male': 'Male', 'cis man': 'Male',\n",
    "    'male ': 'Male', 'msle': 'Male', 'mal': 'Male', 'malr': 'Male', 'maile': 'Male',\n",
    "    'make': 'Male', 'mail': 'Male', 'male (cis)': 'Male', 'm ': 'Male', 'guy (-ish) ^_^': 'Male',\n",
    "    'male leaning androgynous': 'Male', 'ostensibly male, unsure what that really means': 'Male',\n",
    "    'male-ish': 'Male',\n",
    "\n",
    "    # Female variants\n",
    "    'female': 'Female', 'f': 'Female', 'woman': 'Female', 'cis female': 'Female',\n",
    "    'femake': 'Female', 'femail': 'Female', 'female ': 'Female', 'female (cis)': 'Female',\n",
    "    'female (trans)': 'Female', 'trans-female': 'Female', 'trans woman': 'Female',\n",
    "    'cis-female/femme': 'Female', 'cis female': 'Female', 'cisfemale': 'Female',\n",
    "\n",
    "    # Everything else\n",
    "    'queer': 'Other', 'non-binary': 'Other', 'enby': 'Other', 'agender': 'Other',\n",
    "    'androgyne': 'Other', 'genderqueer': 'Other', 'fluid': 'Other', 'nah': 'Other',\n",
    "    'all': 'Other', 'a little about you': 'Other', 'queer/she/they': 'Other',\n",
    "    'something kinda male?': 'Other', 'p': 'Other'\n",
    "}"
   ]
  },
  {
   "cell_type": "code",
   "execution_count": 21,
   "id": "bbdbb75c",
   "metadata": {},
   "outputs": [
    {
     "name": "stderr",
     "output_type": "stream",
     "text": [
      "C:\\Users\\korie\\AppData\\Local\\Temp\\ipykernel_48120\\3712702507.py:1: SettingWithCopyWarning: \n",
      "A value is trying to be set on a copy of a slice from a DataFrame.\n",
      "Try using .loc[row_indexer,col_indexer] = value instead\n",
      "\n",
      "See the caveats in the documentation: https://pandas.pydata.org/pandas-docs/stable/user_guide/indexing.html#returning-a-view-versus-a-copy\n",
      "  df_selected['Gender'] = df_selected['Gender'].str.strip().str.lower().map(gender_map).fillna('Other')\n"
     ]
    }
   ],
   "source": [
    "df_selected['Gender'] = df_selected['Gender'].str.strip().str.lower().map(gender_map).fillna('Other')"
   ]
  },
  {
   "cell_type": "code",
   "execution_count": 22,
   "id": "8302e17f",
   "metadata": {},
   "outputs": [
    {
     "data": {
      "text/plain": [
       "array(['Female', 'Male', 'Other'], dtype=object)"
      ]
     },
     "execution_count": 22,
     "metadata": {},
     "output_type": "execute_result"
    }
   ],
   "source": [
    "df_selected['Gender'].unique()"
   ]
  },
  {
   "cell_type": "code",
   "execution_count": 23,
   "id": "c6f0029c",
   "metadata": {},
   "outputs": [
    {
     "data": {
      "text/plain": [
       "Male      100\n",
       "Female     30\n",
       "Other       2\n",
       "Name: Gender, dtype: int64"
      ]
     },
     "execution_count": 23,
     "metadata": {},
     "output_type": "execute_result"
    }
   ],
   "source": [
    "df_selected['Gender'].value_counts()"
   ]
  },
  {
   "cell_type": "code",
   "execution_count": 24,
   "id": "68907c2c",
   "metadata": {},
   "outputs": [
    {
     "data": {
      "text/plain": [
       "No     113\n",
       "Yes     19\n",
       "Name: self_employed, dtype: int64"
      ]
     },
     "execution_count": 24,
     "metadata": {},
     "output_type": "execute_result"
    }
   ],
   "source": [
    "# self_employed\n",
    "df_selected['self_employed'].unique()\n",
    "df_selected['self_employed'].value_counts()"
   ]
  },
  {
   "cell_type": "code",
   "execution_count": 25,
   "id": "cc8141f9",
   "metadata": {},
   "outputs": [
    {
     "data": {
      "text/plain": [
       "No     69\n",
       "Yes    63\n",
       "Name: family_history, dtype: int64"
      ]
     },
     "execution_count": 25,
     "metadata": {},
     "output_type": "execute_result"
    }
   ],
   "source": [
    "# family_history\n",
    "df_selected['family_history'].unique()\n",
    "df_selected['family_history'].value_counts()"
   ]
  },
  {
   "cell_type": "code",
   "execution_count": 26,
   "id": "308dfbbd",
   "metadata": {},
   "outputs": [
    {
     "data": {
      "text/plain": [
       "No     79\n",
       "Yes    53\n",
       "Name: remote_work, dtype: int64"
      ]
     },
     "execution_count": 26,
     "metadata": {},
     "output_type": "execute_result"
    }
   ],
   "source": [
    "# remote_work\n",
    "df_selected['remote_work'].unique()\n",
    "df_selected['remote_work'].value_counts()"
   ]
  },
  {
   "cell_type": "code",
   "execution_count": 27,
   "id": "f49d6337",
   "metadata": {},
   "outputs": [
    {
     "data": {
      "text/plain": [
       "Yes    115\n",
       "No      17\n",
       "Name: tech_company, dtype: int64"
      ]
     },
     "execution_count": 27,
     "metadata": {},
     "output_type": "execute_result"
    }
   ],
   "source": [
    "# tech_company\n",
    "df_selected['tech_company'].unique()\n",
    "df_selected['tech_company'].value_counts()"
   ]
  },
  {
   "cell_type": "code",
   "execution_count": 28,
   "id": "659eb475",
   "metadata": {},
   "outputs": [
    {
     "data": {
      "text/plain": [
       "Yes           67\n",
       "Don't know    37\n",
       "No            28\n",
       "Name: benefits, dtype: int64"
      ]
     },
     "execution_count": 28,
     "metadata": {},
     "output_type": "execute_result"
    }
   ],
   "source": [
    "# benefits\n",
    "df_selected['benefits'].unique()\n",
    "df_selected['benefits'].value_counts()"
   ]
  },
  {
   "cell_type": "code",
   "execution_count": 29,
   "id": "1b6dbc10",
   "metadata": {},
   "outputs": [
    {
     "data": {
      "text/plain": [
       "Yes         63\n",
       "Not sure    35\n",
       "No          34\n",
       "Name: care_options, dtype: int64"
      ]
     },
     "execution_count": 29,
     "metadata": {},
     "output_type": "execute_result"
    }
   ],
   "source": [
    "# care_options\n",
    "df_selected['care_options'].unique()\n",
    "df_selected['care_options'].value_counts()"
   ]
  },
  {
   "cell_type": "code",
   "execution_count": 30,
   "id": "9e987898",
   "metadata": {},
   "outputs": [
    {
     "data": {
      "text/plain": [
       "Yes           52\n",
       "No            48\n",
       "Don't know    32\n",
       "Name: seek_help, dtype: int64"
      ]
     },
     "execution_count": 30,
     "metadata": {},
     "output_type": "execute_result"
    }
   ],
   "source": [
    "# seek_help\n",
    "df_selected['seek_help'].unique()\n",
    "df_selected['seek_help'].value_counts()"
   ]
  },
  {
   "cell_type": "code",
   "execution_count": 31,
   "id": "64e5dc8d",
   "metadata": {},
   "outputs": [
    {
     "data": {
      "text/plain": [
       "No     108\n",
       "Yes     24\n",
       "Name: obs_consequence, dtype: int64"
      ]
     },
     "execution_count": 31,
     "metadata": {},
     "output_type": "execute_result"
    }
   ],
   "source": [
    "# obs_consequence\n",
    "df_selected['obs_consequence'].unique()\n",
    "df_selected['obs_consequence'].value_counts()"
   ]
  },
  {
   "cell_type": "code",
   "execution_count": 32,
   "id": "9b681b4d",
   "metadata": {},
   "outputs": [
    {
     "data": {
      "text/plain": [
       "Yes    66\n",
       "No     66\n",
       "Name: treatment, dtype: int64"
      ]
     },
     "execution_count": 32,
     "metadata": {},
     "output_type": "execute_result"
    }
   ],
   "source": [
    "# treatment\n",
    "df_selected['treatment'].unique()\n",
    "df_selected['treatment'].value_counts()"
   ]
  },
  {
   "cell_type": "code",
   "execution_count": 33,
   "id": "6a65ec82",
   "metadata": {},
   "outputs": [
    {
     "name": "stdout",
     "output_type": "stream",
     "text": [
      "Age                float64\n",
      "Gender              object\n",
      "self_employed       object\n",
      "family_history      object\n",
      "remote_work         object\n",
      "tech_company        object\n",
      "benefits            object\n",
      "care_options        object\n",
      "seek_help           object\n",
      "obs_consequence     object\n",
      "treatment           object\n",
      "dtype: object\n"
     ]
    }
   ],
   "source": [
    "print(df_selected.dtypes)"
   ]
  },
  {
   "cell_type": "code",
   "execution_count": 34,
   "id": "860358e2",
   "metadata": {},
   "outputs": [],
   "source": [
    "# Object type variables need to be encoded because decision tree models require numerical values to make splits based on thresholds.\n",
    "# For nominal categorical variables, one-hot encoding.\n",
    "\n",
    "# List of columns to apply one-hot encoding to\n",
    "categorical_columns = ['Gender', 'self_employed', 'family_history', 'remote_work', \n",
    "                       'tech_company', 'benefits', 'care_options', 'seek_help', \n",
    "                       'obs_consequence']\n",
    "\n",
    "# Apply one-hot encoding using pandas\n",
    "df_encoded = pd.get_dummies(df_selected, columns=categorical_columns, drop_first=False)\n",
    "\n",
    "# Decision Trees don’t suffer from multicollinearity\n",
    "# Decision trees split the data based on feature values, so having redundant features doesn’t cause the same issues as in models like linear regression.\n",
    "# For decision trees, you can choose whether to drop the first category or not."
   ]
  },
  {
   "cell_type": "code",
   "execution_count": 35,
   "id": "63f8cbed",
   "metadata": {},
   "outputs": [
    {
     "data": {
      "text/html": [
       "<div>\n",
       "<style scoped>\n",
       "    .dataframe tbody tr th:only-of-type {\n",
       "        vertical-align: middle;\n",
       "    }\n",
       "\n",
       "    .dataframe tbody tr th {\n",
       "        vertical-align: top;\n",
       "    }\n",
       "\n",
       "    .dataframe thead th {\n",
       "        text-align: right;\n",
       "    }\n",
       "</style>\n",
       "<table border=\"1\" class=\"dataframe\">\n",
       "  <thead>\n",
       "    <tr style=\"text-align: right;\">\n",
       "      <th></th>\n",
       "      <th>Age</th>\n",
       "      <th>treatment</th>\n",
       "      <th>Gender_Female</th>\n",
       "      <th>Gender_Male</th>\n",
       "      <th>Gender_Other</th>\n",
       "      <th>self_employed_No</th>\n",
       "      <th>self_employed_Yes</th>\n",
       "      <th>family_history_No</th>\n",
       "      <th>family_history_Yes</th>\n",
       "      <th>remote_work_No</th>\n",
       "      <th>...</th>\n",
       "      <th>benefits_No</th>\n",
       "      <th>benefits_Yes</th>\n",
       "      <th>care_options_No</th>\n",
       "      <th>care_options_Not sure</th>\n",
       "      <th>care_options_Yes</th>\n",
       "      <th>seek_help_Don't know</th>\n",
       "      <th>seek_help_No</th>\n",
       "      <th>seek_help_Yes</th>\n",
       "      <th>obs_consequence_No</th>\n",
       "      <th>obs_consequence_Yes</th>\n",
       "    </tr>\n",
       "  </thead>\n",
       "  <tbody>\n",
       "    <tr>\n",
       "      <th>1078</th>\n",
       "      <td>37.0</td>\n",
       "      <td>Yes</td>\n",
       "      <td>1</td>\n",
       "      <td>0</td>\n",
       "      <td>0</td>\n",
       "      <td>1</td>\n",
       "      <td>0</td>\n",
       "      <td>0</td>\n",
       "      <td>1</td>\n",
       "      <td>0</td>\n",
       "      <td>...</td>\n",
       "      <td>0</td>\n",
       "      <td>1</td>\n",
       "      <td>0</td>\n",
       "      <td>0</td>\n",
       "      <td>1</td>\n",
       "      <td>1</td>\n",
       "      <td>0</td>\n",
       "      <td>0</td>\n",
       "      <td>1</td>\n",
       "      <td>0</td>\n",
       "    </tr>\n",
       "    <tr>\n",
       "      <th>849</th>\n",
       "      <td>40.0</td>\n",
       "      <td>No</td>\n",
       "      <td>0</td>\n",
       "      <td>1</td>\n",
       "      <td>0</td>\n",
       "      <td>1</td>\n",
       "      <td>0</td>\n",
       "      <td>1</td>\n",
       "      <td>0</td>\n",
       "      <td>1</td>\n",
       "      <td>...</td>\n",
       "      <td>0</td>\n",
       "      <td>1</td>\n",
       "      <td>0</td>\n",
       "      <td>0</td>\n",
       "      <td>1</td>\n",
       "      <td>0</td>\n",
       "      <td>0</td>\n",
       "      <td>1</td>\n",
       "      <td>1</td>\n",
       "      <td>0</td>\n",
       "    </tr>\n",
       "    <tr>\n",
       "      <th>373</th>\n",
       "      <td>32.0</td>\n",
       "      <td>Yes</td>\n",
       "      <td>1</td>\n",
       "      <td>0</td>\n",
       "      <td>0</td>\n",
       "      <td>1</td>\n",
       "      <td>0</td>\n",
       "      <td>1</td>\n",
       "      <td>0</td>\n",
       "      <td>1</td>\n",
       "      <td>...</td>\n",
       "      <td>0</td>\n",
       "      <td>1</td>\n",
       "      <td>0</td>\n",
       "      <td>0</td>\n",
       "      <td>1</td>\n",
       "      <td>0</td>\n",
       "      <td>0</td>\n",
       "      <td>1</td>\n",
       "      <td>1</td>\n",
       "      <td>0</td>\n",
       "    </tr>\n",
       "    <tr>\n",
       "      <th>627</th>\n",
       "      <td>34.0</td>\n",
       "      <td>Yes</td>\n",
       "      <td>0</td>\n",
       "      <td>1</td>\n",
       "      <td>0</td>\n",
       "      <td>0</td>\n",
       "      <td>1</td>\n",
       "      <td>0</td>\n",
       "      <td>1</td>\n",
       "      <td>1</td>\n",
       "      <td>...</td>\n",
       "      <td>1</td>\n",
       "      <td>0</td>\n",
       "      <td>0</td>\n",
       "      <td>0</td>\n",
       "      <td>1</td>\n",
       "      <td>0</td>\n",
       "      <td>1</td>\n",
       "      <td>0</td>\n",
       "      <td>1</td>\n",
       "      <td>0</td>\n",
       "    </tr>\n",
       "    <tr>\n",
       "      <th>568</th>\n",
       "      <td>31.0</td>\n",
       "      <td>No</td>\n",
       "      <td>0</td>\n",
       "      <td>1</td>\n",
       "      <td>0</td>\n",
       "      <td>1</td>\n",
       "      <td>0</td>\n",
       "      <td>0</td>\n",
       "      <td>1</td>\n",
       "      <td>1</td>\n",
       "      <td>...</td>\n",
       "      <td>0</td>\n",
       "      <td>1</td>\n",
       "      <td>0</td>\n",
       "      <td>1</td>\n",
       "      <td>0</td>\n",
       "      <td>1</td>\n",
       "      <td>0</td>\n",
       "      <td>0</td>\n",
       "      <td>1</td>\n",
       "      <td>0</td>\n",
       "    </tr>\n",
       "  </tbody>\n",
       "</table>\n",
       "<p>5 rows × 24 columns</p>\n",
       "</div>"
      ],
      "text/plain": [
       "       Age treatment  Gender_Female  Gender_Male  Gender_Other  \\\n",
       "1078  37.0       Yes              1            0             0   \n",
       "849   40.0        No              0            1             0   \n",
       "373   32.0       Yes              1            0             0   \n",
       "627   34.0       Yes              0            1             0   \n",
       "568   31.0        No              0            1             0   \n",
       "\n",
       "      self_employed_No  self_employed_Yes  family_history_No  \\\n",
       "1078                 1                  0                  0   \n",
       "849                  1                  0                  1   \n",
       "373                  1                  0                  1   \n",
       "627                  0                  1                  0   \n",
       "568                  1                  0                  0   \n",
       "\n",
       "      family_history_Yes  remote_work_No  ...  benefits_No  benefits_Yes  \\\n",
       "1078                   1               0  ...            0             1   \n",
       "849                    0               1  ...            0             1   \n",
       "373                    0               1  ...            0             1   \n",
       "627                    1               1  ...            1             0   \n",
       "568                    1               1  ...            0             1   \n",
       "\n",
       "      care_options_No  care_options_Not sure  care_options_Yes  \\\n",
       "1078                0                      0                 1   \n",
       "849                 0                      0                 1   \n",
       "373                 0                      0                 1   \n",
       "627                 0                      0                 1   \n",
       "568                 0                      1                 0   \n",
       "\n",
       "      seek_help_Don't know  seek_help_No  seek_help_Yes  obs_consequence_No  \\\n",
       "1078                     1             0              0                   1   \n",
       "849                      0             0              1                   1   \n",
       "373                      0             0              1                   1   \n",
       "627                      0             1              0                   1   \n",
       "568                      1             0              0                   1   \n",
       "\n",
       "      obs_consequence_Yes  \n",
       "1078                    0  \n",
       "849                     0  \n",
       "373                     0  \n",
       "627                     0  \n",
       "568                     0  \n",
       "\n",
       "[5 rows x 24 columns]"
      ]
     },
     "execution_count": 35,
     "metadata": {},
     "output_type": "execute_result"
    }
   ],
   "source": [
    "df_encoded.head()"
   ]
  },
  {
   "cell_type": "code",
   "execution_count": 36,
   "id": "7a106510",
   "metadata": {},
   "outputs": [],
   "source": [
    "df_encoded['treatment'] = df_encoded['treatment'].map({'Yes': 1, 'No': 0})"
   ]
  },
  {
   "cell_type": "code",
   "execution_count": 37,
   "id": "afc104ec",
   "metadata": {},
   "outputs": [],
   "source": [
    "# Saving cleaned, encoded dataset to csv file that can be used for modeling\n",
    "df_encoded.to_csv(\"cleaned_tech_survey_oversample.csv\", index=False)"
   ]
  }
 ],
 "metadata": {
  "kernelspec": {
   "display_name": "Python 3 (ipykernel)",
   "language": "python",
   "name": "python3"
  },
  "language_info": {
   "codemirror_mode": {
    "name": "ipython",
    "version": 3
   },
   "file_extension": ".py",
   "mimetype": "text/x-python",
   "name": "python",
   "nbconvert_exporter": "python",
   "pygments_lexer": "ipython3",
   "version": "3.11.4"
  }
 },
 "nbformat": 4,
 "nbformat_minor": 5
}
