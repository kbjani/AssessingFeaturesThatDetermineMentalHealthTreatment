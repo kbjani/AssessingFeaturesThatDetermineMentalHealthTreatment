{
 "cells": [
  {
   "cell_type": "code",
   "execution_count": 1,
   "id": "15e797e8",
   "metadata": {},
   "outputs": [],
   "source": [
    "# Loading the dataset\n",
    "\n",
    "import pandas as pd\n",
    "import numpy as np\n",
    "\n",
    "df = pd.read_csv(\"survey.csv\")"
   ]
  },
  {
   "cell_type": "code",
   "execution_count": 2,
   "id": "087654ad",
   "metadata": {},
   "outputs": [
    {
     "name": "stdout",
     "output_type": "stream",
     "text": [
      "(1259, 27)\n"
     ]
    }
   ],
   "source": [
    "# Previewing the data dimensions\n",
    "print(df.shape)"
   ]
  },
  {
   "cell_type": "code",
   "execution_count": 3,
   "id": "159c8842",
   "metadata": {},
   "outputs": [
    {
     "name": "stdout",
     "output_type": "stream",
     "text": [
      "Index(['Timestamp', 'Age', 'Gender', 'Country', 'state', 'self_employed',\n",
      "       'family_history', 'treatment', 'work_interfere', 'no_employees',\n",
      "       'remote_work', 'tech_company', 'benefits', 'care_options',\n",
      "       'wellness_program', 'seek_help', 'anonymity', 'leave',\n",
      "       'mental_health_consequence', 'phys_health_consequence', 'coworkers',\n",
      "       'supervisor', 'mental_health_interview', 'phys_health_interview',\n",
      "       'mental_vs_physical', 'obs_consequence', 'comments'],\n",
      "      dtype='object')\n"
     ]
    }
   ],
   "source": [
    "# Previewing the data columns\n",
    "print(df.columns)"
   ]
  },
  {
   "cell_type": "code",
   "execution_count": 4,
   "id": "7fea9367",
   "metadata": {},
   "outputs": [
    {
     "name": "stdout",
     "output_type": "stream",
     "text": [
      "<class 'pandas.core.frame.DataFrame'>\n",
      "RangeIndex: 1259 entries, 0 to 1258\n",
      "Data columns (total 27 columns):\n",
      " #   Column                     Non-Null Count  Dtype \n",
      "---  ------                     --------------  ----- \n",
      " 0   Timestamp                  1259 non-null   object\n",
      " 1   Age                        1259 non-null   int64 \n",
      " 2   Gender                     1259 non-null   object\n",
      " 3   Country                    1259 non-null   object\n",
      " 4   state                      744 non-null    object\n",
      " 5   self_employed              1241 non-null   object\n",
      " 6   family_history             1259 non-null   object\n",
      " 7   treatment                  1259 non-null   object\n",
      " 8   work_interfere             995 non-null    object\n",
      " 9   no_employees               1259 non-null   object\n",
      " 10  remote_work                1259 non-null   object\n",
      " 11  tech_company               1259 non-null   object\n",
      " 12  benefits                   1259 non-null   object\n",
      " 13  care_options               1259 non-null   object\n",
      " 14  wellness_program           1259 non-null   object\n",
      " 15  seek_help                  1259 non-null   object\n",
      " 16  anonymity                  1259 non-null   object\n",
      " 17  leave                      1259 non-null   object\n",
      " 18  mental_health_consequence  1259 non-null   object\n",
      " 19  phys_health_consequence    1259 non-null   object\n",
      " 20  coworkers                  1259 non-null   object\n",
      " 21  supervisor                 1259 non-null   object\n",
      " 22  mental_health_interview    1259 non-null   object\n",
      " 23  phys_health_interview      1259 non-null   object\n",
      " 24  mental_vs_physical         1259 non-null   object\n",
      " 25  obs_consequence            1259 non-null   object\n",
      " 26  comments                   164 non-null    object\n",
      "dtypes: int64(1), object(26)\n",
      "memory usage: 265.7+ KB\n",
      "None\n"
     ]
    }
   ],
   "source": [
    "# Previewing the data quick summary\n",
    "print(df.info())"
   ]
  },
  {
   "cell_type": "code",
   "execution_count": 5,
   "id": "11d7caeb",
   "metadata": {},
   "outputs": [
    {
     "name": "stdout",
     "output_type": "stream",
     "text": [
      "             Timestamp  Age  Gender         Country state self_employed  \\\n",
      "0  2014-08-27 11:29:31   37  Female   United States    IL           NaN   \n",
      "1  2014-08-27 11:29:37   44       M   United States    IN           NaN   \n",
      "2  2014-08-27 11:29:44   32    Male          Canada   NaN           NaN   \n",
      "3  2014-08-27 11:29:46   31    Male  United Kingdom   NaN           NaN   \n",
      "4  2014-08-27 11:30:22   31    Male   United States    TX           NaN   \n",
      "\n",
      "  family_history treatment work_interfere    no_employees  ...  \\\n",
      "0             No       Yes          Often            6-25  ...   \n",
      "1             No        No         Rarely  More than 1000  ...   \n",
      "2             No        No         Rarely            6-25  ...   \n",
      "3            Yes       Yes          Often          26-100  ...   \n",
      "4             No        No          Never         100-500  ...   \n",
      "\n",
      "                leave mental_health_consequence phys_health_consequence  \\\n",
      "0       Somewhat easy                        No                      No   \n",
      "1          Don't know                     Maybe                      No   \n",
      "2  Somewhat difficult                        No                      No   \n",
      "3  Somewhat difficult                       Yes                     Yes   \n",
      "4          Don't know                        No                      No   \n",
      "\n",
      "      coworkers supervisor mental_health_interview phys_health_interview  \\\n",
      "0  Some of them        Yes                      No                 Maybe   \n",
      "1            No         No                      No                    No   \n",
      "2           Yes        Yes                     Yes                   Yes   \n",
      "3  Some of them         No                   Maybe                 Maybe   \n",
      "4  Some of them        Yes                     Yes                   Yes   \n",
      "\n",
      "  mental_vs_physical obs_consequence comments  \n",
      "0                Yes              No      NaN  \n",
      "1         Don't know              No      NaN  \n",
      "2                 No              No      NaN  \n",
      "3                 No             Yes      NaN  \n",
      "4         Don't know              No      NaN  \n",
      "\n",
      "[5 rows x 27 columns]\n"
     ]
    }
   ],
   "source": [
    "# Previewing the data - viewing first 5 records\n",
    "print(df.head())"
   ]
  },
  {
   "cell_type": "code",
   "execution_count": 6,
   "id": "a61ef420",
   "metadata": {},
   "outputs": [
    {
     "name": "stdout",
     "output_type": "stream",
     "text": [
      "<class 'pandas.core.frame.DataFrame'>\n",
      "RangeIndex: 1259 entries, 0 to 1258\n",
      "Data columns (total 27 columns):\n",
      " #   Column                     Non-Null Count  Dtype \n",
      "---  ------                     --------------  ----- \n",
      " 0   Timestamp                  1259 non-null   object\n",
      " 1   Age                        1259 non-null   int64 \n",
      " 2   Gender                     1259 non-null   object\n",
      " 3   Country                    1259 non-null   object\n",
      " 4   state                      744 non-null    object\n",
      " 5   self_employed              1241 non-null   object\n",
      " 6   family_history             1259 non-null   object\n",
      " 7   treatment                  1259 non-null   object\n",
      " 8   work_interfere             995 non-null    object\n",
      " 9   no_employees               1259 non-null   object\n",
      " 10  remote_work                1259 non-null   object\n",
      " 11  tech_company               1259 non-null   object\n",
      " 12  benefits                   1259 non-null   object\n",
      " 13  care_options               1259 non-null   object\n",
      " 14  wellness_program           1259 non-null   object\n",
      " 15  seek_help                  1259 non-null   object\n",
      " 16  anonymity                  1259 non-null   object\n",
      " 17  leave                      1259 non-null   object\n",
      " 18  mental_health_consequence  1259 non-null   object\n",
      " 19  phys_health_consequence    1259 non-null   object\n",
      " 20  coworkers                  1259 non-null   object\n",
      " 21  supervisor                 1259 non-null   object\n",
      " 22  mental_health_interview    1259 non-null   object\n",
      " 23  phys_health_interview      1259 non-null   object\n",
      " 24  mental_vs_physical         1259 non-null   object\n",
      " 25  obs_consequence            1259 non-null   object\n",
      " 26  comments                   164 non-null    object\n",
      "dtypes: int64(1), object(26)\n",
      "memory usage: 265.7+ KB\n",
      "None\n",
      "Timestamp                       0\n",
      "Age                             0\n",
      "Gender                          0\n",
      "Country                         0\n",
      "state                         515\n",
      "self_employed                  18\n",
      "family_history                  0\n",
      "treatment                       0\n",
      "work_interfere                264\n",
      "no_employees                    0\n",
      "remote_work                     0\n",
      "tech_company                    0\n",
      "benefits                        0\n",
      "care_options                    0\n",
      "wellness_program                0\n",
      "seek_help                       0\n",
      "anonymity                       0\n",
      "leave                           0\n",
      "mental_health_consequence       0\n",
      "phys_health_consequence         0\n",
      "coworkers                       0\n",
      "supervisor                      0\n",
      "mental_health_interview         0\n",
      "phys_health_interview           0\n",
      "mental_vs_physical              0\n",
      "obs_consequence                 0\n",
      "comments                     1095\n",
      "dtype: int64\n"
     ]
    }
   ],
   "source": [
    "# Preview the selected dataframe and check null values\n",
    "print(df.info())\n",
    "print(df.isnull().sum())"
   ]
  },
  {
   "cell_type": "code",
   "execution_count": 7,
   "id": "cfabb755",
   "metadata": {},
   "outputs": [],
   "source": [
    "# Replace null values in state column with \"Unknown\"\n",
    "df['state'] = df['state'].fillna('Unknown')"
   ]
  },
  {
   "cell_type": "code",
   "execution_count": 8,
   "id": "66622cab",
   "metadata": {},
   "outputs": [],
   "source": [
    "# Replace null values in self_employed column with \"Unknown\"\n",
    "df['self_employed'] = df['self_employed'].fillna('Unknown')"
   ]
  },
  {
   "cell_type": "code",
   "execution_count": 9,
   "id": "7e46eb74",
   "metadata": {},
   "outputs": [],
   "source": [
    "# Replace null values in work_interfere column with \"Unknown\"\n",
    "df['work_interfere'] = df['work_interfere'].fillna('Unknown')"
   ]
  },
  {
   "cell_type": "code",
   "execution_count": 10,
   "id": "644f7738",
   "metadata": {},
   "outputs": [],
   "source": [
    "# Replace null values in work_interfere column with \"Unknown\"\n",
    "df['comments'] = df['comments'].fillna('')"
   ]
  },
  {
   "cell_type": "code",
   "execution_count": 11,
   "id": "880a5317",
   "metadata": {},
   "outputs": [],
   "source": [
    "# I decided to fill misisng values with Unknown/empty string (for comments) to avoid dropping any records and losing data.\n",
    "# If needed, these records can be dropped/handled when modeling.\n",
    "# Comments has a significant amount of missing values that were filled with empty strings, so this column may need to be dropped in modeling if needed."
   ]
  },
  {
   "cell_type": "code",
   "execution_count": 12,
   "id": "569677ee",
   "metadata": {},
   "outputs": [
    {
     "name": "stdout",
     "output_type": "stream",
     "text": [
      "Timestamp                    0\n",
      "Age                          0\n",
      "Gender                       0\n",
      "Country                      0\n",
      "state                        0\n",
      "self_employed                0\n",
      "family_history               0\n",
      "treatment                    0\n",
      "work_interfere               0\n",
      "no_employees                 0\n",
      "remote_work                  0\n",
      "tech_company                 0\n",
      "benefits                     0\n",
      "care_options                 0\n",
      "wellness_program             0\n",
      "seek_help                    0\n",
      "anonymity                    0\n",
      "leave                        0\n",
      "mental_health_consequence    0\n",
      "phys_health_consequence      0\n",
      "coworkers                    0\n",
      "supervisor                   0\n",
      "mental_health_interview      0\n",
      "phys_health_interview        0\n",
      "mental_vs_physical           0\n",
      "obs_consequence              0\n",
      "comments                     0\n",
      "dtype: int64\n"
     ]
    }
   ],
   "source": [
    "# Checking that there are no null values in any columns\n",
    "print(df.isnull().sum())"
   ]
  },
  {
   "cell_type": "code",
   "execution_count": 13,
   "id": "d803d050",
   "metadata": {},
   "outputs": [
    {
     "data": {
      "text/plain": [
       "2014-08-27 12:44:51    2\n",
       "2014-08-27 14:22:43    2\n",
       "2014-08-27 12:31:41    2\n",
       "2014-08-28 16:52:34    2\n",
       "2014-08-27 17:33:52    2\n",
       "                      ..\n",
       "2014-08-27 15:35:21    1\n",
       "2014-08-27 15:34:32    1\n",
       "2014-08-27 15:34:31    1\n",
       "2014-08-27 15:34:23    1\n",
       "2016-02-01 23:04:31    1\n",
       "Name: Timestamp, Length: 1246, dtype: int64"
      ]
     },
     "execution_count": 13,
     "metadata": {},
     "output_type": "execute_result"
    }
   ],
   "source": [
    "# Standardizing inconsistent values in columns\n",
    "\n",
    "# Timestamp\n",
    "df['Timestamp'].unique()\n",
    "df['Timestamp'].value_counts()"
   ]
  },
  {
   "cell_type": "code",
   "execution_count": 14,
   "id": "280414a9",
   "metadata": {},
   "outputs": [
    {
     "data": {
      "text/plain": [
       "array([         37,          44,          32,          31,          33,\n",
       "                35,          39,          42,          23,          29,\n",
       "                36,          27,          46,          41,          34,\n",
       "                30,          40,          38,          50,          24,\n",
       "                18,          28,          26,          22,          19,\n",
       "                25,          45,          21,         -29,          43,\n",
       "                56,          60,          54,         329,          55,\n",
       "       99999999999,          48,          20,          57,          58,\n",
       "                47,          62,          51,          65,          49,\n",
       "             -1726,           5,          53,          61,           8,\n",
       "                11,          -1,          72], dtype=int64)"
      ]
     },
     "execution_count": 14,
     "metadata": {},
     "output_type": "execute_result"
    }
   ],
   "source": [
    "# Age\n",
    "df['Age'].unique()"
   ]
  },
  {
   "cell_type": "code",
   "execution_count": 15,
   "id": "d5c6127f",
   "metadata": {},
   "outputs": [],
   "source": [
    "min_age = 18\n",
    "max_age = 120\n",
    "df['Age'] = df['Age'].apply(lambda x: x if min_age <= x <= max_age else np.nan)"
   ]
  },
  {
   "cell_type": "code",
   "execution_count": 16,
   "id": "8e1233d2",
   "metadata": {},
   "outputs": [
    {
     "data": {
      "text/plain": [
       "array([37., 44., 32., 31., 33., 35., 39., 42., 23., 29., 36., 27., 46.,\n",
       "       41., 34., 30., 40., 38., 50., 24., 18., 28., 26., 22., 19., 25.,\n",
       "       45., 21., nan, 43., 56., 60., 54., 55., 48., 20., 57., 58., 47.,\n",
       "       62., 51., 65., 49., 53., 61., 72.])"
      ]
     },
     "execution_count": 16,
     "metadata": {},
     "output_type": "execute_result"
    }
   ],
   "source": [
    "df['Age'].unique()\n",
    "\n",
    "# Remains numeric, and any invalid values will just be NaN\n",
    "# Skipped in calculations by default or can be filled with a statistic (mean, median, etc.) or can be dropped"
   ]
  },
  {
   "cell_type": "code",
   "execution_count": 17,
   "id": "7ae83a4f",
   "metadata": {
    "scrolled": true
   },
   "outputs": [
    {
     "data": {
      "text/plain": [
       "Male                                              615\n",
       "male                                              206\n",
       "Female                                            121\n",
       "M                                                 116\n",
       "female                                             62\n",
       "F                                                  38\n",
       "m                                                  34\n",
       "f                                                  15\n",
       "Make                                                4\n",
       "Male                                                3\n",
       "Woman                                               3\n",
       "Cis Male                                            2\n",
       "Man                                                 2\n",
       "Female (trans)                                      2\n",
       "Female                                              2\n",
       "Trans woman                                         1\n",
       "msle                                                1\n",
       "male leaning androgynous                            1\n",
       "Neuter                                              1\n",
       "cis male                                            1\n",
       "queer                                               1\n",
       "Female (cis)                                        1\n",
       "Mail                                                1\n",
       "cis-female/femme                                    1\n",
       "A little about you                                  1\n",
       "Malr                                                1\n",
       "p                                                   1\n",
       "femail                                              1\n",
       "Cis Man                                             1\n",
       "Guy (-ish) ^_^                                      1\n",
       "Enby                                                1\n",
       "Agender                                             1\n",
       "Androgyne                                           1\n",
       "Male-ish                                            1\n",
       "maile                                               1\n",
       "Trans-female                                        1\n",
       "Cis Female                                          1\n",
       "something kinda male?                               1\n",
       "Mal                                                 1\n",
       "Male (CIS)                                          1\n",
       "queer/she/they                                      1\n",
       "non-binary                                          1\n",
       "Femake                                              1\n",
       "woman                                               1\n",
       "Nah                                                 1\n",
       "All                                                 1\n",
       "fluid                                               1\n",
       "Genderqueer                                         1\n",
       "ostensibly male, unsure what that really means      1\n",
       "Name: Gender, dtype: int64"
      ]
     },
     "execution_count": 17,
     "metadata": {},
     "output_type": "execute_result"
    }
   ],
   "source": [
    "# Gender\n",
    "df['Gender'].unique()\n",
    "df['Gender'].value_counts()"
   ]
  },
  {
   "cell_type": "code",
   "execution_count": 18,
   "id": "2172342d",
   "metadata": {},
   "outputs": [],
   "source": [
    "gender_map = {\n",
    "    # Male variants\n",
    "    'male': 'Male', 'm': 'Male', 'man': 'Male', 'cis male': 'Male', 'cis man': 'Male',\n",
    "    'male ': 'Male', 'msle': 'Male', 'mal': 'Male', 'malr': 'Male', 'maile': 'Male',\n",
    "    'make': 'Male', 'mail': 'Male', 'male (cis)': 'Male', 'm ': 'Male', 'guy (-ish) ^_^': 'Male',\n",
    "    'male leaning androgynous': 'Male', 'ostensibly male, unsure what that really means': 'Male',\n",
    "    'male-ish': 'Male',\n",
    "\n",
    "    # Female variants\n",
    "    'female': 'Female', 'f': 'Female', 'woman': 'Female', 'cis female': 'Female',\n",
    "    'femake': 'Female', 'femail': 'Female', 'female ': 'Female', 'female (cis)': 'Female',\n",
    "    'female (trans)': 'Female', 'trans-female': 'Female', 'trans woman': 'Female',\n",
    "    'cis-female/femme': 'Female', 'cis female': 'Female', 'cisfemale': 'Female',\n",
    "\n",
    "    # Everything else\n",
    "    'queer': 'Other', 'non-binary': 'Other', 'enby': 'Other', 'agender': 'Other',\n",
    "    'androgyne': 'Other', 'genderqueer': 'Other', 'fluid': 'Other', 'nah': 'Other',\n",
    "    'all': 'Other', 'a little about you': 'Other', 'queer/she/they': 'Other',\n",
    "    'something kinda male?': 'Other', 'p': 'Other'\n",
    "}"
   ]
  },
  {
   "cell_type": "code",
   "execution_count": 19,
   "id": "bbdbb75c",
   "metadata": {},
   "outputs": [],
   "source": [
    "df['Gender'] = df['Gender'].str.strip().str.lower().map(gender_map).fillna('Other')"
   ]
  },
  {
   "cell_type": "code",
   "execution_count": 20,
   "id": "8302e17f",
   "metadata": {},
   "outputs": [
    {
     "data": {
      "text/plain": [
       "array(['Female', 'Male', 'Other'], dtype=object)"
      ]
     },
     "execution_count": 20,
     "metadata": {},
     "output_type": "execute_result"
    }
   ],
   "source": [
    "df['Gender'].unique()"
   ]
  },
  {
   "cell_type": "code",
   "execution_count": 21,
   "id": "c6f0029c",
   "metadata": {},
   "outputs": [
    {
     "data": {
      "text/plain": [
       "Male      994\n",
       "Female    251\n",
       "Other      14\n",
       "Name: Gender, dtype: int64"
      ]
     },
     "execution_count": 21,
     "metadata": {},
     "output_type": "execute_result"
    }
   ],
   "source": [
    "df['Gender'].value_counts()"
   ]
  },
  {
   "cell_type": "code",
   "execution_count": 22,
   "id": "92eaa8bd",
   "metadata": {},
   "outputs": [
    {
     "data": {
      "text/plain": [
       "United States             751\n",
       "United Kingdom            185\n",
       "Canada                     72\n",
       "Germany                    45\n",
       "Ireland                    27\n",
       "Netherlands                27\n",
       "Australia                  21\n",
       "France                     13\n",
       "India                      10\n",
       "New Zealand                 8\n",
       "Poland                      7\n",
       "Switzerland                 7\n",
       "Sweden                      7\n",
       "Italy                       7\n",
       "South Africa                6\n",
       "Belgium                     6\n",
       "Brazil                      6\n",
       "Israel                      5\n",
       "Singapore                   4\n",
       "Bulgaria                    4\n",
       "Austria                     3\n",
       "Finland                     3\n",
       "Mexico                      3\n",
       "Russia                      3\n",
       "Denmark                     2\n",
       "Greece                      2\n",
       "Colombia                    2\n",
       "Croatia                     2\n",
       "Portugal                    2\n",
       "Moldova                     1\n",
       "Georgia                     1\n",
       "Bahamas, The                1\n",
       "China                       1\n",
       "Thailand                    1\n",
       "Czech Republic              1\n",
       "Norway                      1\n",
       "Romania                     1\n",
       "Nigeria                     1\n",
       "Japan                       1\n",
       "Hungary                     1\n",
       "Bosnia and Herzegovina      1\n",
       "Uruguay                     1\n",
       "Spain                       1\n",
       "Zimbabwe                    1\n",
       "Latvia                      1\n",
       "Costa Rica                  1\n",
       "Slovenia                    1\n",
       "Philippines                 1\n",
       "Name: Country, dtype: int64"
      ]
     },
     "execution_count": 22,
     "metadata": {},
     "output_type": "execute_result"
    }
   ],
   "source": [
    "# Country\n",
    "df['Country'].unique()\n",
    "df['Country'].value_counts()"
   ]
  },
  {
   "cell_type": "code",
   "execution_count": 23,
   "id": "bd4752d6",
   "metadata": {},
   "outputs": [
    {
     "data": {
      "text/plain": [
       "Unknown    515\n",
       "CA         138\n",
       "WA          70\n",
       "NY          57\n",
       "TN          45\n",
       "TX          44\n",
       "OH          30\n",
       "IL          29\n",
       "OR          29\n",
       "PA          29\n",
       "IN          27\n",
       "MI          22\n",
       "MN          21\n",
       "MA          20\n",
       "FL          15\n",
       "NC          14\n",
       "VA          14\n",
       "WI          12\n",
       "GA          12\n",
       "MO          12\n",
       "UT          11\n",
       "CO           9\n",
       "MD           8\n",
       "AL           8\n",
       "AZ           7\n",
       "OK           6\n",
       "NJ           6\n",
       "KY           5\n",
       "SC           5\n",
       "IA           4\n",
       "CT           4\n",
       "DC           4\n",
       "NV           3\n",
       "VT           3\n",
       "SD           3\n",
       "KS           3\n",
       "NH           3\n",
       "WY           2\n",
       "NM           2\n",
       "NE           2\n",
       "WV           1\n",
       "ID           1\n",
       "MS           1\n",
       "RI           1\n",
       "LA           1\n",
       "ME           1\n",
       "Name: state, dtype: int64"
      ]
     },
     "execution_count": 23,
     "metadata": {},
     "output_type": "execute_result"
    }
   ],
   "source": [
    "# State\n",
    "df['state'].unique()\n",
    "df['state'].value_counts()\n",
    "\n",
    "# Note: \"Unknown\" records may be those who left this field empty in the survey, which could indicate they are not in the US"
   ]
  },
  {
   "cell_type": "code",
   "execution_count": 24,
   "id": "68907c2c",
   "metadata": {},
   "outputs": [
    {
     "data": {
      "text/plain": [
       "No         1095\n",
       "Yes         146\n",
       "Unknown      18\n",
       "Name: self_employed, dtype: int64"
      ]
     },
     "execution_count": 24,
     "metadata": {},
     "output_type": "execute_result"
    }
   ],
   "source": [
    "# self_employed\n",
    "df['self_employed'].unique()\n",
    "df['self_employed'].value_counts()"
   ]
  },
  {
   "cell_type": "code",
   "execution_count": 25,
   "id": "cc8141f9",
   "metadata": {},
   "outputs": [
    {
     "data": {
      "text/plain": [
       "No     767\n",
       "Yes    492\n",
       "Name: family_history, dtype: int64"
      ]
     },
     "execution_count": 25,
     "metadata": {},
     "output_type": "execute_result"
    }
   ],
   "source": [
    "# family_history\n",
    "df['family_history'].unique()\n",
    "df['family_history'].value_counts()"
   ]
  },
  {
   "cell_type": "code",
   "execution_count": 26,
   "id": "260df5c8",
   "metadata": {},
   "outputs": [
    {
     "data": {
      "text/plain": [
       "Yes    637\n",
       "No     622\n",
       "Name: treatment, dtype: int64"
      ]
     },
     "execution_count": 26,
     "metadata": {},
     "output_type": "execute_result"
    }
   ],
   "source": [
    "# treatment\n",
    "df['treatment'].unique()\n",
    "df['treatment'].value_counts()"
   ]
  },
  {
   "cell_type": "code",
   "execution_count": 27,
   "id": "9c1cc00a",
   "metadata": {},
   "outputs": [
    {
     "data": {
      "text/plain": [
       "Sometimes    465\n",
       "Unknown      264\n",
       "Never        213\n",
       "Rarely       173\n",
       "Often        144\n",
       "Name: work_interfere, dtype: int64"
      ]
     },
     "execution_count": 27,
     "metadata": {},
     "output_type": "execute_result"
    }
   ],
   "source": [
    "# work_interfere\n",
    "df['work_interfere'].unique()\n",
    "df['work_interfere'].value_counts()\n",
    "\n",
    "# Ordinal Categorical Variable"
   ]
  },
  {
   "cell_type": "code",
   "execution_count": 28,
   "id": "cdbafa9d",
   "metadata": {},
   "outputs": [
    {
     "data": {
      "text/plain": [
       "6-25              290\n",
       "26-100            289\n",
       "More than 1000    282\n",
       "100-500           176\n",
       "1-5               162\n",
       "500-1000           60\n",
       "Name: no_employees, dtype: int64"
      ]
     },
     "execution_count": 28,
     "metadata": {},
     "output_type": "execute_result"
    }
   ],
   "source": [
    "# no_employees\n",
    "df['no_employees'].unique()\n",
    "df['no_employees'].value_counts()\n",
    "\n",
    "# Ordinal Categorical Variable"
   ]
  },
  {
   "cell_type": "code",
   "execution_count": 29,
   "id": "308dfbbd",
   "metadata": {},
   "outputs": [
    {
     "data": {
      "text/plain": [
       "No     883\n",
       "Yes    376\n",
       "Name: remote_work, dtype: int64"
      ]
     },
     "execution_count": 29,
     "metadata": {},
     "output_type": "execute_result"
    }
   ],
   "source": [
    "# remote_work\n",
    "df['remote_work'].unique()\n",
    "df['remote_work'].value_counts()"
   ]
  },
  {
   "cell_type": "code",
   "execution_count": 30,
   "id": "f49d6337",
   "metadata": {},
   "outputs": [
    {
     "data": {
      "text/plain": [
       "Yes    1031\n",
       "No      228\n",
       "Name: tech_company, dtype: int64"
      ]
     },
     "execution_count": 30,
     "metadata": {},
     "output_type": "execute_result"
    }
   ],
   "source": [
    "# tech_company\n",
    "df['tech_company'].unique()\n",
    "df['tech_company'].value_counts()"
   ]
  },
  {
   "cell_type": "code",
   "execution_count": 31,
   "id": "659eb475",
   "metadata": {},
   "outputs": [
    {
     "data": {
      "text/plain": [
       "Yes           477\n",
       "Don't know    408\n",
       "No            374\n",
       "Name: benefits, dtype: int64"
      ]
     },
     "execution_count": 31,
     "metadata": {},
     "output_type": "execute_result"
    }
   ],
   "source": [
    "# benefits\n",
    "df['benefits'].unique()\n",
    "df['benefits'].value_counts()"
   ]
  },
  {
   "cell_type": "code",
   "execution_count": 32,
   "id": "1b6dbc10",
   "metadata": {},
   "outputs": [
    {
     "data": {
      "text/plain": [
       "No          501\n",
       "Yes         444\n",
       "Not sure    314\n",
       "Name: care_options, dtype: int64"
      ]
     },
     "execution_count": 32,
     "metadata": {},
     "output_type": "execute_result"
    }
   ],
   "source": [
    "# care_options\n",
    "df['care_options'].unique()\n",
    "df['care_options'].value_counts()"
   ]
  },
  {
   "cell_type": "code",
   "execution_count": 33,
   "id": "a2e198af",
   "metadata": {},
   "outputs": [
    {
     "data": {
      "text/plain": [
       "No            842\n",
       "Yes           229\n",
       "Don't know    188\n",
       "Name: wellness_program, dtype: int64"
      ]
     },
     "execution_count": 33,
     "metadata": {},
     "output_type": "execute_result"
    }
   ],
   "source": [
    "# wellness_program\n",
    "df['wellness_program'].unique()\n",
    "df['wellness_program'].value_counts()"
   ]
  },
  {
   "cell_type": "code",
   "execution_count": 34,
   "id": "9e987898",
   "metadata": {},
   "outputs": [
    {
     "data": {
      "text/plain": [
       "No            646\n",
       "Don't know    363\n",
       "Yes           250\n",
       "Name: seek_help, dtype: int64"
      ]
     },
     "execution_count": 34,
     "metadata": {},
     "output_type": "execute_result"
    }
   ],
   "source": [
    "# seek_help\n",
    "df['seek_help'].unique()\n",
    "df['seek_help'].value_counts()"
   ]
  },
  {
   "cell_type": "code",
   "execution_count": 35,
   "id": "7d2181da",
   "metadata": {},
   "outputs": [
    {
     "data": {
      "text/plain": [
       "Don't know    819\n",
       "Yes           375\n",
       "No             65\n",
       "Name: anonymity, dtype: int64"
      ]
     },
     "execution_count": 35,
     "metadata": {},
     "output_type": "execute_result"
    }
   ],
   "source": [
    "# anonymity\n",
    "df['anonymity'].unique()\n",
    "df['anonymity'].value_counts()"
   ]
  },
  {
   "cell_type": "code",
   "execution_count": 36,
   "id": "9b91b683",
   "metadata": {},
   "outputs": [
    {
     "data": {
      "text/plain": [
       "Don't know            563\n",
       "Somewhat easy         266\n",
       "Very easy             206\n",
       "Somewhat difficult    126\n",
       "Very difficult         98\n",
       "Name: leave, dtype: int64"
      ]
     },
     "execution_count": 36,
     "metadata": {},
     "output_type": "execute_result"
    }
   ],
   "source": [
    "# leave\n",
    "df['leave'].unique()\n",
    "df['leave'].value_counts()\n",
    "\n",
    "# Ordinal Categorical Variable"
   ]
  },
  {
   "cell_type": "code",
   "execution_count": 37,
   "id": "72c4e2c1",
   "metadata": {},
   "outputs": [
    {
     "data": {
      "text/plain": [
       "No       490\n",
       "Maybe    477\n",
       "Yes      292\n",
       "Name: mental_health_consequence, dtype: int64"
      ]
     },
     "execution_count": 37,
     "metadata": {},
     "output_type": "execute_result"
    }
   ],
   "source": [
    "# mental_health_consequence\n",
    "df['mental_health_consequence'].unique()\n",
    "df['mental_health_consequence'].value_counts()"
   ]
  },
  {
   "cell_type": "code",
   "execution_count": 38,
   "id": "5fa858cd",
   "metadata": {},
   "outputs": [
    {
     "data": {
      "text/plain": [
       "No       925\n",
       "Maybe    273\n",
       "Yes       61\n",
       "Name: phys_health_consequence, dtype: int64"
      ]
     },
     "execution_count": 38,
     "metadata": {},
     "output_type": "execute_result"
    }
   ],
   "source": [
    "# phys_health_consequence\n",
    "df['phys_health_consequence'].unique()\n",
    "df['phys_health_consequence'].value_counts()"
   ]
  },
  {
   "cell_type": "code",
   "execution_count": 39,
   "id": "bc6927cb",
   "metadata": {},
   "outputs": [
    {
     "data": {
      "text/plain": [
       "Some of them    774\n",
       "No              260\n",
       "Yes             225\n",
       "Name: coworkers, dtype: int64"
      ]
     },
     "execution_count": 39,
     "metadata": {},
     "output_type": "execute_result"
    }
   ],
   "source": [
    "# coworkers\n",
    "df['coworkers'].unique()\n",
    "df['coworkers'].value_counts()"
   ]
  },
  {
   "cell_type": "code",
   "execution_count": 40,
   "id": "b4fdaf5d",
   "metadata": {},
   "outputs": [
    {
     "data": {
      "text/plain": [
       "Yes             516\n",
       "No              393\n",
       "Some of them    350\n",
       "Name: supervisor, dtype: int64"
      ]
     },
     "execution_count": 40,
     "metadata": {},
     "output_type": "execute_result"
    }
   ],
   "source": [
    "# supervisor\n",
    "df['supervisor'].unique()\n",
    "df['supervisor'].value_counts()"
   ]
  },
  {
   "cell_type": "code",
   "execution_count": 41,
   "id": "2dfe2171",
   "metadata": {},
   "outputs": [
    {
     "data": {
      "text/plain": [
       "No       1008\n",
       "Maybe     207\n",
       "Yes        44\n",
       "Name: mental_health_interview, dtype: int64"
      ]
     },
     "execution_count": 41,
     "metadata": {},
     "output_type": "execute_result"
    }
   ],
   "source": [
    "# mental_health_interview\n",
    "df['mental_health_interview'].unique()\n",
    "df['mental_health_interview'].value_counts()"
   ]
  },
  {
   "cell_type": "code",
   "execution_count": 42,
   "id": "95abb48c",
   "metadata": {},
   "outputs": [
    {
     "data": {
      "text/plain": [
       "Maybe    557\n",
       "No       500\n",
       "Yes      202\n",
       "Name: phys_health_interview, dtype: int64"
      ]
     },
     "execution_count": 42,
     "metadata": {},
     "output_type": "execute_result"
    }
   ],
   "source": [
    "# phys_health_interview\n",
    "df['phys_health_interview'].unique()\n",
    "df['phys_health_interview'].value_counts()"
   ]
  },
  {
   "cell_type": "code",
   "execution_count": 43,
   "id": "5b9bf0cc",
   "metadata": {},
   "outputs": [
    {
     "data": {
      "text/plain": [
       "Don't know    576\n",
       "Yes           343\n",
       "No            340\n",
       "Name: mental_vs_physical, dtype: int64"
      ]
     },
     "execution_count": 43,
     "metadata": {},
     "output_type": "execute_result"
    }
   ],
   "source": [
    "# mental_vs_physical\n",
    "df['mental_vs_physical'].unique()\n",
    "df['mental_vs_physical'].value_counts()"
   ]
  },
  {
   "cell_type": "code",
   "execution_count": 44,
   "id": "64e5dc8d",
   "metadata": {},
   "outputs": [
    {
     "data": {
      "text/plain": [
       "No     1075\n",
       "Yes     184\n",
       "Name: obs_consequence, dtype: int64"
      ]
     },
     "execution_count": 44,
     "metadata": {},
     "output_type": "execute_result"
    }
   ],
   "source": [
    "# obs_consequence\n",
    "df['obs_consequence'].unique()\n",
    "df['obs_consequence'].value_counts()"
   ]
  },
  {
   "cell_type": "code",
   "execution_count": 45,
   "id": "9b681b4d",
   "metadata": {},
   "outputs": [
    {
     "data": {
      "text/plain": [
       "                                                                                                                                                                                                                                                                                                                                                                                                                                                                                                                                                                                                                                                                                               1095\n",
       "* Small family business - YMMV.                                                                                                                                                                                                                                                                                                                                                                                                                                                                                                                                                                                                                                                                   5\n",
       "(yes but the situation was unusual and involved a change in leadership at a very high level in the organization as well as an extended leave of absence)                                                                                                                                                                                                                                                                                                                                                                                                                                                                                                                                          1\n",
       "None of us who are already in marginal groups in tech--the non-young the non-male the non-white--will risk our careers to admit another source of stigma: poor health.                                                                                                                                                                                                                                                                                                                                                                                                                                                                                                                            1\n",
       "I have been incredibly public about my own struggle in my own conversations and in social media insofar as how I can use my depression to raise awareness or help others. Because of that my employer - or any future employer - kind of knows by default. It's not a secret. That said the downside of that openness is that I have no faith that I wouldn't be discriminated against at a future job simply because the information is public. Likewise I worry I'm seen as less-than by my employer in some circumstances. Regerdless I don't regret being public and raising awareness. My point is that even those of us who do publicly discuss the issue fear systemic retribution.        1\n",
       "                                                                                                                                                                                                                                                                                                                                                                                                                                                                                                                                                                                                                                                                                               ... \n",
       "In Germany your employer doesn't really provide mental health benefits. There's a standard and I get that but I would get the same at any other company in Germany.                                                                                                                                                                                                                                                                                                                                                                                                                                                                                                                               1\n",
       "fwiw I am a co founder of this company and the would you X in an interview questions shouldn't reflect how I would treat anyone addressing their own phys/mental health issue to me in such a situation.                                                                                                                                                                                                                                                                                                                                                                                                                                                                                          1\n",
       "I talked to a psychiatrist once about taking medical leave for mental health issues with his referral. He was willing to help but warned me that I may not want to as he's seen that sort of thing follow people throughout their tech careers (word gets out even if it's confidential at work). I've been terrified of bringing mental health up anywhere that coworkers or potential employers could see ever since.                                                                                                                                                                                                                                                                           1\n",
       "So much depends upon the organization.                                                                                                                                                                                                                                                                                                                                                                                                                                                                                                                                                                                                                                                            1\n",
       "Bipolar disorder                                                                                                                                                                                                                                                                                                                                                                                                                                                                                                                                                                                                                                                                                  1\n",
       "Name: comments, Length: 161, dtype: int64"
      ]
     },
     "execution_count": 45,
     "metadata": {},
     "output_type": "execute_result"
    }
   ],
   "source": [
    "# comments\n",
    "df['comments'].unique()\n",
    "df['comments'].value_counts()"
   ]
  },
  {
   "cell_type": "code",
   "execution_count": 46,
   "id": "6a65ec82",
   "metadata": {
    "scrolled": true
   },
   "outputs": [
    {
     "name": "stdout",
     "output_type": "stream",
     "text": [
      "Timestamp                     object\n",
      "Age                          float64\n",
      "Gender                        object\n",
      "Country                       object\n",
      "state                         object\n",
      "self_employed                 object\n",
      "family_history                object\n",
      "treatment                     object\n",
      "work_interfere                object\n",
      "no_employees                  object\n",
      "remote_work                   object\n",
      "tech_company                  object\n",
      "benefits                      object\n",
      "care_options                  object\n",
      "wellness_program              object\n",
      "seek_help                     object\n",
      "anonymity                     object\n",
      "leave                         object\n",
      "mental_health_consequence     object\n",
      "phys_health_consequence       object\n",
      "coworkers                     object\n",
      "supervisor                    object\n",
      "mental_health_interview       object\n",
      "phys_health_interview         object\n",
      "mental_vs_physical            object\n",
      "obs_consequence               object\n",
      "comments                      object\n",
      "dtype: object\n"
     ]
    }
   ],
   "source": [
    "print(df.dtypes)"
   ]
  },
  {
   "cell_type": "code",
   "execution_count": 47,
   "id": "293834f3",
   "metadata": {},
   "outputs": [
    {
     "name": "stdout",
     "output_type": "stream",
     "text": [
      "<class 'pandas.core.frame.DataFrame'>\n",
      "RangeIndex: 1259 entries, 0 to 1258\n",
      "Data columns (total 26 columns):\n",
      " #   Column                     Non-Null Count  Dtype  \n",
      "---  ------                     --------------  -----  \n",
      " 0   Age                        1251 non-null   float64\n",
      " 1   Gender                     1259 non-null   object \n",
      " 2   Country                    1259 non-null   object \n",
      " 3   state                      1259 non-null   object \n",
      " 4   self_employed              1259 non-null   object \n",
      " 5   family_history             1259 non-null   object \n",
      " 6   treatment                  1259 non-null   object \n",
      " 7   work_interfere             1259 non-null   object \n",
      " 8   no_employees               1259 non-null   object \n",
      " 9   remote_work                1259 non-null   object \n",
      " 10  tech_company               1259 non-null   object \n",
      " 11  benefits                   1259 non-null   object \n",
      " 12  care_options               1259 non-null   object \n",
      " 13  wellness_program           1259 non-null   object \n",
      " 14  seek_help                  1259 non-null   object \n",
      " 15  anonymity                  1259 non-null   object \n",
      " 16  leave                      1259 non-null   object \n",
      " 17  mental_health_consequence  1259 non-null   object \n",
      " 18  phys_health_consequence    1259 non-null   object \n",
      " 19  coworkers                  1259 non-null   object \n",
      " 20  supervisor                 1259 non-null   object \n",
      " 21  mental_health_interview    1259 non-null   object \n",
      " 22  phys_health_interview      1259 non-null   object \n",
      " 23  mental_vs_physical         1259 non-null   object \n",
      " 24  obs_consequence            1259 non-null   object \n",
      " 25  comments                   1259 non-null   object \n",
      "dtypes: float64(1), object(25)\n",
      "memory usage: 255.9+ KB\n"
     ]
    }
   ],
   "source": [
    "df = df.drop(columns=['Timestamp'])\n",
    "df.info()"
   ]
  },
  {
   "cell_type": "code",
   "execution_count": 48,
   "id": "57b49379",
   "metadata": {},
   "outputs": [
    {
     "name": "stdout",
     "output_type": "stream",
     "text": [
      "<class 'pandas.core.frame.DataFrame'>\n",
      "Int64Index: 1251 entries, 0 to 1258\n",
      "Data columns (total 26 columns):\n",
      " #   Column                     Non-Null Count  Dtype  \n",
      "---  ------                     --------------  -----  \n",
      " 0   Age                        1251 non-null   float64\n",
      " 1   Gender                     1251 non-null   object \n",
      " 2   Country                    1251 non-null   object \n",
      " 3   state                      1251 non-null   object \n",
      " 4   self_employed              1251 non-null   object \n",
      " 5   family_history             1251 non-null   object \n",
      " 6   treatment                  1251 non-null   object \n",
      " 7   work_interfere             1251 non-null   object \n",
      " 8   no_employees               1251 non-null   object \n",
      " 9   remote_work                1251 non-null   object \n",
      " 10  tech_company               1251 non-null   object \n",
      " 11  benefits                   1251 non-null   object \n",
      " 12  care_options               1251 non-null   object \n",
      " 13  wellness_program           1251 non-null   object \n",
      " 14  seek_help                  1251 non-null   object \n",
      " 15  anonymity                  1251 non-null   object \n",
      " 16  leave                      1251 non-null   object \n",
      " 17  mental_health_consequence  1251 non-null   object \n",
      " 18  phys_health_consequence    1251 non-null   object \n",
      " 19  coworkers                  1251 non-null   object \n",
      " 20  supervisor                 1251 non-null   object \n",
      " 21  mental_health_interview    1251 non-null   object \n",
      " 22  phys_health_interview      1251 non-null   object \n",
      " 23  mental_vs_physical         1251 non-null   object \n",
      " 24  obs_consequence            1251 non-null   object \n",
      " 25  comments                   1251 non-null   object \n",
      "dtypes: float64(1), object(25)\n",
      "memory usage: 263.9+ KB\n"
     ]
    }
   ],
   "source": [
    "df = df.dropna()\n",
    "df.info()"
   ]
  },
  {
   "cell_type": "code",
   "execution_count": 49,
   "id": "85168ccc",
   "metadata": {},
   "outputs": [],
   "source": [
    "df.to_csv(\"full_cleaned_tech_survey_with_unknown_not_encoded.csv\", index=False)"
   ]
  },
  {
   "cell_type": "code",
   "execution_count": 50,
   "id": "f5568cd2",
   "metadata": {},
   "outputs": [
    {
     "name": "stdout",
     "output_type": "stream",
     "text": [
      "Age                          0\n",
      "Gender                       0\n",
      "Country                      0\n",
      "state                        0\n",
      "self_employed                0\n",
      "family_history               0\n",
      "treatment                    0\n",
      "work_interfere               0\n",
      "no_employees                 0\n",
      "remote_work                  0\n",
      "tech_company                 0\n",
      "benefits                     0\n",
      "care_options                 0\n",
      "wellness_program             0\n",
      "seek_help                    0\n",
      "anonymity                    0\n",
      "leave                        0\n",
      "mental_health_consequence    0\n",
      "phys_health_consequence      0\n",
      "coworkers                    0\n",
      "supervisor                   0\n",
      "mental_health_interview      0\n",
      "phys_health_interview        0\n",
      "mental_vs_physical           0\n",
      "obs_consequence              0\n",
      "comments                     0\n",
      "dtype: int64\n"
     ]
    }
   ],
   "source": [
    "print(df.isnull().sum())"
   ]
  },
  {
   "cell_type": "code",
   "execution_count": 51,
   "id": "860358e2",
   "metadata": {},
   "outputs": [],
   "source": [
    "# Object type variables need to be encoded because decision tree models require numerical values to make splits based on thresholds.\n",
    "# Timestamp and comments were not encoded\n",
    "# Timestamp can be dropped or encoded into separate numeric features if needed\n",
    "# Comments can be dropped or encoded into binary incidating if the person did leave a comment or not.\n",
    "\n",
    "# Create a binary column indicating if a comment was provided\n",
    "df['comments_binary'] = df['comments'].apply(lambda x: 1 if pd.notnull(x) and x.strip() != '' else 0)\n",
    "\n",
    "# Drop the 'comments' column as it is now represented by 'comment_provided'\n",
    "df.drop(columns=['comments'], inplace=True)\n",
    "\n",
    "# Map ordinal categorical variables to numeric values\n",
    "work_interfere_map = {\n",
    "    'Never': 0,\n",
    "    'Rarely': 1,\n",
    "    'Sometimes': 2,\n",
    "    'Often': 3,\n",
    "    'Unknown': -1\n",
    "}\n",
    "\n",
    "df['work_interfere'] = df['work_interfere'].map(work_interfere_map)\n",
    "\n",
    "no_employees_map = {\n",
    "    '1-5': 1,\n",
    "    '6-25': 2,\n",
    "    '26-100': 3,\n",
    "    '100-500': 4,\n",
    "    '500-1000': 5,\n",
    "    'More than 1000': 6\n",
    "}\n",
    "\n",
    "df['no_employees'] = df['no_employees'].map(no_employees_map)\n",
    "\n",
    "leave_map = {\n",
    "    'Very easy': 0,\n",
    "    'Somewhat easy': 1,\n",
    "    'Somewhat difficult': 2,\n",
    "    'Very difficult': 3,\n",
    "    'Don\\'t know': -1\n",
    "}\n",
    "\n",
    "df['leave'] = df['leave'].map(leave_map)\n",
    "\n",
    "\n",
    "# For nominal categorical variables, one-hot encoding.\n",
    "nominal_features = ['Gender', 'Country', 'state', 'self_employed', 'family_history', 'remote_work',\n",
    "                    'tech_company', 'benefits', 'care_options', 'wellness_program', 'seek_help', 'anonymity',\n",
    "                    'mental_health_consequence', 'phys_health_consequence', 'coworkers', 'supervisor', \n",
    "                    'mental_health_interview', 'phys_health_interview', 'mental_vs_physical', 'obs_consequence']\n",
    "\n",
    "df_encoded_nominal = pd.get_dummies(df[nominal_features], drop_first=False)\n",
    "df = pd.concat([df, df_encoded_nominal], axis=1)\n",
    "df.drop(columns=nominal_features, inplace=True)"
   ]
  },
  {
   "cell_type": "code",
   "execution_count": 52,
   "id": "c5110be1",
   "metadata": {},
   "outputs": [
    {
     "name": "stdout",
     "output_type": "stream",
     "text": [
      "Index(['Age', 'treatment', 'work_interfere', 'no_employees', 'leave',\n",
      "       'comments_binary', 'Gender_Female', 'Gender_Male', 'Gender_Other',\n",
      "       'Country_Australia',\n",
      "       ...\n",
      "       'mental_health_interview_No', 'mental_health_interview_Yes',\n",
      "       'phys_health_interview_Maybe', 'phys_health_interview_No',\n",
      "       'phys_health_interview_Yes', 'mental_vs_physical_Don't know',\n",
      "       'mental_vs_physical_No', 'mental_vs_physical_Yes', 'obs_consequence_No',\n",
      "       'obs_consequence_Yes'],\n",
      "      dtype='object', length=148)\n"
     ]
    }
   ],
   "source": [
    "# Check column names in the DataFrame\n",
    "print(df.columns)"
   ]
  },
  {
   "cell_type": "code",
   "execution_count": 53,
   "id": "cd75b32c",
   "metadata": {},
   "outputs": [
    {
     "name": "stdout",
     "output_type": "stream",
     "text": [
      "<class 'pandas.core.frame.DataFrame'>\n",
      "Int64Index: 1251 entries, 0 to 1258\n",
      "Columns: 148 entries, Age to obs_consequence_Yes\n",
      "dtypes: float64(1), int64(4), object(1), uint8(142)\n",
      "memory usage: 241.9+ KB\n"
     ]
    }
   ],
   "source": [
    "df.info()"
   ]
  },
  {
   "cell_type": "code",
   "execution_count": 54,
   "id": "63f8cbed",
   "metadata": {
    "scrolled": true
   },
   "outputs": [
    {
     "data": {
      "text/html": [
       "<div>\n",
       "<style scoped>\n",
       "    .dataframe tbody tr th:only-of-type {\n",
       "        vertical-align: middle;\n",
       "    }\n",
       "\n",
       "    .dataframe tbody tr th {\n",
       "        vertical-align: top;\n",
       "    }\n",
       "\n",
       "    .dataframe thead th {\n",
       "        text-align: right;\n",
       "    }\n",
       "</style>\n",
       "<table border=\"1\" class=\"dataframe\">\n",
       "  <thead>\n",
       "    <tr style=\"text-align: right;\">\n",
       "      <th></th>\n",
       "      <th>Age</th>\n",
       "      <th>treatment</th>\n",
       "      <th>work_interfere</th>\n",
       "      <th>no_employees</th>\n",
       "      <th>leave</th>\n",
       "      <th>comments_binary</th>\n",
       "      <th>Gender_Female</th>\n",
       "      <th>Gender_Male</th>\n",
       "      <th>Gender_Other</th>\n",
       "      <th>Country_Australia</th>\n",
       "      <th>...</th>\n",
       "      <th>mental_health_interview_No</th>\n",
       "      <th>mental_health_interview_Yes</th>\n",
       "      <th>phys_health_interview_Maybe</th>\n",
       "      <th>phys_health_interview_No</th>\n",
       "      <th>phys_health_interview_Yes</th>\n",
       "      <th>mental_vs_physical_Don't know</th>\n",
       "      <th>mental_vs_physical_No</th>\n",
       "      <th>mental_vs_physical_Yes</th>\n",
       "      <th>obs_consequence_No</th>\n",
       "      <th>obs_consequence_Yes</th>\n",
       "    </tr>\n",
       "  </thead>\n",
       "  <tbody>\n",
       "    <tr>\n",
       "      <th>0</th>\n",
       "      <td>37.0</td>\n",
       "      <td>Yes</td>\n",
       "      <td>3</td>\n",
       "      <td>2</td>\n",
       "      <td>1</td>\n",
       "      <td>0</td>\n",
       "      <td>1</td>\n",
       "      <td>0</td>\n",
       "      <td>0</td>\n",
       "      <td>0</td>\n",
       "      <td>...</td>\n",
       "      <td>1</td>\n",
       "      <td>0</td>\n",
       "      <td>1</td>\n",
       "      <td>0</td>\n",
       "      <td>0</td>\n",
       "      <td>0</td>\n",
       "      <td>0</td>\n",
       "      <td>1</td>\n",
       "      <td>1</td>\n",
       "      <td>0</td>\n",
       "    </tr>\n",
       "    <tr>\n",
       "      <th>1</th>\n",
       "      <td>44.0</td>\n",
       "      <td>No</td>\n",
       "      <td>1</td>\n",
       "      <td>6</td>\n",
       "      <td>-1</td>\n",
       "      <td>0</td>\n",
       "      <td>0</td>\n",
       "      <td>1</td>\n",
       "      <td>0</td>\n",
       "      <td>0</td>\n",
       "      <td>...</td>\n",
       "      <td>1</td>\n",
       "      <td>0</td>\n",
       "      <td>0</td>\n",
       "      <td>1</td>\n",
       "      <td>0</td>\n",
       "      <td>1</td>\n",
       "      <td>0</td>\n",
       "      <td>0</td>\n",
       "      <td>1</td>\n",
       "      <td>0</td>\n",
       "    </tr>\n",
       "    <tr>\n",
       "      <th>2</th>\n",
       "      <td>32.0</td>\n",
       "      <td>No</td>\n",
       "      <td>1</td>\n",
       "      <td>2</td>\n",
       "      <td>2</td>\n",
       "      <td>0</td>\n",
       "      <td>0</td>\n",
       "      <td>1</td>\n",
       "      <td>0</td>\n",
       "      <td>0</td>\n",
       "      <td>...</td>\n",
       "      <td>0</td>\n",
       "      <td>1</td>\n",
       "      <td>0</td>\n",
       "      <td>0</td>\n",
       "      <td>1</td>\n",
       "      <td>0</td>\n",
       "      <td>1</td>\n",
       "      <td>0</td>\n",
       "      <td>1</td>\n",
       "      <td>0</td>\n",
       "    </tr>\n",
       "    <tr>\n",
       "      <th>3</th>\n",
       "      <td>31.0</td>\n",
       "      <td>Yes</td>\n",
       "      <td>3</td>\n",
       "      <td>3</td>\n",
       "      <td>2</td>\n",
       "      <td>0</td>\n",
       "      <td>0</td>\n",
       "      <td>1</td>\n",
       "      <td>0</td>\n",
       "      <td>0</td>\n",
       "      <td>...</td>\n",
       "      <td>0</td>\n",
       "      <td>0</td>\n",
       "      <td>1</td>\n",
       "      <td>0</td>\n",
       "      <td>0</td>\n",
       "      <td>0</td>\n",
       "      <td>1</td>\n",
       "      <td>0</td>\n",
       "      <td>0</td>\n",
       "      <td>1</td>\n",
       "    </tr>\n",
       "    <tr>\n",
       "      <th>4</th>\n",
       "      <td>31.0</td>\n",
       "      <td>No</td>\n",
       "      <td>0</td>\n",
       "      <td>4</td>\n",
       "      <td>-1</td>\n",
       "      <td>0</td>\n",
       "      <td>0</td>\n",
       "      <td>1</td>\n",
       "      <td>0</td>\n",
       "      <td>0</td>\n",
       "      <td>...</td>\n",
       "      <td>0</td>\n",
       "      <td>1</td>\n",
       "      <td>0</td>\n",
       "      <td>0</td>\n",
       "      <td>1</td>\n",
       "      <td>1</td>\n",
       "      <td>0</td>\n",
       "      <td>0</td>\n",
       "      <td>1</td>\n",
       "      <td>0</td>\n",
       "    </tr>\n",
       "  </tbody>\n",
       "</table>\n",
       "<p>5 rows × 148 columns</p>\n",
       "</div>"
      ],
      "text/plain": [
       "    Age treatment  work_interfere  no_employees  leave  comments_binary  \\\n",
       "0  37.0       Yes               3             2      1                0   \n",
       "1  44.0        No               1             6     -1                0   \n",
       "2  32.0        No               1             2      2                0   \n",
       "3  31.0       Yes               3             3      2                0   \n",
       "4  31.0        No               0             4     -1                0   \n",
       "\n",
       "   Gender_Female  Gender_Male  Gender_Other  Country_Australia  ...  \\\n",
       "0              1            0             0                  0  ...   \n",
       "1              0            1             0                  0  ...   \n",
       "2              0            1             0                  0  ...   \n",
       "3              0            1             0                  0  ...   \n",
       "4              0            1             0                  0  ...   \n",
       "\n",
       "   mental_health_interview_No  mental_health_interview_Yes  \\\n",
       "0                           1                            0   \n",
       "1                           1                            0   \n",
       "2                           0                            1   \n",
       "3                           0                            0   \n",
       "4                           0                            1   \n",
       "\n",
       "   phys_health_interview_Maybe  phys_health_interview_No  \\\n",
       "0                            1                         0   \n",
       "1                            0                         1   \n",
       "2                            0                         0   \n",
       "3                            1                         0   \n",
       "4                            0                         0   \n",
       "\n",
       "   phys_health_interview_Yes  mental_vs_physical_Don't know  \\\n",
       "0                          0                              0   \n",
       "1                          0                              1   \n",
       "2                          1                              0   \n",
       "3                          0                              0   \n",
       "4                          1                              1   \n",
       "\n",
       "   mental_vs_physical_No  mental_vs_physical_Yes  obs_consequence_No  \\\n",
       "0                      0                       1                   1   \n",
       "1                      0                       0                   1   \n",
       "2                      1                       0                   1   \n",
       "3                      1                       0                   0   \n",
       "4                      0                       0                   1   \n",
       "\n",
       "   obs_consequence_Yes  \n",
       "0                    0  \n",
       "1                    0  \n",
       "2                    0  \n",
       "3                    1  \n",
       "4                    0  \n",
       "\n",
       "[5 rows x 148 columns]"
      ]
     },
     "execution_count": 54,
     "metadata": {},
     "output_type": "execute_result"
    }
   ],
   "source": [
    "df.head()"
   ]
  },
  {
   "cell_type": "code",
   "execution_count": 55,
   "id": "4398edb8",
   "metadata": {},
   "outputs": [],
   "source": [
    "df['treatment'] = df['treatment'].map({'Yes': 1, 'No': 0})"
   ]
  },
  {
   "cell_type": "code",
   "execution_count": 56,
   "id": "afc104ec",
   "metadata": {},
   "outputs": [],
   "source": [
    "# Saving full cleaned, encoded dataset to csv file that can be used for modeling\n",
    "df.to_csv(\"full_cleaned_tech_survey_with_unknown.csv\", index=False)"
   ]
  },
  {
   "cell_type": "code",
   "execution_count": 57,
   "id": "68dacd51",
   "metadata": {},
   "outputs": [
    {
     "name": "stdout",
     "output_type": "stream",
     "text": [
      "<class 'pandas.core.frame.DataFrame'>\n",
      "RangeIndex: 1251 entries, 0 to 1250\n",
      "Columns: 147 entries, Age to obs_consequence_Yes\n",
      "dtypes: float64(147)\n",
      "memory usage: 1.4 MB\n"
     ]
    }
   ],
   "source": [
    "# Scaled version of that encoded dataset, for K-Means clustering\n",
    "\n",
    "from sklearn.preprocessing import StandardScaler\n",
    "\n",
    "df_encoded = pd.read_csv(\"full_cleaned_tech_survey_with_unknown.csv\")\n",
    "X = df_encoded.drop(columns = ['treatment'])\n",
    "\n",
    "# Scale all the numeric features using StandardScaler\n",
    "scaler = StandardScaler()\n",
    "df_encoded_scaled = pd.DataFrame(scaler.fit_transform(X), columns=X.columns)\n",
    "\n",
    "# Saving the scaled dataset for K-Means clustering\n",
    "df_encoded_scaled.to_csv(\"full_cleaned_tech_survey_scaled_with_unknown.csv\", index=False)\n",
    "df_encoded_scaled.info()"
   ]
  },
  {
   "cell_type": "code",
   "execution_count": 58,
   "id": "3d41e21f",
   "metadata": {},
   "outputs": [
    {
     "data": {
      "text/html": [
       "<div>\n",
       "<style scoped>\n",
       "    .dataframe tbody tr th:only-of-type {\n",
       "        vertical-align: middle;\n",
       "    }\n",
       "\n",
       "    .dataframe tbody tr th {\n",
       "        vertical-align: top;\n",
       "    }\n",
       "\n",
       "    .dataframe thead th {\n",
       "        text-align: right;\n",
       "    }\n",
       "</style>\n",
       "<table border=\"1\" class=\"dataframe\">\n",
       "  <thead>\n",
       "    <tr style=\"text-align: right;\">\n",
       "      <th></th>\n",
       "      <th>Age</th>\n",
       "      <th>work_interfere</th>\n",
       "      <th>no_employees</th>\n",
       "      <th>leave</th>\n",
       "      <th>comments_binary</th>\n",
       "      <th>Gender_Female</th>\n",
       "      <th>Gender_Male</th>\n",
       "      <th>Gender_Other</th>\n",
       "      <th>Country_Australia</th>\n",
       "      <th>Country_Austria</th>\n",
       "      <th>...</th>\n",
       "      <th>mental_health_interview_No</th>\n",
       "      <th>mental_health_interview_Yes</th>\n",
       "      <th>phys_health_interview_Maybe</th>\n",
       "      <th>phys_health_interview_No</th>\n",
       "      <th>phys_health_interview_Yes</th>\n",
       "      <th>mental_vs_physical_Don't know</th>\n",
       "      <th>mental_vs_physical_No</th>\n",
       "      <th>mental_vs_physical_Yes</th>\n",
       "      <th>obs_consequence_No</th>\n",
       "      <th>obs_consequence_Yes</th>\n",
       "    </tr>\n",
       "  </thead>\n",
       "  <tbody>\n",
       "    <tr>\n",
       "      <th>0</th>\n",
       "      <td>0.675775</td>\n",
       "      <td>1.475450</td>\n",
       "      <td>-0.836258</td>\n",
       "      <td>0.613264</td>\n",
       "      <td>-0.384326</td>\n",
       "      <td>1.996012</td>\n",
       "      <td>-1.942887</td>\n",
       "      <td>-0.094186</td>\n",
       "      <td>-0.130664</td>\n",
       "      <td>-0.049029</td>\n",
       "      <td>...</td>\n",
       "      <td>0.497251</td>\n",
       "      <td>-0.184077</td>\n",
       "      <td>1.119846</td>\n",
       "      <td>-0.810527</td>\n",
       "      <td>-0.436228</td>\n",
       "      <td>-0.920792</td>\n",
       "      <td>-0.608447</td>\n",
       "      <td>1.640203</td>\n",
       "      <td>0.411289</td>\n",
       "      <td>-0.411289</td>\n",
       "    </tr>\n",
       "    <tr>\n",
       "      <th>1</th>\n",
       "      <td>1.636606</td>\n",
       "      <td>-0.004733</td>\n",
       "      <td>1.509389</td>\n",
       "      <td>-0.911971</td>\n",
       "      <td>-0.384326</td>\n",
       "      <td>-0.500999</td>\n",
       "      <td>0.514698</td>\n",
       "      <td>-0.094186</td>\n",
       "      <td>-0.130664</td>\n",
       "      <td>-0.049029</td>\n",
       "      <td>...</td>\n",
       "      <td>0.497251</td>\n",
       "      <td>-0.184077</td>\n",
       "      <td>-0.892980</td>\n",
       "      <td>1.233766</td>\n",
       "      <td>-0.436228</td>\n",
       "      <td>1.086021</td>\n",
       "      <td>-0.608447</td>\n",
       "      <td>-0.609681</td>\n",
       "      <td>0.411289</td>\n",
       "      <td>-0.411289</td>\n",
       "    </tr>\n",
       "    <tr>\n",
       "      <th>2</th>\n",
       "      <td>-0.010533</td>\n",
       "      <td>-0.004733</td>\n",
       "      <td>-0.836258</td>\n",
       "      <td>1.375881</td>\n",
       "      <td>-0.384326</td>\n",
       "      <td>-0.500999</td>\n",
       "      <td>0.514698</td>\n",
       "      <td>-0.094186</td>\n",
       "      <td>-0.130664</td>\n",
       "      <td>-0.049029</td>\n",
       "      <td>...</td>\n",
       "      <td>-2.011058</td>\n",
       "      <td>5.432513</td>\n",
       "      <td>-0.892980</td>\n",
       "      <td>-0.810527</td>\n",
       "      <td>2.292379</td>\n",
       "      <td>-0.920792</td>\n",
       "      <td>1.643528</td>\n",
       "      <td>-0.609681</td>\n",
       "      <td>0.411289</td>\n",
       "      <td>-0.411289</td>\n",
       "    </tr>\n",
       "    <tr>\n",
       "      <th>3</th>\n",
       "      <td>-0.147795</td>\n",
       "      <td>1.475450</td>\n",
       "      <td>-0.249846</td>\n",
       "      <td>1.375881</td>\n",
       "      <td>-0.384326</td>\n",
       "      <td>-0.500999</td>\n",
       "      <td>0.514698</td>\n",
       "      <td>-0.094186</td>\n",
       "      <td>-0.130664</td>\n",
       "      <td>-0.049029</td>\n",
       "      <td>...</td>\n",
       "      <td>-2.011058</td>\n",
       "      <td>-0.184077</td>\n",
       "      <td>1.119846</td>\n",
       "      <td>-0.810527</td>\n",
       "      <td>-0.436228</td>\n",
       "      <td>-0.920792</td>\n",
       "      <td>1.643528</td>\n",
       "      <td>-0.609681</td>\n",
       "      <td>-2.431379</td>\n",
       "      <td>2.431379</td>\n",
       "    </tr>\n",
       "    <tr>\n",
       "      <th>4</th>\n",
       "      <td>-0.147795</td>\n",
       "      <td>-0.744824</td>\n",
       "      <td>0.336566</td>\n",
       "      <td>-0.911971</td>\n",
       "      <td>-0.384326</td>\n",
       "      <td>-0.500999</td>\n",
       "      <td>0.514698</td>\n",
       "      <td>-0.094186</td>\n",
       "      <td>-0.130664</td>\n",
       "      <td>-0.049029</td>\n",
       "      <td>...</td>\n",
       "      <td>-2.011058</td>\n",
       "      <td>5.432513</td>\n",
       "      <td>-0.892980</td>\n",
       "      <td>-0.810527</td>\n",
       "      <td>2.292379</td>\n",
       "      <td>1.086021</td>\n",
       "      <td>-0.608447</td>\n",
       "      <td>-0.609681</td>\n",
       "      <td>0.411289</td>\n",
       "      <td>-0.411289</td>\n",
       "    </tr>\n",
       "  </tbody>\n",
       "</table>\n",
       "<p>5 rows × 147 columns</p>\n",
       "</div>"
      ],
      "text/plain": [
       "        Age  work_interfere  no_employees     leave  comments_binary  \\\n",
       "0  0.675775        1.475450     -0.836258  0.613264        -0.384326   \n",
       "1  1.636606       -0.004733      1.509389 -0.911971        -0.384326   \n",
       "2 -0.010533       -0.004733     -0.836258  1.375881        -0.384326   \n",
       "3 -0.147795        1.475450     -0.249846  1.375881        -0.384326   \n",
       "4 -0.147795       -0.744824      0.336566 -0.911971        -0.384326   \n",
       "\n",
       "   Gender_Female  Gender_Male  Gender_Other  Country_Australia  \\\n",
       "0       1.996012    -1.942887     -0.094186          -0.130664   \n",
       "1      -0.500999     0.514698     -0.094186          -0.130664   \n",
       "2      -0.500999     0.514698     -0.094186          -0.130664   \n",
       "3      -0.500999     0.514698     -0.094186          -0.130664   \n",
       "4      -0.500999     0.514698     -0.094186          -0.130664   \n",
       "\n",
       "   Country_Austria  ...  mental_health_interview_No  \\\n",
       "0        -0.049029  ...                    0.497251   \n",
       "1        -0.049029  ...                    0.497251   \n",
       "2        -0.049029  ...                   -2.011058   \n",
       "3        -0.049029  ...                   -2.011058   \n",
       "4        -0.049029  ...                   -2.011058   \n",
       "\n",
       "   mental_health_interview_Yes  phys_health_interview_Maybe  \\\n",
       "0                    -0.184077                     1.119846   \n",
       "1                    -0.184077                    -0.892980   \n",
       "2                     5.432513                    -0.892980   \n",
       "3                    -0.184077                     1.119846   \n",
       "4                     5.432513                    -0.892980   \n",
       "\n",
       "   phys_health_interview_No  phys_health_interview_Yes  \\\n",
       "0                 -0.810527                  -0.436228   \n",
       "1                  1.233766                  -0.436228   \n",
       "2                 -0.810527                   2.292379   \n",
       "3                 -0.810527                  -0.436228   \n",
       "4                 -0.810527                   2.292379   \n",
       "\n",
       "   mental_vs_physical_Don't know  mental_vs_physical_No  \\\n",
       "0                      -0.920792              -0.608447   \n",
       "1                       1.086021              -0.608447   \n",
       "2                      -0.920792               1.643528   \n",
       "3                      -0.920792               1.643528   \n",
       "4                       1.086021              -0.608447   \n",
       "\n",
       "   mental_vs_physical_Yes  obs_consequence_No  obs_consequence_Yes  \n",
       "0                1.640203            0.411289            -0.411289  \n",
       "1               -0.609681            0.411289            -0.411289  \n",
       "2               -0.609681            0.411289            -0.411289  \n",
       "3               -0.609681           -2.431379             2.431379  \n",
       "4               -0.609681            0.411289            -0.411289  \n",
       "\n",
       "[5 rows x 147 columns]"
      ]
     },
     "execution_count": 58,
     "metadata": {},
     "output_type": "execute_result"
    }
   ],
   "source": [
    "# Scaled dataset shows that each numerical value has been transformed using standardization (z-score scaling)\n",
    "# Each feature (column) was scaled so the mean of each feature is 0 and std dev is 1\n",
    "df_encoded_scaled.head()"
   ]
  }
 ],
 "metadata": {
  "kernelspec": {
   "display_name": "Python 3 (ipykernel)",
   "language": "python",
   "name": "python3"
  },
  "language_info": {
   "codemirror_mode": {
    "name": "ipython",
    "version": 3
   },
   "file_extension": ".py",
   "mimetype": "text/x-python",
   "name": "python",
   "nbconvert_exporter": "python",
   "pygments_lexer": "ipython3",
   "version": "3.11.4"
  }
 },
 "nbformat": 4,
 "nbformat_minor": 5
}
